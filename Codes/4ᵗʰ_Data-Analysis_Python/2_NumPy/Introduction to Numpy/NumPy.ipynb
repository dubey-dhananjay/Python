{
 "cells": [
  {
   "cell_type": "markdown",
   "id": "9abbc27d-b144-4e00-a8dc-c80d2003d5f5",
   "metadata": {},
   "source": [
    "# Introduction"
   ]
  },
  {
   "cell_type": "raw",
   "id": "2b8cbbbd-088d-4cd7-82b8-c4e3c3d040b1",
   "metadata": {},
   "source": [
    "NumPy stands for ‘Numerical Python’. \n",
    "It is a package for data analysis and scientific computing with Python.\n",
    "NumPy uses a multidimensional array object, and has functions and tools for working with these arrays. \n",
    "The powerful n-dimensional array in NumPy speeds-up data processing.\n",
    "\n",
    "History:\n",
    "NumPy was created by Travis Oliphant in 2005, while he was a graduate student at the Mayo Clinic."
   ]
  },
  {
   "cell_type": "markdown",
   "id": "590389eb-c981-4e25-b900-cdbd9c3b5acb",
   "metadata": {},
   "source": [
    "# Installing NumPy"
   ]
  },
  {
   "cell_type": "raw",
   "id": "a076fbab-f428-4c27-88ed-3c047b037d5e",
   "metadata": {},
   "source": [
    "NumPy can be installed by typing following command:\n",
    "pip install NumPy "
   ]
  },
  {
   "cell_type": "markdown",
   "id": "1d0eb2f8-c4fe-4acd-afe4-59f52f0a9083",
   "metadata": {},
   "source": [
    "# Array"
   ]
  },
  {
   "cell_type": "markdown",
   "id": "6aafd453-5b1b-4c5b-8343-17f5bd243a90",
   "metadata": {},
   "source": [
    "We have learnt about various data types like list, tuple, and dictionary. \n",
    "In this chapter we will discuss another datatype ‘Array’. \n",
    "An array is a data type used to store multiple values using a single identifier (variable name).\n",
    "An array contains an ordered collection of data elements where each element is of the same type and can be referenced by its index (position).\n",
    "The important characteristics of an array are:\n",
    "\n",
    "Each element of the array is of same data type, though the values stored in them may be \n",
    "differet.n\n",
    "\n",
    "The entire array is stored contiguously in\n",
    "memory. This makes operations on array fas.t\n",
    "\n",
    "Each element of the array is identified or\n",
    "referred using the name of the Array along wit\r\n",
    "the index of that element, which is unique f \r\n",
    "each eleen\n",
    "\n",
    "t. The index of an element isn \r\n",
    "integral value associated with the elemt, \r\n",
    "based on the element’s position in the array."
   ]
  },
  {
   "cell_type": "markdown",
   "id": "c0f810ea-4edd-48aa-b903-8afb525a2b1c",
   "metadata": {},
   "source": [
    "# Difference Between List and Array"
   ]
  },
  {
   "cell_type": "raw",
   "id": "86e605fb-eff4-4228-97c4-0f7cab156fdb",
   "metadata": {},
   "source": [
    "List\n",
    "\n",
    "List can have elements of different data types for example, [1,3.4, ‘hello’, ‘a@’]\n",
    "Elements of a list are not stored contiguously in memory.\n",
    "Lists do not support element wise operations, for example, addition, multiplication, etc. \r\n",
    "because elements may not be of same tye.p\n",
    "Lists can contain objects of different\n",
    "datatype that Python must store the typ \r\n",
    "information for every element along with i \r\n",
    "element vlu\n",
    "\n",
    "e. Thus lists take more spe \r\n",
    "in memory and are less effici\n",
    "List is a part of core Python.\n",
    "\n",
    "\n",
    "Array\n",
    "\n",
    "All elements of an array are of same data type for example, an array of floats may be: [1.2, 5.4, 2.7]\n",
    "Array elements are stored in contiguous memory locations. \n",
    "This makes operations on arrays faster than lists.\n",
    "Arrays support element wise operations. For example, if A1 is an array, it is possible to say A1/3 to divide each element of the array by 3.\n",
    "NumPy array takes up less space in memory as compared to a list because arrays do not require to store datatype of each element separately.\n",
    "Array (ndarray) is a part of NumPy library.ble>"
   ]
  },
  {
   "cell_type": "markdown",
   "id": "7984d585-18a3-4c04-971e-7f742049b3d0",
   "metadata": {},
   "source": [
    "# Creation of NumPy Arrays from List"
   ]
  },
  {
   "cell_type": "code",
   "execution_count": 1,
   "id": "28042c83-aa1e-4477-8e82-49095988e5e0",
   "metadata": {},
   "outputs": [],
   "source": [
    "# There are several ways to create arrays. To create an array and to use its methods, first we need to import the NumPy library.\n",
    "\n",
    "import numpy as np\n",
    "# NumPy is loaded as np (we can assign any name), numpy must be written in lowercase"
   ]
  },
  {
   "cell_type": "code",
   "execution_count": 3,
   "id": "e88b9abc-4cdc-4d54-b68d-2c391e7fbe44",
   "metadata": {},
   "outputs": [
    {
     "data": {
      "text/plain": [
       "array([10, 20, 30])"
      ]
     },
     "execution_count": 3,
     "metadata": {},
     "output_type": "execute_result"
    }
   ],
   "source": [
    "# The NumPy’s array() function converts a given list into an array.\n",
    "\n",
    "array = np.array([10, 20, 30])\n",
    "array"
   ]
  },
  {
   "cell_type": "markdown",
   "id": "74d769bd-4062-43ce-b613-d700a9f3eb24",
   "metadata": {},
   "source": [
    "# Creating a Zero-Dimensional Array"
   ]
  },
  {
   "cell_type": "code",
   "execution_count": 5,
   "id": "5b2e7791-8e25-4d94-83b4-8f82e48aa090",
   "metadata": {},
   "outputs": [
    {
     "name": "stdout",
     "output_type": "stream",
     "text": [
      "80\n",
      "0\n"
     ]
    }
   ],
   "source": [
    "arrZero = np.array(80)\n",
    "print(arrZero)\n",
    "\n",
    "print(arrZero.ndim)"
   ]
  },
  {
   "cell_type": "markdown",
   "id": "4aa927be-e434-4fb4-b9ee-cab8b731cdea",
   "metadata": {},
   "source": [
    "# Creating a 1-D Array\n",
    "\n",
    "An array with only single row of elements is called \n",
    "1-D array. Let us try to create a 1-D array from\r\n",
    "a list which contains numbers as well as strings."
   ]
  },
  {
   "cell_type": "code",
   "execution_count": 10,
   "id": "8e044685-94a0-4d29-9fe5-e0d579ce41bb",
   "metadata": {},
   "outputs": [
    {
     "data": {
      "text/plain": [
       "array(['5', '-7.4', 'a', '7.2'], dtype='<U32')"
      ]
     },
     "execution_count": 10,
     "metadata": {},
     "output_type": "execute_result"
    }
   ],
   "source": [
    "array1 = np.array([5, -7.4, 'a', 7.2])\n",
    "array1\n",
    "\n",
    "# Observe that since there is a string value in the list, all integer and float values have been promoted to string, while converting the list to array.\n",
    "# Note: U32 means Unicode-32 data type."
   ]
  },
  {
   "cell_type": "markdown",
   "id": "a8fc03ab-599f-4e81-93ac-4b62bdf1aa72",
   "metadata": {},
   "source": [
    "# Creating a 2-D Array"
   ]
  },
  {
   "cell_type": "code",
   "execution_count": 15,
   "id": "e64728d9-a132-4a29-a493-26ea3112ae2e",
   "metadata": {},
   "outputs": [
    {
     "data": {
      "text/plain": [
       "array([[ 2.4,  3. ],\n",
       "       [ 4.9,  7. ],\n",
       "       [ 0. , -1. ]])"
      ]
     },
     "execution_count": 15,
     "metadata": {},
     "output_type": "execute_result"
    }
   ],
   "source": [
    "array2 = np.array([[2.4, 3],\n",
    "                   [4.9, 7],\n",
    "                   [0, -1]])\n",
    "array2\n",
    "\n",
    "# Observe that the integers 3, 7, 0 and -1 have been promoted to floats."
   ]
  },
  {
   "cell_type": "markdown",
   "id": "764d8544-4882-4f52-9cee-ca7b08e587c2",
   "metadata": {},
   "source": [
    "# Attributes of NumPy Array"
   ]
  },
  {
   "cell_type": "markdown",
   "id": "51343c58-1f2e-4744-856f-02c00204d5e0",
   "metadata": {},
   "source": [
    ".ndim: Gives the number of dimensions of the array as an integer value. \n",
    "Arrays can be 1-D, 2-D or n-D."
   ]
  },
  {
   "cell_type": "code",
   "execution_count": 13,
   "id": "c310904a-b793-43b2-8a25-a6274a74a0c1",
   "metadata": {},
   "outputs": [
    {
     "name": "stdout",
     "output_type": "stream",
     "text": [
      "1\n",
      "2\n"
     ]
    }
   ],
   "source": [
    "print(array1.ndim)\n",
    "print(array2.ndim)"
   ]
  },
  {
   "cell_type": "markdown",
   "id": "f4afa494-08b4-463b-9e14-1401e1b8db80",
   "metadata": {},
   "source": [
    ".shape: It gives the sequence of integers indicating the size of the array for each dimension. "
   ]
  },
  {
   "cell_type": "code",
   "execution_count": 18,
   "id": "74a601af-5bb0-499e-9e5f-b026efc29fbd",
   "metadata": {},
   "outputs": [
    {
     "name": "stdout",
     "output_type": "stream",
     "text": [
      "(3,)\n",
      "(4,)\n",
      "(3, 2)\n"
     ]
    }
   ],
   "source": [
    "print(array.shape)\n",
    "print(array1.shape)\n",
    "print(array2.shape)"
   ]
  },
  {
   "cell_type": "markdown",
   "id": "615ada7f-f1bd-4ccf-9bb2-ddfdbd9a12ee",
   "metadata": {},
   "source": [
    ".size: It gives the total number of elements of the array. This is equal to the product of the elements of shape."
   ]
  },
  {
   "cell_type": "code",
   "execution_count": 19,
   "id": "1083bc3f-fb2a-42e9-9757-015734e72834",
   "metadata": {},
   "outputs": [
    {
     "name": "stdout",
     "output_type": "stream",
     "text": [
      "3\n",
      "4\n",
      "6\n"
     ]
    }
   ],
   "source": [
    "print(array.size)\n",
    "print(array1.size)\n",
    "print(array2.size)"
   ]
  },
  {
   "cell_type": "markdown",
   "id": "430d5fb5-fecc-4c3b-9058-b987fac13f8c",
   "metadata": {},
   "source": [
    ".dtype: is the data type of the elements of the array. All the elements of an array are of same data type. Common data types are int32, int64, float32, float64, U32, etc."
   ]
  },
  {
   "cell_type": "code",
   "execution_count": 20,
   "id": "d0b8d9b3-8c7b-43bf-b3a6-f5ca1b47e138",
   "metadata": {},
   "outputs": [
    {
     "name": "stdout",
     "output_type": "stream",
     "text": [
      "int32\n",
      "<U32\n",
      "float64\n"
     ]
    }
   ],
   "source": [
    "print(array.dtype)\n",
    "print(array1.dtype)\n",
    "print(array2.dtype)"
   ]
  },
  {
   "cell_type": "markdown",
   "id": "fcaf24a7-8d88-40d5-bf4c-f50c77b0195e",
   "metadata": {},
   "source": [
    ".itemsize: It specifies the size in bytes of each element of the array. Data type int32 and float32 means each element of the array occupies 32 bits in memory. 8 bits form a byte. \n",
    "Thus, an array of elements of type int32 has itemsize 32/8=4 bytes. \n",
    "Likewise, int64/float64 means each item has itemsize 64/8=8 bytes."
   ]
  },
  {
   "cell_type": "code",
   "execution_count": 21,
   "id": "0c63a27b-95f9-4acb-a595-653688b23989",
   "metadata": {},
   "outputs": [
    {
     "name": "stdout",
     "output_type": "stream",
     "text": [
      "4\n",
      "128\n",
      "8\n"
     ]
    }
   ],
   "source": [
    "print(array.itemsize)\n",
    "print(array1.itemsize)\n",
    "print(array2.itemsize)"
   ]
  },
  {
   "cell_type": "markdown",
   "id": "365cc926-616c-44bb-af7a-87ebf205b35c",
   "metadata": {},
   "source": [
    "# Other Ways of Creating NumPy Arrays"
   ]
  },
  {
   "cell_type": "markdown",
   "id": "a07b6c68-d1d6-4925-992d-27e2151b79b4",
   "metadata": {},
   "source": [
    "1. We can specify data type (integer, float, etc.) while creating array using dtype as an argument to array(). \n",
    "This will convert the data automatically to the mentioned type. \n",
    "In the following example, nested list of integers are passed to the array function. \n",
    "Since data type has been declared as float, the integers are converted to floating point numbers."
   ]
  },
  {
   "cell_type": "code",
   "execution_count": 23,
   "id": "57b8f934-ce53-464b-af07-63399cf499fe",
   "metadata": {},
   "outputs": [
    {
     "data": {
      "text/plain": [
       "array([[1., 2.],\n",
       "       [3., 4.]])"
      ]
     },
     "execution_count": 23,
     "metadata": {},
     "output_type": "execute_result"
    }
   ],
   "source": [
    "array3 = np.array([[1, 2], [3, 4]], dtype=float)\n",
    "\n",
    "array3"
   ]
  },
  {
   "cell_type": "markdown",
   "id": "6117fb09-ee5a-461e-81bc-949fa1f0f9b5",
   "metadata": {},
   "source": [
    "2. We can create an array with all elements initialised to 0 using the function zeros(). \n",
    "By default, the data type of the array created by zeros() is float. \n",
    "The following code will create an array with 3 rows and 4 columns with each element set to 0."
   ]
  },
  {
   "cell_type": "code",
   "execution_count": 30,
   "id": "74721b2d-0a63-49f6-82a7-f3fb261583c3",
   "metadata": {},
   "outputs": [
    {
     "data": {
      "text/plain": [
       "array([[0., 0.],\n",
       "       [0., 0.],\n",
       "       [0., 0.]])"
      ]
     },
     "execution_count": 30,
     "metadata": {},
     "output_type": "execute_result"
    }
   ],
   "source": [
    "array4 = np.zeros((3,2))\n",
    "array4"
   ]
  },
  {
   "cell_type": "markdown",
   "id": "40fe27c1-9bdc-4ea1-a3f2-60d8a5114321",
   "metadata": {},
   "source": [
    "3. We can create an array with all elements initialised to 1 using the function ones(). \n",
    "By default, the data type of the array created by ones() is float. \n",
    "The following code will create an array with 3 rows and 2 columns."
   ]
  },
  {
   "cell_type": "code",
   "execution_count": 32,
   "id": "fc1973a6-6016-46bd-8384-f591483dd3d2",
   "metadata": {},
   "outputs": [
    {
     "data": {
      "text/plain": [
       "array([[1, 1],\n",
       "       [1, 1],\n",
       "       [1, 1]])"
      ]
     },
     "execution_count": 32,
     "metadata": {},
     "output_type": "execute_result"
    }
   ],
   "source": [
    "array5 = np.ones((3,2), dtype=int)\n",
    "array5"
   ]
  },
  {
   "cell_type": "code",
   "execution_count": 6,
   "id": "612bb51d-ae7e-4ed3-8cc1-e388021215cb",
   "metadata": {},
   "outputs": [
    {
     "data": {
      "text/plain": [
       "array([[[1., 1., 1.],\n",
       "        [1., 1., 1.],\n",
       "        [1., 1., 1.]],\n",
       "\n",
       "       [[1., 1., 1.],\n",
       "        [1., 1., 1.],\n",
       "        [1., 1., 1.]],\n",
       "\n",
       "       [[1., 1., 1.],\n",
       "        [1., 1., 1.],\n",
       "        [1., 1., 1.]],\n",
       "\n",
       "       [[1., 1., 1.],\n",
       "        [1., 1., 1.],\n",
       "        [1., 1., 1.]],\n",
       "\n",
       "       [[1., 1., 1.],\n",
       "        [1., 1., 1.],\n",
       "        [1., 1., 1.]],\n",
       "\n",
       "       [[1., 1., 1.],\n",
       "        [1., 1., 1.],\n",
       "        [1., 1., 1.]]])"
      ]
     },
     "execution_count": 6,
     "metadata": {},
     "output_type": "execute_result"
    }
   ],
   "source": [
    "np.ones((6, 3, 3))   # Here 6 is no. of matrix to created 3 is no. of rows, 3 is no. of columns"
   ]
  },
  {
   "cell_type": "markdown",
   "id": "7f371d0e-da72-4fc5-9269-067721642108",
   "metadata": {},
   "source": [
    "4. We can create an array with all elements initialised to any int using the function .full(). \n",
    "By default, the data type of the array created by full() is the data type of initialised value. \n",
    "The following code will create an array with 4 rows and 4 columns."
   ]
  },
  {
   "cell_type": "code",
   "execution_count": 12,
   "id": "f909ba3e-9370-445f-81a5-e8ee8a5a00dd",
   "metadata": {},
   "outputs": [
    {
     "data": {
      "text/plain": [
       "array([[45, 45, 45, 45],\n",
       "       [45, 45, 45, 45],\n",
       "       [45, 45, 45, 45],\n",
       "       [45, 45, 45, 45]])"
      ]
     },
     "execution_count": 12,
     "metadata": {},
     "output_type": "execute_result"
    }
   ],
   "source": [
    "np.full((4, 4),45)"
   ]
  },
  {
   "cell_type": "code",
   "execution_count": 8,
   "id": "1fa35f81-9c6f-46ac-b67b-ce1043668d49",
   "metadata": {},
   "outputs": [
    {
     "data": {
      "text/plain": [
       "array([[678, 678, 678, ..., 678, 678, 678],\n",
       "       [678, 678, 678, ..., 678, 678, 678],\n",
       "       [678, 678, 678, ..., 678, 678, 678],\n",
       "       ...,\n",
       "       [678, 678, 678, ..., 678, 678, 678],\n",
       "       [678, 678, 678, ..., 678, 678, 678],\n",
       "       [678, 678, 678, ..., 678, 678, 678]])"
      ]
     },
     "execution_count": 8,
     "metadata": {},
     "output_type": "execute_result"
    }
   ],
   "source": [
    "np.full((40,40),678)"
   ]
  },
  {
   "cell_type": "code",
   "execution_count": 13,
   "id": "d74cb108-01b7-4471-a4b7-a3b2d036c503",
   "metadata": {},
   "outputs": [
    {
     "name": "stdout",
     "output_type": "stream",
     "text": [
      "15\n"
     ]
    }
   ],
   "source": [
    "# importing random\n",
    "from numpy import random\n",
    "\n",
    "x = random.randint(100)\n",
    "print(x)"
   ]
  },
  {
   "cell_type": "code",
   "execution_count": 10,
   "id": "c575c4f5-e64d-4097-8a8a-dd817707b4d2",
   "metadata": {},
   "outputs": [
    {
     "data": {
      "text/plain": [
       "array([[0.18987916, 0.69608046, 0.63399454, 0.41937221],\n",
       "       [0.60875462, 0.20413715, 0.32916978, 0.00849296],\n",
       "       [0.95772644, 0.35098137, 0.1940079 , 0.03414478],\n",
       "       [0.8351916 , 0.75436728, 0.67406473, 0.21766497]])"
      ]
     },
     "execution_count": 10,
     "metadata": {},
     "output_type": "execute_result"
    }
   ],
   "source": [
    "np.random.rand(4,4)"
   ]
  },
  {
   "cell_type": "markdown",
   "id": "33835bba-9aaf-4bad-bb0d-9b97f58d4daa",
   "metadata": {},
   "source": [
    "5. We can create an array with numbers in a given range and sequence using the arange() function. \n",
    "This function is analogous to the range() function of Python."
   ]
  },
  {
   "cell_type": "markdown",
   "id": "7c8da749-7c12-48aa-9eb1-bcc678d93fcc",
   "metadata": {},
   "source": [
    "array6 = np.arange(6)\n",
    "array6"
   ]
  },
  {
   "cell_type": "code",
   "execution_count": 34,
   "id": "5a240d9d-1085-48e3-8964-1639b84bd860",
   "metadata": {},
   "outputs": [
    {
     "data": {
      "text/plain": [
       "array([-2,  2,  6, 10, 14, 18, 22])"
      ]
     },
     "execution_count": 34,
     "metadata": {},
     "output_type": "execute_result"
    }
   ],
   "source": [
    "array7 = np.arange(-2, 24, 4)\n",
    "array7"
   ]
  },
  {
   "cell_type": "markdown",
   "id": "db9c7189-9543-450b-9158-66e1a8ac881a",
   "metadata": {},
   "source": [
    "# Indentity Matrix"
   ]
  },
  {
   "cell_type": "code",
   "execution_count": 14,
   "id": "8e51225d-e2f3-48ca-b794-396884b186bc",
   "metadata": {},
   "outputs": [
    {
     "data": {
      "text/plain": [
       "array([[1., 0., 0., 0., 0.],\n",
       "       [0., 1., 0., 0., 0.],\n",
       "       [0., 0., 1., 0., 0.],\n",
       "       [0., 0., 0., 1., 0.],\n",
       "       [0., 0., 0., 0., 1.]])"
      ]
     },
     "execution_count": 14,
     "metadata": {},
     "output_type": "execute_result"
    }
   ],
   "source": [
    "np.identity(5)"
   ]
  },
  {
   "cell_type": "markdown",
   "id": "3aefb313-1a26-46ce-b423-3041b2657de6",
   "metadata": {},
   "source": [
    "# Indexing and Slicing\n",
    "NumPy arrays can be indexed, sliced and iterated over. \n",
    "## Indexing"
   ]
  },
  {
   "cell_type": "markdown",
   "id": "ac372643-eeda-4bc6-9b9d-8c56292977df",
   "metadata": {},
   "source": [
    "<table>\n",
    "    <caption><b>Marks of Students in different Subjects</b></caption>\n",
    "    <tr>\n",
    "        <td><b>Name</b></td>\n",
    "        <td><b>Maths</b></td>\n",
    "        <td><b>English</b></td>\n",
    "        <td><b>Science</b></td>\n",
    "    </tr>\n",
    "    <tr>\n",
    "        <td><b>Ramesh</b></td>\n",
    "        <td>78</td>\n",
    "        <td>67</td>\n",
    "        <td>56</td>\n",
    "    </tr>\n",
    "    <tr>\n",
    "        <td><b>Vedika</b></td>\n",
    "        <td>76</td>\n",
    "        <td>75</td>\n",
    "        <td>47</td>\n",
    "    </tr>\n",
    "    <tr>\n",
    "        <td><b>Harun</b></td>\n",
    "        <td>84</td>\n",
    "        <td>59</td>\n",
    "        <td>60</td>\n",
    "    </tr>\n",
    "    <tr>\n",
    "        <td><b>Prasad</b></td>\n",
    "        <td>67</td>\n",
    "        <td>72</td>\n",
    "        <td>54</td>\n",
    "    </tr>\n",
    "</table>"
   ]
  },
  {
   "cell_type": "code",
   "execution_count": 35,
   "id": "dd89364e-23eb-4165-96ce-67d42105244f",
   "metadata": {},
   "outputs": [
    {
     "data": {
      "text/plain": [
       "array([[78, 67, 56],\n",
       "       [76, 75, 47],\n",
       "       [84, 59, 60],\n",
       "       [67, 72, 54]])"
      ]
     },
     "execution_count": 35,
     "metadata": {},
     "output_type": "execute_result"
    }
   ],
   "source": [
    "marks = np.array([[78, 67, 56],\n",
    "                  [76, 75, 47],\n",
    "                  [84, 59, 60],\n",
    "                  [67, 72, 54]])\n",
    "\n",
    "marks"
   ]
  },
  {
   "cell_type": "raw",
   "id": "2ec58b72-21e4-48fd-bea5-840dbd4b91ca",
   "metadata": {},
   "source": [
    "Example:\n",
    "\n",
    "      Columns\n",
    "   0  1  2  3  4\n",
    "[[ 1  2  3  4  5]    => 0th Row\n",
    " [ 6  7  8  9 10]]   => 1st Row"
   ]
  },
  {
   "cell_type": "code",
   "execution_count": 37,
   "id": "e147eba8-e5a6-4bde-a1d5-11e977f6dd4a",
   "metadata": {},
   "outputs": [
    {
     "data": {
      "text/plain": [
       "56"
      ]
     },
     "execution_count": 37,
     "metadata": {},
     "output_type": "execute_result"
    }
   ],
   "source": [
    "# accesses the element in the 1st row in the 3rd column\n",
    "\n",
    "marks[0, 2]"
   ]
  },
  {
   "cell_type": "code",
   "execution_count": 39,
   "id": "16ace8ff-b5be-470a-9b96-2d66e486092f",
   "metadata": {},
   "outputs": [
    {
     "ename": "IndexError",
     "evalue": "index 4 is out of bounds for axis 1 with size 3",
     "output_type": "error",
     "traceback": [
      "\u001b[1;31m---------------------------------------------------------------------------\u001b[0m",
      "\u001b[1;31mIndexError\u001b[0m                                Traceback (most recent call last)",
      "Cell \u001b[1;32mIn[39], line 1\u001b[0m\n\u001b[1;32m----> 1\u001b[0m \u001b[43mmarks\u001b[49m\u001b[43m[\u001b[49m\u001b[38;5;241;43m0\u001b[39;49m\u001b[43m,\u001b[49m\u001b[43m \u001b[49m\u001b[38;5;241;43m4\u001b[39;49m\u001b[43m]\u001b[49m   \u001b[38;5;66;03m# index Out of Bound \"Index Error\".\u001b[39;00m\n",
      "\u001b[1;31mIndexError\u001b[0m: index 4 is out of bounds for axis 1 with size 3"
     ]
    }
   ],
   "source": [
    "marks[0, 4]   # index Out of Bound \"Index Error\"."
   ]
  },
  {
   "cell_type": "markdown",
   "id": "401f036f-e32d-460b-9561-2e849694fdda",
   "metadata": {},
   "source": [
    "## Slicing\n",
    "\n",
    "Sometimes we need to extract part of an array. This is ddone through slicing. We can define which part of the\r\n",
    "array to be sliced by specifying the start and end inde \r\n",
    "values usi\\ng [start : -1end] along with the array name. "
   ]
  },
  {
   "cell_type": "code",
   "execution_count": 41,
   "id": "1a4005f3-f838-4be9-8019-fedbfdeea668",
   "metadata": {},
   "outputs": [
    {
     "data": {
      "text/plain": [
       "array([-2,  2,  6, 10, 14, 18, 22])"
      ]
     },
     "execution_count": 41,
     "metadata": {},
     "output_type": "execute_result"
    }
   ],
   "source": [
    "array7"
   ]
  },
  {
   "cell_type": "code",
   "execution_count": 42,
   "id": "d8e6367b-59fa-4343-bab8-2be4fa1a1906",
   "metadata": {},
   "outputs": [
    {
     "data": {
      "text/plain": [
       "array([10, 14])"
      ]
     },
     "execution_count": 42,
     "metadata": {},
     "output_type": "execute_result"
    }
   ],
   "source": [
    "array7[3:5]"
   ]
  },
  {
   "cell_type": "code",
   "execution_count": 43,
   "id": "b5cedefc-e0ff-474d-8d08-48d339400765",
   "metadata": {},
   "outputs": [
    {
     "data": {
      "text/plain": [
       "array([22, 18, 14, 10,  6,  2, -2])"
      ]
     },
     "execution_count": 43,
     "metadata": {},
     "output_type": "execute_result"
    }
   ],
   "source": [
    "array7[ : : -1]"
   ]
  },
  {
   "cell_type": "code",
   "execution_count": 44,
   "id": "acc6e294-afa5-4bb3-bc59-077d948879d7",
   "metadata": {},
   "outputs": [
    {
     "data": {
      "text/plain": [
       "array([[ -7,   0,  10,  20],\n",
       "       [ -5,   1,  40, 200],\n",
       "       [ -1,   1,   4,  30]])"
      ]
     },
     "execution_count": 44,
     "metadata": {},
     "output_type": "execute_result"
    }
   ],
   "source": [
    "array8 = np.array([[-7, 0, 10, 20],\n",
    "                   [-5, 1, 40, 200],\n",
    "                   [-1, 1, 4, 30]])\n",
    "array8"
   ]
  },
  {
   "cell_type": "code",
   "execution_count": 45,
   "id": "c061261e-cb6d-49f8-b387-ac78a2990c91",
   "metadata": {},
   "outputs": [
    {
     "data": {
      "text/plain": [
       "array([10, 40,  4])"
      ]
     },
     "execution_count": 45,
     "metadata": {},
     "output_type": "execute_result"
    }
   ],
   "source": [
    "array8[0:3,2]"
   ]
  },
  {
   "cell_type": "code",
   "execution_count": 48,
   "id": "0d98d56c-9a77-434c-ba02-a79aea88ada7",
   "metadata": {},
   "outputs": [
    {
     "data": {
      "text/plain": [
       "array([10, 40,  4])"
      ]
     },
     "execution_count": 48,
     "metadata": {},
     "output_type": "execute_result"
    }
   ],
   "source": [
    "# Another way \n",
    "\n",
    "array8[:,2]"
   ]
  },
  {
   "cell_type": "code",
   "execution_count": 46,
   "id": "e7421db1-5d88-4929-b061-bf5d65cb33c6",
   "metadata": {},
   "outputs": [
    {
     "data": {
      "text/plain": [
       "array([[-5,  1],\n",
       "       [-1,  1]])"
      ]
     },
     "execution_count": 46,
     "metadata": {},
     "output_type": "execute_result"
    }
   ],
   "source": [
    "array8[1:3,0:2]"
   ]
  },
  {
   "cell_type": "markdown",
   "id": "aabbd0a3-8373-4c73-8928-5232a1387745",
   "metadata": {},
   "source": [
    "# Operations on Array"
   ]
  },
  {
   "cell_type": "markdown",
   "id": "738ed695-b166-4b95-8ed5-0b885f78cb04",
   "metadata": {},
   "source": [
    "## Arithmetic Operations"
   ]
  },
  {
   "cell_type": "code",
   "execution_count": 64,
   "id": "5fe4deb6-7d70-4e40-b5e5-07d23d60f989",
   "metadata": {},
   "outputs": [
    {
     "name": "stdout",
     "output_type": "stream",
     "text": [
      "[[3 6]\n",
      " [4 2]]\n",
      "\n",
      "[[10 20]\n",
      " [15 12]]\n"
     ]
    }
   ],
   "source": [
    "array1 = np.array([[3,6],[4,2]])\n",
    "array2 = np.array([[10,20],[15,12]])\n",
    "\n",
    "print(array1)\n",
    "print()\n",
    "print(array2)"
   ]
  },
  {
   "cell_type": "code",
   "execution_count": 65,
   "id": "b659d72d-51f8-4702-97d2-6cccb15fe939",
   "metadata": {},
   "outputs": [
    {
     "data": {
      "text/plain": [
       "array([[13, 26],\n",
       "       [19, 14]])"
      ]
     },
     "execution_count": 65,
     "metadata": {},
     "output_type": "execute_result"
    }
   ],
   "source": [
    "# Element-wise addition of two matrices.\n",
    "\n",
    "array1 + array2"
   ]
  },
  {
   "cell_type": "code",
   "execution_count": 60,
   "id": "bfa7accd-dac6-4a14-9d62-e9461e23bdb4",
   "metadata": {},
   "outputs": [
    {
     "data": {
      "text/plain": [
       "array([[ -7, -14],\n",
       "       [-11, -10]])"
      ]
     },
     "execution_count": 60,
     "metadata": {},
     "output_type": "execute_result"
    }
   ],
   "source": [
    "# Subtraction\n",
    "\n",
    "array1 - array2"
   ]
  },
  {
   "cell_type": "code",
   "execution_count": 61,
   "id": "3efa8f14-39d8-471d-989a-a853185db69d",
   "metadata": {},
   "outputs": [
    {
     "data": {
      "text/plain": [
       "array([[ 30, 120],\n",
       "       [ 60,  24]])"
      ]
     },
     "execution_count": 61,
     "metadata": {},
     "output_type": "execute_result"
    }
   ],
   "source": [
    "# Multiplication\n",
    "\n",
    "array1 * array2"
   ]
  },
  {
   "cell_type": "code",
   "execution_count": 66,
   "id": "c5f2264a-1b33-4ee5-bdb7-35d7210384b6",
   "metadata": {},
   "outputs": [
    {
     "data": {
      "text/plain": [
       "array([[120, 132],\n",
       "       [ 70, 104]])"
      ]
     },
     "execution_count": 66,
     "metadata": {},
     "output_type": "execute_result"
    }
   ],
   "source": [
    "# Matrix Multiplication\n",
    "\n",
    "array1 @ array2"
   ]
  },
  {
   "cell_type": "code",
   "execution_count": 67,
   "id": "9edb16d7-b72f-43d7-8db0-956983a7d92f",
   "metadata": {},
   "outputs": [
    {
     "data": {
      "text/plain": [
       "array([[ 27, 216],\n",
       "       [ 64,   8]], dtype=int32)"
      ]
     },
     "execution_count": 67,
     "metadata": {},
     "output_type": "execute_result"
    }
   ],
   "source": [
    "# Exponentiation\n",
    "\n",
    "array1 ** 3"
   ]
  },
  {
   "cell_type": "code",
   "execution_count": 68,
   "id": "dc18249e-b92e-48ee-abe7-698a33ec6e9f",
   "metadata": {},
   "outputs": [
    {
     "data": {
      "text/plain": [
       "array([[1, 2],\n",
       "       [3, 0]])"
      ]
     },
     "execution_count": 68,
     "metadata": {},
     "output_type": "execute_result"
    }
   ],
   "source": [
    "# Element wise Remainder of Division (Modulo)\n",
    "\n",
    "array2 % array1"
   ]
  },
  {
   "cell_type": "markdown",
   "id": "580eead5-6f3e-4b69-a6c2-aa65014417b7",
   "metadata": {},
   "source": [
    "## Transpose"
   ]
  },
  {
   "cell_type": "code",
   "execution_count": 70,
   "id": "53c37586-a759-401e-9e84-863e16fcd611",
   "metadata": {},
   "outputs": [
    {
     "data": {
      "text/plain": [
       "array([[ 10,  -7,   0,  20],\n",
       "       [ -5,   1, 200,  40],\n",
       "       [ 30,   1,  -1,   4]])"
      ]
     },
     "execution_count": 70,
     "metadata": {},
     "output_type": "execute_result"
    }
   ],
   "source": [
    "array3 = np.array([[10, -7, 0, 20],\n",
    "                   [-5, 1, 200, 40],\n",
    "                   [30, 1, -1, 4]])\n",
    "array3"
   ]
  },
  {
   "cell_type": "code",
   "execution_count": 71,
   "id": "5dbb9d52-47d9-4e38-bddf-b3335ac1eb5d",
   "metadata": {},
   "outputs": [
    {
     "data": {
      "text/plain": [
       "array([[ 10,  -5,  30],\n",
       "       [ -7,   1,   1],\n",
       "       [  0, 200,  -1],\n",
       "       [ 20,  40,   4]])"
      ]
     },
     "execution_count": 71,
     "metadata": {},
     "output_type": "execute_result"
    }
   ],
   "source": [
    "# the original array does not change\n",
    "\n",
    "array3.transpose()"
   ]
  },
  {
   "cell_type": "markdown",
   "id": "8876b979-8858-4f84-8a5d-8acbb61093ef",
   "metadata": {},
   "source": [
    "## Sorting"
   ]
  },
  {
   "cell_type": "code",
   "execution_count": 72,
   "id": "ce6287fa-fda8-407f-af95-dd098dc3263d",
   "metadata": {},
   "outputs": [
    {
     "data": {
      "text/plain": [
       "array([ 1,  0,  2, -3,  6,  8,  4,  7])"
      ]
     },
     "execution_count": 72,
     "metadata": {},
     "output_type": "execute_result"
    }
   ],
   "source": [
    "array4 = np.array([1, 0, 2, -3, 6, 8, 4, 7])\n",
    "array4"
   ]
  },
  {
   "cell_type": "code",
   "execution_count": 74,
   "id": "450f5f14-dc88-40d3-942c-2f25c5e6cde4",
   "metadata": {},
   "outputs": [
    {
     "data": {
      "text/plain": [
       "array([-3,  0,  1,  2,  4,  6,  7,  8])"
      ]
     },
     "execution_count": 74,
     "metadata": {},
     "output_type": "execute_result"
    }
   ],
   "source": [
    "array4.sort()\n",
    "array4"
   ]
  },
  {
   "cell_type": "code",
   "execution_count": 80,
   "id": "ec73b2cb-6507-4eb6-b286-2a2169407619",
   "metadata": {},
   "outputs": [
    {
     "data": {
      "text/plain": [
       "array([[ 10,  -7,   0,  20],\n",
       "       [ -5,   1, 200,  40],\n",
       "       [ 30,   1,  -1,   4]])"
      ]
     },
     "execution_count": 80,
     "metadata": {},
     "output_type": "execute_result"
    }
   ],
   "source": [
    "array5 = np.array([[10, -7, 0, 20],\n",
    "                   [-5, 1, 200, 40],\n",
    "                   [30, 1, -1, 4]])\n",
    "array5"
   ]
  },
  {
   "cell_type": "code",
   "execution_count": 78,
   "id": "ac097f4d-5b30-4dff-bd18-caacee01d366",
   "metadata": {},
   "outputs": [
    {
     "data": {
      "text/plain": [
       "array([[ -7,   0,  10,  20],\n",
       "       [ -5,   1,  40, 200],\n",
       "       [ -1,   1,   4,  30]])"
      ]
     },
     "execution_count": 78,
     "metadata": {},
     "output_type": "execute_result"
    }
   ],
   "source": [
    "# default is row-wise sorting\n",
    "\n",
    "array5.sort()\n",
    "array5"
   ]
  },
  {
   "cell_type": "code",
   "execution_count": null,
   "id": "60216305-ec89-441e-83e7-00f77d0a1c55",
   "metadata": {},
   "outputs": [],
   "source": [
    "# axis = 0 means column-wise sorting "
   ]
  },
  {
   "cell_type": "code",
   "execution_count": 81,
   "id": "2922d5cd-7a6b-4f27-9457-0a8778e19df9",
   "metadata": {},
   "outputs": [
    {
     "data": {
      "text/plain": [
       "array([[ -5,  -7,  -1,   4],\n",
       "       [ 10,   1,   0,  20],\n",
       "       [ 30,   1, 200,  40]])"
      ]
     },
     "execution_count": 81,
     "metadata": {},
     "output_type": "execute_result"
    }
   ],
   "source": [
    "array5.sort(axis=0)\n",
    "array5"
   ]
  },
  {
   "cell_type": "code",
   "execution_count": 91,
   "id": "91f5da99-7a52-4e6e-b439-2c487692610f",
   "metadata": {},
   "outputs": [
    {
     "name": "stdout",
     "output_type": "stream",
     "text": [
      "[[ 10  20  30]\n",
      " [-30  40  20]]\n",
      "\n",
      "[[0 0 0]\n",
      " [0 0 0]]\n"
     ]
    }
   ],
   "source": [
    "# Concatenating Arrays\n",
    "\n",
    "array1 = np.array([[10, 20, 30],[-30, 40, 20]])\n",
    "array2 = np.zeros((2,3), dtype=array1.dtype)\n",
    "\n",
    "print(array1)\n",
    "print()\n",
    "print(array2)"
   ]
  },
  {
   "cell_type": "code",
   "execution_count": 92,
   "id": "fd685bc1-e0b1-4672-8a9d-a1c893e588c3",
   "metadata": {},
   "outputs": [
    {
     "name": "stdout",
     "output_type": "stream",
     "text": [
      "(2, 3)\n",
      "\n",
      "(2, 3)\n"
     ]
    }
   ],
   "source": [
    "print(array1.shape)\n",
    "print()\n",
    "print(array2.shape)"
   ]
  },
  {
   "cell_type": "code",
   "execution_count": 93,
   "id": "23bfdf7a-e27f-43ef-abc8-a1d288085a07",
   "metadata": {},
   "outputs": [
    {
     "data": {
      "text/plain": [
       "array([[ 10,  20,  30,   0,   0,   0],\n",
       "       [-30,  40,  20,   0,   0,   0]])"
      ]
     },
     "execution_count": 93,
     "metadata": {},
     "output_type": "execute_result"
    }
   ],
   "source": [
    "np.concatenate((array1,array2), axis=1)"
   ]
  },
  {
   "cell_type": "code",
   "execution_count": 94,
   "id": "0b9de94e-dc2d-44a0-a52f-47b0347a5405",
   "metadata": {},
   "outputs": [
    {
     "data": {
      "text/plain": [
       "array([[ 10,  20,  30],\n",
       "       [-30,  40,  20],\n",
       "       [  0,   0,   0],\n",
       "       [  0,   0,   0]])"
      ]
     },
     "execution_count": 94,
     "metadata": {},
     "output_type": "execute_result"
    }
   ],
   "source": [
    "np.concatenate((array1,array2), axis=0)"
   ]
  },
  {
   "cell_type": "markdown",
   "id": "9068c60a-fa5e-451b-8483-c4166fddd8bd",
   "metadata": {},
   "source": [
    "## Reshaping Arrays"
   ]
  },
  {
   "cell_type": "code",
   "execution_count": 96,
   "id": "e094edda-a897-4c16-8214-3e60fef40e32",
   "metadata": {},
   "outputs": [
    {
     "data": {
      "text/plain": [
       "array([10, 11, 12, 13, 14, 15, 16, 17, 18, 19, 20, 21])"
      ]
     },
     "execution_count": 96,
     "metadata": {},
     "output_type": "execute_result"
    }
   ],
   "source": [
    "array3 = np.arange(10,22)\n",
    "array3"
   ]
  },
  {
   "cell_type": "code",
   "execution_count": 97,
   "id": "527d1682-789b-42f1-97a8-62eca698c4f9",
   "metadata": {},
   "outputs": [
    {
     "data": {
      "text/plain": [
       "array([[10, 11, 12, 13],\n",
       "       [14, 15, 16, 17],\n",
       "       [18, 19, 20, 21]])"
      ]
     },
     "execution_count": 97,
     "metadata": {},
     "output_type": "execute_result"
    }
   ],
   "source": [
    "array3.reshape(3, 4)"
   ]
  },
  {
   "cell_type": "code",
   "execution_count": 98,
   "id": "5968ce1c-c236-41c8-b52e-ba417a2a8c7d",
   "metadata": {},
   "outputs": [
    {
     "data": {
      "text/plain": [
       "array([[10, 11, 12, 13, 14, 15],\n",
       "       [16, 17, 18, 19, 20, 21]])"
      ]
     },
     "execution_count": 98,
     "metadata": {},
     "output_type": "execute_result"
    }
   ],
   "source": [
    "array3.reshape(2, 6)"
   ]
  },
  {
   "cell_type": "markdown",
   "id": "82f5097a-09e0-4dd2-9f4b-984212075408",
   "metadata": {},
   "source": [
    "## Spliting Arrays"
   ]
  },
  {
   "cell_type": "code",
   "execution_count": 100,
   "id": "ecfe5bd7-362d-416e-b7d7-abcf35d0d13d",
   "metadata": {},
   "outputs": [
    {
     "data": {
      "text/plain": [
       "array([[ 10,  -7,   0,  20],\n",
       "       [ -5,   1, 200,  40],\n",
       "       [ 30,   1,  -1,   4],\n",
       "       [  1,   2,   0,   4],\n",
       "       [  0,   1,   0,   2]])"
      ]
     },
     "execution_count": 100,
     "metadata": {},
     "output_type": "execute_result"
    }
   ],
   "source": [
    "array4 = np.array([[10, -7, 0, 20],\n",
    "                   [-5, 1, 200, 40],\n",
    "                   [30, 1, -1, 4],\n",
    "                   [1, 2, 0, 4],\n",
    "                   [0, 1, 0, 2]])\n",
    "array4"
   ]
  },
  {
   "cell_type": "code",
   "execution_count": 107,
   "id": "75a41184-e772-4c63-996e-63221c9803d6",
   "metadata": {},
   "outputs": [],
   "source": [
    "first, second, third = np.split(array4,[1, 3])"
   ]
  },
  {
   "cell_type": "code",
   "execution_count": 108,
   "id": "550819fe-6714-4cf0-b00b-2b111cbc564e",
   "metadata": {},
   "outputs": [
    {
     "data": {
      "text/plain": [
       "array([[10, -7,  0, 20]])"
      ]
     },
     "execution_count": 108,
     "metadata": {},
     "output_type": "execute_result"
    }
   ],
   "source": [
    "first"
   ]
  },
  {
   "cell_type": "code",
   "execution_count": 109,
   "id": "d7f20e63-9da7-4c28-b151-0cc2548ecabc",
   "metadata": {},
   "outputs": [
    {
     "data": {
      "text/plain": [
       "array([[ -5,   1, 200,  40],\n",
       "       [ 30,   1,  -1,   4]])"
      ]
     },
     "execution_count": 109,
     "metadata": {},
     "output_type": "execute_result"
    }
   ],
   "source": [
    "second"
   ]
  },
  {
   "cell_type": "code",
   "execution_count": 110,
   "id": "9c606c24-f048-4d56-bdcd-e7913602991d",
   "metadata": {},
   "outputs": [
    {
     "data": {
      "text/plain": [
       "array([[1, 2, 0, 4],\n",
       "       [0, 1, 0, 2]])"
      ]
     },
     "execution_count": 110,
     "metadata": {},
     "output_type": "execute_result"
    }
   ],
   "source": [
    "third"
   ]
  },
  {
   "cell_type": "code",
   "execution_count": 111,
   "id": "77228551-739d-4880-9233-eb260de1286f",
   "metadata": {},
   "outputs": [],
   "source": [
    "firstc, secondc, thirdc = np.split(array4,[1,2], axis=1)"
   ]
  },
  {
   "cell_type": "code",
   "execution_count": 112,
   "id": "623597c0-2240-4741-82dd-a7cfa99d7bed",
   "metadata": {},
   "outputs": [
    {
     "data": {
      "text/plain": [
       "array([[10],\n",
       "       [-5],\n",
       "       [30],\n",
       "       [ 1],\n",
       "       [ 0]])"
      ]
     },
     "execution_count": 112,
     "metadata": {},
     "output_type": "execute_result"
    }
   ],
   "source": [
    "firstc"
   ]
  },
  {
   "cell_type": "code",
   "execution_count": 113,
   "id": "c11abddf-3086-4e5c-ac74-e31bb3862058",
   "metadata": {},
   "outputs": [
    {
     "data": {
      "text/plain": [
       "array([[-7],\n",
       "       [ 1],\n",
       "       [ 1],\n",
       "       [ 2],\n",
       "       [ 1]])"
      ]
     },
     "execution_count": 113,
     "metadata": {},
     "output_type": "execute_result"
    }
   ],
   "source": [
    "secondc"
   ]
  },
  {
   "cell_type": "code",
   "execution_count": 114,
   "id": "ca65c641-f927-4939-af6e-32d737810fcd",
   "metadata": {},
   "outputs": [
    {
     "data": {
      "text/plain": [
       "array([[  0,  20],\n",
       "       [200,  40],\n",
       "       [ -1,   4],\n",
       "       [  0,   4],\n",
       "       [  0,   2]])"
      ]
     },
     "execution_count": 114,
     "metadata": {},
     "output_type": "execute_result"
    }
   ],
   "source": [
    "thirdc"
   ]
  },
  {
   "cell_type": "code",
   "execution_count": 118,
   "id": "531ace21-bb6e-4d3d-b793-c4734140dc20",
   "metadata": {},
   "outputs": [],
   "source": [
    "firsthalf, secondhalf = np.split(array4,2,axis=1)"
   ]
  },
  {
   "cell_type": "code",
   "execution_count": 119,
   "id": "7d309be8-0b42-497a-94ea-154dbfa1e900",
   "metadata": {},
   "outputs": [
    {
     "data": {
      "text/plain": [
       "array([[10, -7],\n",
       "       [-5,  1],\n",
       "       [30,  1],\n",
       "       [ 1,  2],\n",
       "       [ 0,  1]])"
      ]
     },
     "execution_count": 119,
     "metadata": {},
     "output_type": "execute_result"
    }
   ],
   "source": [
    "firsthalf"
   ]
  },
  {
   "cell_type": "code",
   "execution_count": 120,
   "id": "40e3905b-eca9-4336-842e-7dc1719f23f4",
   "metadata": {},
   "outputs": [
    {
     "data": {
      "text/plain": [
       "array([[  0,  20],\n",
       "       [200,  40],\n",
       "       [ -1,   4],\n",
       "       [  0,   4],\n",
       "       [  0,   2]])"
      ]
     },
     "execution_count": 120,
     "metadata": {},
     "output_type": "execute_result"
    }
   ],
   "source": [
    "secondhalf"
   ]
  },
  {
   "cell_type": "markdown",
   "id": "a16954e0-94ba-46c3-a1eb-06e88c881f5f",
   "metadata": {},
   "source": [
    "## Statistical Operations on Arrays"
   ]
  },
  {
   "cell_type": "code",
   "execution_count": 121,
   "id": "b7e4cbb0-ff62-41e8-8877-502f6c9e0557",
   "metadata": {},
   "outputs": [
    {
     "name": "stdout",
     "output_type": "stream",
     "text": [
      "[ 1  0  2 -3  6  8  4  7]\n",
      "\n",
      "[[3 6]\n",
      " [4 2]]\n"
     ]
    }
   ],
   "source": [
    "# Let us consider two arrays:\n",
    "\n",
    "arrayA = np.array([1, 0, 2, -3, 6, 8, 4, 7])\n",
    "arrayB = np.array([[3, 6], [4, 2]])\n",
    "\n",
    "print(arrayA)\n",
    "print()\n",
    "print(arrayB)"
   ]
  },
  {
   "cell_type": "markdown",
   "id": "5e442c13-e752-44e5-b3cc-efc81cd8fe56",
   "metadata": {},
   "source": [
    "1. The max() function finds the maximum element from an array."
   ]
  },
  {
   "cell_type": "code",
   "execution_count": 122,
   "id": "bbde393d-98c5-4420-ab74-df2fce055da7",
   "metadata": {},
   "outputs": [
    {
     "data": {
      "text/plain": [
       "8"
      ]
     },
     "execution_count": 122,
     "metadata": {},
     "output_type": "execute_result"
    }
   ],
   "source": [
    "# max element form the whole 1-D array\n",
    "\n",
    "arrayA.max()"
   ]
  },
  {
   "cell_type": "code",
   "execution_count": 123,
   "id": "2ea62d60-7af5-4b07-a517-7b6524c2c598",
   "metadata": {},
   "outputs": [
    {
     "data": {
      "text/plain": [
       "6"
      ]
     },
     "execution_count": 123,
     "metadata": {},
     "output_type": "execute_result"
    }
   ],
   "source": [
    "# max element form the whole 2-D array\n",
    "\n",
    "arrayB.max()"
   ]
  },
  {
   "cell_type": "code",
   "execution_count": 124,
   "id": "bd496baf-af7a-44ac-aa91-d7c1f3aac55e",
   "metadata": {},
   "outputs": [
    {
     "data": {
      "text/plain": [
       "array([6, 4])"
      ]
     },
     "execution_count": 124,
     "metadata": {},
     "output_type": "execute_result"
    }
   ],
   "source": [
    "# if axis=1, it gives column wise maximum\n",
    "\n",
    "arrayB.max(axis = 1)"
   ]
  },
  {
   "cell_type": "code",
   "execution_count": 125,
   "id": "8b1ce3b7-29d6-4bf4-bde1-33afc444a3d3",
   "metadata": {},
   "outputs": [
    {
     "data": {
      "text/plain": [
       "array([4, 6])"
      ]
     },
     "execution_count": 125,
     "metadata": {},
     "output_type": "execute_result"
    }
   ],
   "source": [
    "# if axis=0, it gives row wise maximum \n",
    "\n",
    "arrayB.max(axis=0) "
   ]
  },
  {
   "cell_type": "markdown",
   "id": "711483e8-0c31-45e8-acaa-3aed28ccc3a2",
   "metadata": {},
   "source": [
    "2. The min() function finds the minimum element \n",
    "from an array."
   ]
  },
  {
   "cell_type": "code",
   "execution_count": 127,
   "id": "1ca4ab84-f87a-4813-8eea-22422253aa45",
   "metadata": {},
   "outputs": [
    {
     "data": {
      "text/plain": [
       "-3"
      ]
     },
     "execution_count": 127,
     "metadata": {},
     "output_type": "execute_result"
    }
   ],
   "source": [
    "arrayA.min()"
   ]
  },
  {
   "cell_type": "code",
   "execution_count": 128,
   "id": "6a688148-1341-4f06-add2-e2ffb7e753b3",
   "metadata": {},
   "outputs": [
    {
     "data": {
      "text/plain": [
       "2"
      ]
     },
     "execution_count": 128,
     "metadata": {},
     "output_type": "execute_result"
    }
   ],
   "source": [
    "arrayB.min()"
   ]
  },
  {
   "cell_type": "code",
   "execution_count": 129,
   "id": "29f48065-3707-4f8f-974e-ebe7894dc3bf",
   "metadata": {},
   "outputs": [
    {
     "data": {
      "text/plain": [
       "array([3, 2])"
      ]
     },
     "execution_count": 129,
     "metadata": {},
     "output_type": "execute_result"
    }
   ],
   "source": [
    "arrayB.min(axis=0)"
   ]
  },
  {
   "cell_type": "markdown",
   "id": "5013a481-02c1-4540-bb47-02991a4a1af1",
   "metadata": {},
   "source": [
    "3. The sum() function finds the sum of all elements \n",
    "of an array."
   ]
  },
  {
   "cell_type": "code",
   "execution_count": 132,
   "id": "8aa071a1-d13b-440c-97b4-244358a4c96f",
   "metadata": {},
   "outputs": [
    {
     "data": {
      "text/plain": [
       "25"
      ]
     },
     "execution_count": 132,
     "metadata": {},
     "output_type": "execute_result"
    }
   ],
   "source": [
    "arrayA.sum()"
   ]
  },
  {
   "cell_type": "code",
   "execution_count": 133,
   "id": "9a2c34f1-78bc-4657-8dbf-1f5786bf8cd5",
   "metadata": {},
   "outputs": [
    {
     "data": {
      "text/plain": [
       "15"
      ]
     },
     "execution_count": 133,
     "metadata": {},
     "output_type": "execute_result"
    }
   ],
   "source": [
    "arrayB.sum()"
   ]
  },
  {
   "cell_type": "code",
   "execution_count": 134,
   "id": "b0998cc9-4626-4058-87e7-09e88b28c2f3",
   "metadata": {},
   "outputs": [
    {
     "data": {
      "text/plain": [
       "array([9, 6])"
      ]
     },
     "execution_count": 134,
     "metadata": {},
     "output_type": "execute_result"
    }
   ],
   "source": [
    "# axis is used to specify the dimension \n",
    "# on which sum is to be made. Here axis = 1 \n",
    "# means the sum of elements on the first row \n",
    "\n",
    "arrayB.sum(axis=1)"
   ]
  },
  {
   "cell_type": "markdown",
   "id": "a17f87bf-f173-45e1-a7b6-a3f8b087c65f",
   "metadata": {},
   "source": [
    "4. The mean() function finds the average of elements of the array."
   ]
  },
  {
   "cell_type": "code",
   "execution_count": 135,
   "id": "c03d9048-666c-4548-afc0-ade1e1c620bf",
   "metadata": {},
   "outputs": [
    {
     "data": {
      "text/plain": [
       "3.125"
      ]
     },
     "execution_count": 135,
     "metadata": {},
     "output_type": "execute_result"
    }
   ],
   "source": [
    "arrayA.mean()"
   ]
  },
  {
   "cell_type": "code",
   "execution_count": 136,
   "id": "3b3b8960-c82b-4364-b7bc-b1b6f202cd0d",
   "metadata": {},
   "outputs": [
    {
     "data": {
      "text/plain": [
       "3.75"
      ]
     },
     "execution_count": 136,
     "metadata": {},
     "output_type": "execute_result"
    }
   ],
   "source": [
    "arrayB.mean()"
   ]
  },
  {
   "cell_type": "code",
   "execution_count": 137,
   "id": "226d5fa3-07b4-44dd-b586-f2993087a8fc",
   "metadata": {},
   "outputs": [
    {
     "data": {
      "text/plain": [
       "array([3.5, 4. ])"
      ]
     },
     "execution_count": 137,
     "metadata": {},
     "output_type": "execute_result"
    }
   ],
   "source": [
    "# Column average\n",
    "\n",
    "arrayB.mean(axis = 0)"
   ]
  },
  {
   "cell_type": "code",
   "execution_count": 138,
   "id": "a94969c2-492c-4f07-bcad-8954ce8e6a02",
   "metadata": {},
   "outputs": [
    {
     "data": {
      "text/plain": [
       "array([4.5, 3. ])"
      ]
     },
     "execution_count": 138,
     "metadata": {},
     "output_type": "execute_result"
    }
   ],
   "source": [
    "arrayB.mean(axis = 1)"
   ]
  },
  {
   "cell_type": "markdown",
   "id": "8c0ba4ad-6241-426a-990e-c0ec68c95675",
   "metadata": {},
   "source": [
    "5. The std() function is used to find standard \n",
    "deviation of an array of elements."
   ]
  },
  {
   "cell_type": "code",
   "execution_count": 139,
   "id": "3b3e1ee8-7d94-460a-afd4-328666a64be1",
   "metadata": {},
   "outputs": [
    {
     "data": {
      "text/plain": [
       "3.550968177835448"
      ]
     },
     "execution_count": 139,
     "metadata": {},
     "output_type": "execute_result"
    }
   ],
   "source": [
    "arrayA.std()"
   ]
  },
  {
   "cell_type": "code",
   "execution_count": 140,
   "id": "91def87f-388e-4d80-9886-e2449af82d34",
   "metadata": {},
   "outputs": [
    {
     "data": {
      "text/plain": [
       "1.479019945774904"
      ]
     },
     "execution_count": 140,
     "metadata": {},
     "output_type": "execute_result"
    }
   ],
   "source": [
    "arrayB.std()"
   ]
  },
  {
   "cell_type": "code",
   "execution_count": 141,
   "id": "c0ebfd44-9890-4cfa-8cad-162358623d70",
   "metadata": {},
   "outputs": [
    {
     "data": {
      "text/plain": [
       "array([0.5, 2. ])"
      ]
     },
     "execution_count": 141,
     "metadata": {},
     "output_type": "execute_result"
    }
   ],
   "source": [
    "arrayB.std(axis=0)"
   ]
  },
  {
   "cell_type": "code",
   "execution_count": 142,
   "id": "6dc5ca5c-34b3-4c30-b22b-9b6a33a7dd10",
   "metadata": {},
   "outputs": [
    {
     "data": {
      "text/plain": [
       "array([1.5, 1. ])"
      ]
     },
     "execution_count": 142,
     "metadata": {},
     "output_type": "execute_result"
    }
   ],
   "source": [
    "arrayB.std(axis=1)"
   ]
  },
  {
   "cell_type": "markdown",
   "id": "b5d13bc6-764a-4d3b-9d9f-0af1e1edf443",
   "metadata": {},
   "source": [
    "# Iteration in the Array"
   ]
  },
  {
   "cell_type": "markdown",
   "id": "20b2ec12-2cc7-4f81-9d29-8b54b9eb9e5d",
   "metadata": {},
   "source": [
    "### In One Dimensional Array"
   ]
  },
  {
   "cell_type": "code",
   "execution_count": 15,
   "id": "bf16a03e-3d2c-4ee8-8060-5a0d297a8a8d",
   "metadata": {},
   "outputs": [],
   "source": [
    "a1 = np.array([1, 2, 3, 4, 5])"
   ]
  },
  {
   "cell_type": "code",
   "execution_count": 16,
   "id": "07bf9e91-4021-4068-9524-bc5ac3feb8ff",
   "metadata": {},
   "outputs": [
    {
     "name": "stdout",
     "output_type": "stream",
     "text": [
      "1\n",
      "2\n",
      "3\n",
      "4\n",
      "5\n"
     ]
    }
   ],
   "source": [
    "for x in a1:\n",
    "    print(x)"
   ]
  },
  {
   "cell_type": "code",
   "execution_count": 17,
   "id": "f889509c-2b6f-41b7-8867-a48ed1535188",
   "metadata": {},
   "outputs": [
    {
     "name": "stdout",
     "output_type": "stream",
     "text": [
      "0 1\n",
      "1 2\n",
      "2 3\n",
      "3 4\n",
      "4 5\n"
     ]
    }
   ],
   "source": [
    "for i,x in enumerate(a1):\n",
    "    print(i, x)"
   ]
  },
  {
   "cell_type": "markdown",
   "id": "67867861-fd68-4a7f-ba52-88995831e8bd",
   "metadata": {},
   "source": [
    "### In Two Dimensional Array"
   ]
  },
  {
   "cell_type": "code",
   "execution_count": 22,
   "id": "9eb5662b-b132-4d01-b741-86b16410de75",
   "metadata": {},
   "outputs": [],
   "source": [
    "a2 = np.array([[1, 2, 3, 4, 5],\n",
    "              [6, 7, 8, 9, 10]])"
   ]
  },
  {
   "cell_type": "code",
   "execution_count": 24,
   "id": "e6f6ccee-0509-4593-80f7-ff186e8b4bf1",
   "metadata": {},
   "outputs": [
    {
     "name": "stdout",
     "output_type": "stream",
     "text": [
      "[1 2 3 4 5]\n",
      "[ 6  7  8  9 10]\n"
     ]
    }
   ],
   "source": [
    "for z in a2:\n",
    "    print(z)"
   ]
  },
  {
   "cell_type": "code",
   "execution_count": 26,
   "id": "d2c9f94d-7e30-473b-b910-eceb8c626ff1",
   "metadata": {},
   "outputs": [
    {
     "name": "stdout",
     "output_type": "stream",
     "text": [
      "1\n",
      "2\n",
      "3\n",
      "4\n",
      "5\n",
      "6\n",
      "7\n",
      "8\n",
      "9\n",
      "10\n"
     ]
    }
   ],
   "source": [
    "for i in a2:\n",
    "    for j in i:\n",
    "        print(j)"
   ]
  },
  {
   "cell_type": "markdown",
   "id": "37cfe752-48d8-42c4-9585-ce438fe17065",
   "metadata": {},
   "source": [
    "# Loading Array from Filees). "
   ]
  },
  {
   "cell_type": "markdown",
   "id": "3a5578fa-4bde-40ca-8966-2a06bf165280",
   "metadata": {},
   "source": [
    "## Using NumPy.loadtxt()"
   ]
  },
  {
   "cell_type": "markdown",
   "id": "e39d533a-9c5d-4630-8f59-3fbb3482d0e8",
   "metadata": {},
   "source": [
    "<p>Sometimes, we may have data in files and we may need to load that data in an array for processing. numpy.loadtxt() and numpy.genfromtxt() are the two functions that can be used to load data from text files. \n",
    "The most commonly used file type to handle large amount of data is called CSV (Comma Separated Values).</p>"
   ]
  },
  {
   "cell_type": "code",
   "execution_count": 12,
   "id": "6844eea8-4cdc-4fdd-bf7d-f14d5309f9aa",
   "metadata": {},
   "outputs": [
    {
     "data": {
      "text/plain": [
       "array([[ 1, 36, 18, 57],\n",
       "       [ 2, 22, 23, 45],\n",
       "       [ 3, 43, 51, 37],\n",
       "       [ 4, 41, 40, 60],\n",
       "       [ 5, 13, 18, 37]])"
      ]
     },
     "execution_count": 12,
     "metadata": {},
     "output_type": "execute_result"
    }
   ],
   "source": [
    "StudentData = np.loadtxt(\"data.txt\",  skiprows = 1, delimiter=\",\", dtype=int)\n",
    "StudentData"
   ]
  },
  {
   "cell_type": "code",
   "execution_count": 13,
   "id": "956bb60d-daaa-41e9-8675-ba877d5576a7",
   "metadata": {},
   "outputs": [],
   "source": [
    "# To import data into multiple NumPy arrays row wise.\n",
    "# Values related to student1 in array stud1, student2 in array stud2 etc.\n",
    "\n",
    "stud1, stud2, stud3, stud4, stud5 = np.loadtxt(\"data.txt\", skiprows=1,  delimiter=\",\", dtype=int)"
   ]
  },
  {
   "cell_type": "code",
   "execution_count": 154,
   "id": "b3c80083-ca73-4da2-8c63-4750dbaa2e99",
   "metadata": {},
   "outputs": [
    {
     "data": {
      "text/plain": [
       "array([ 1, 36, 18, 57])"
      ]
     },
     "execution_count": 154,
     "metadata": {},
     "output_type": "execute_result"
    }
   ],
   "source": [
    "stud1"
   ]
  },
  {
   "cell_type": "code",
   "execution_count": 155,
   "id": "63c84071-2993-45da-b090-70dbfdbb092d",
   "metadata": {},
   "outputs": [
    {
     "data": {
      "text/plain": [
       "array([ 2, 22, 23, 45])"
      ]
     },
     "execution_count": 155,
     "metadata": {},
     "output_type": "execute_result"
    }
   ],
   "source": [
    "stud2"
   ]
  },
  {
   "cell_type": "code",
   "execution_count": 156,
   "id": "04df439f-d066-4328-8124-25793823560b",
   "metadata": {},
   "outputs": [
    {
     "data": {
      "text/plain": [
       "array([ 3, 43, 51, 37])"
      ]
     },
     "execution_count": 156,
     "metadata": {},
     "output_type": "execute_result"
    }
   ],
   "source": [
    "stud3"
   ]
  },
  {
   "cell_type": "code",
   "execution_count": 157,
   "id": "51c0b510-fee1-43cc-afbb-523ddb0ba89f",
   "metadata": {},
   "outputs": [
    {
     "data": {
      "text/plain": [
       "array([ 4, 41, 40, 60])"
      ]
     },
     "execution_count": 157,
     "metadata": {},
     "output_type": "execute_result"
    }
   ],
   "source": [
    "stud4"
   ]
  },
  {
   "cell_type": "code",
   "execution_count": 158,
   "id": "357f8320-2863-474d-a986-4f6db9e3f1e3",
   "metadata": {},
   "outputs": [
    {
     "data": {
      "text/plain": [
       "array([ 5, 13, 18, 37])"
      ]
     },
     "execution_count": 158,
     "metadata": {},
     "output_type": "execute_result"
    }
   ],
   "source": [
    "stud5"
   ]
  },
  {
   "cell_type": "code",
   "execution_count": 164,
   "id": "2a7a6130-dff2-482a-a32e-6341801cd6a3",
   "metadata": {},
   "outputs": [],
   "source": [
    "# Import data into multiple arrays column wise. \n",
    "# Data in column RollNo will be put in array rollno, data in column Marks1 \n",
    "# will be put in array mks1 and so on.\n",
    "\n",
    "rollno, mks1, mks2, mks3 = np.loadtxt('MissingData.txt', skiprows=1, delimiter=',', unpack=True, dtype = int)"
   ]
  },
  {
   "cell_type": "code",
   "execution_count": 165,
   "id": "85dd165d-856b-4f58-968c-e3a48c199c1b",
   "metadata": {},
   "outputs": [
    {
     "data": {
      "text/plain": [
       "array([1, 2, 3, 4, 5])"
      ]
     },
     "execution_count": 165,
     "metadata": {},
     "output_type": "execute_result"
    }
   ],
   "source": [
    "rollno"
   ]
  },
  {
   "cell_type": "code",
   "execution_count": 166,
   "id": "6635a262-65dc-45c2-a48b-335d05a57e5d",
   "metadata": {},
   "outputs": [
    {
     "data": {
      "text/plain": [
       "array([36, 22, 43, 41, 13])"
      ]
     },
     "execution_count": 166,
     "metadata": {},
     "output_type": "execute_result"
    }
   ],
   "source": [
    "mks1"
   ]
  },
  {
   "cell_type": "code",
   "execution_count": 167,
   "id": "caebcd03-c05c-44b6-b714-20601896d573",
   "metadata": {},
   "outputs": [
    {
     "data": {
      "text/plain": [
       "array([18, 23, 51, 40, 18])"
      ]
     },
     "execution_count": 167,
     "metadata": {},
     "output_type": "execute_result"
    }
   ],
   "source": [
    "mks2"
   ]
  },
  {
   "cell_type": "code",
   "execution_count": 168,
   "id": "29015152-796d-4539-975e-8a2965dfc28d",
   "metadata": {},
   "outputs": [
    {
     "data": {
      "text/plain": [
       "array([57, 45, 37, 60, 37])"
      ]
     },
     "execution_count": 168,
     "metadata": {},
     "output_type": "execute_result"
    }
   ],
   "source": [
    "mks3"
   ]
  },
  {
   "cell_type": "markdown",
   "id": "ad1e5ceb-ff71-489d-9669-23bbdc7a7424",
   "metadata": {},
   "source": [
    "## Using NumPy.genfromtxt()"
   ]
  },
  {
   "cell_type": "code",
   "execution_count": 8,
   "id": "eb364d7a-09ec-43e7-8961-beb9039e8eca",
   "metadata": {},
   "outputs": [],
   "source": [
    "DataArray = np.genfromtxt(\"MissingData.txt\", skip_header=1,delimiter = \",\")"
   ]
  },
  {
   "cell_type": "code",
   "execution_count": 9,
   "id": "b4ff9c53-bf6b-4e4b-a75d-9cb48f327df9",
   "metadata": {},
   "outputs": [
    {
     "data": {
      "text/plain": [
       "array([[ 1., 36., 18., 57.],\n",
       "       [ 2., nan, 23., 45.],\n",
       "       [ 3., 43., 51., nan],\n",
       "       [ 4., 41., 40., 60.],\n",
       "       [ 5., 13., 18., 37.]])"
      ]
     },
     "execution_count": 9,
     "metadata": {},
     "output_type": "execute_result"
    }
   ],
   "source": [
    "DataArray"
   ]
  },
  {
   "cell_type": "code",
   "execution_count": 10,
   "id": "6077bdcf-76df-4df2-bb0e-7633385c6d2b",
   "metadata": {},
   "outputs": [
    {
     "data": {
      "text/plain": [
       "array([[   1,   36,   18,   57],\n",
       "       [   2, -999,   23,   45],\n",
       "       [   3,   43,   51, -999],\n",
       "       [   4,   41,   40,   60],\n",
       "       [   5,   13,   18,   37]])"
      ]
     },
     "execution_count": 10,
     "metadata": {},
     "output_type": "execute_result"
    }
   ],
   "source": [
    "dataarray = np.genfromtxt('MissingData.txt',skip_header=1, delimiter=',', filling_values=-999, dtype = int)\n",
    "dataarray"
   ]
  },
  {
   "cell_type": "markdown",
   "id": "629efc06-d0bc-45a1-b14f-f534545848a0",
   "metadata": {},
   "source": [
    "# Saving NumPy Arrays in Files on Disk\n",
    "\n",
    "The savetxt() function is used to save a NumPy array \n",
    "to a text file"
   ]
  },
  {
   "cell_type": "code",
   "execution_count": 11,
   "id": "efb95b20-43ef-454a-9ac7-e8e86facc23c",
   "metadata": {},
   "outputs": [],
   "source": [
    "np.savetxt('testout.txt', dataarray, delimiter=',', fmt='%i')"
   ]
  },
  {
   "cell_type": "code",
   "execution_count": null,
   "id": "447e6d84-b0e0-4033-a02c-da028d892420",
   "metadata": {},
   "outputs": [],
   "source": [
    "RationData = np.loadtxt(\"C:\\Users\\dhana\\Music\\Anil Ration Grocery List.txt\", delimiter=\",\", dtype=int)\n",
    "StudentData"
   ]
  }
 ],
 "metadata": {
  "kernelspec": {
   "display_name": "Python 3 (ipykernel)",
   "language": "python",
   "name": "python3"
  },
  "language_info": {
   "codemirror_mode": {
    "name": "ipython",
    "version": 3
   },
   "file_extension": ".py",
   "mimetype": "text/x-python",
   "name": "python",
   "nbconvert_exporter": "python",
   "pygments_lexer": "ipython3",
   "version": "3.12.2"
  },
  "widgets": {
   "application/vnd.jupyter.widget-state+json": {
    "state": {},
    "version_major": 2,
    "version_minor": 0
   }
  }
 },
 "nbformat": 4,
 "nbformat_minor": 5
}
