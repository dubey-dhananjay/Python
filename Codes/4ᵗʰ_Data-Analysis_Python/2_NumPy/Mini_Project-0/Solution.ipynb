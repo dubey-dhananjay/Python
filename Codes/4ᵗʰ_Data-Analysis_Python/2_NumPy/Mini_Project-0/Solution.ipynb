{
 "cells": [
  {
   "cell_type": "markdown",
   "id": "29c75f00-cedc-49b5-a9e4-769e20b54eb6",
   "metadata": {},
   "source": [
    "<center><img src=\"Array-in-Pic.jpg\"></img></center>\n",
    "<p><center><b>Convert the Above Picture into the Array</b></center></p>\n",
    "<p><center>Irrespective of their color Slice them</center></p>"
   ]
  },
  {
   "cell_type": "code",
   "execution_count": 2,
   "id": "35773846-c82f-4ceb-b0b0-2fc90728aec2",
   "metadata": {},
   "outputs": [
    {
     "data": {
      "text/plain": [
       "array([[ 1,  2,  3,  4,  5],\n",
       "       [ 6,  7,  8,  9, 10],\n",
       "       [11, 12, 13, 14, 15],\n",
       "       [16, 17, 18, 19, 20],\n",
       "       [21, 22, 23, 24, 25],\n",
       "       [26, 27, 28, 29, 30]])"
      ]
     },
     "execution_count": 2,
     "metadata": {},
     "output_type": "execute_result"
    }
   ],
   "source": [
    "import numpy as np\n",
    "\n",
    "\n",
    "PicArray = np.array([[1, 2, 3, 4, 5],\n",
    "                     [6, 7, 8, 9, 10],\n",
    "                     [11, 12, 13, 14, 15],\n",
    "                     [16, 17, 18, 19, 20],\n",
    "                     [21, 22, 23, 24, 25],\n",
    "                     [26, 27, 28, 29, 30]])\n",
    "PicArray"
   ]
  },
  {
   "cell_type": "code",
   "execution_count": 34,
   "id": "b75da0fd-1bee-4160-a7b7-b354da30e53c",
   "metadata": {},
   "outputs": [
    {
     "name": "stdout",
     "output_type": "stream",
     "text": [
      "2\n",
      "8\n",
      "14\n",
      "20\n"
     ]
    }
   ],
   "source": [
    "print(PicArray[0,1])\n",
    "print(PicArray[1,2])\n",
    "print(PicArray[2,3])\n",
    "print(PicArray[3,4])\n",
    "        # or \n",
    "# PicArray[[0, 1, 2, 3],[1, 2, 3, 4]]   "
   ]
  },
  {
   "cell_type": "code",
   "execution_count": 30,
   "id": "9febbe1e-781d-4903-93ef-87db5f7d3c55",
   "metadata": {},
   "outputs": [
    {
     "data": {
      "text/plain": [
       "array([[11, 12],\n",
       "       [16, 17]])"
      ]
     },
     "execution_count": 30,
     "metadata": {},
     "output_type": "execute_result"
    }
   ],
   "source": [
    "PicArray[[2,3],0:2]       # or PicArray[2:4, 0:2]"
   ]
  },
  {
   "cell_type": "code",
   "execution_count": 18,
   "id": "02cd3b96-2e28-4652-a908-866fcc83f1ef",
   "metadata": {},
   "outputs": [
    {
     "data": {
      "text/plain": [
       "array([[ 4,  5],\n",
       "       [24, 25],\n",
       "       [29, 30]])"
      ]
     },
     "execution_count": 18,
     "metadata": {},
     "output_type": "execute_result"
    }
   ],
   "source": [
    "PicArray[[0,4,5],3:5]"
   ]
  }
 ],
 "metadata": {
  "kernelspec": {
   "display_name": "Python 3 (ipykernel)",
   "language": "python",
   "name": "python3"
  },
  "language_info": {
   "codemirror_mode": {
    "name": "ipython",
    "version": 3
   },
   "file_extension": ".py",
   "mimetype": "text/x-python",
   "name": "python",
   "nbconvert_exporter": "python",
   "pygments_lexer": "ipython3",
   "version": "3.12.2"
  },
  "widgets": {
   "application/vnd.jupyter.widget-state+json": {
    "state": {},
    "version_major": 2,
    "version_minor": 0
   }
  }
 },
 "nbformat": 4,
 "nbformat_minor": 5
}
