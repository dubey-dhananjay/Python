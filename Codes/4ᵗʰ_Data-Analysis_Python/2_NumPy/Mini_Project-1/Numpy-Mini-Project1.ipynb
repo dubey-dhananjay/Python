{
 "cells": [
  {
   "cell_type": "code",
   "execution_count": 1,
   "id": "c6566489-83c6-4eeb-93ea-9b93ded46dab",
   "metadata": {},
   "outputs": [],
   "source": [
    "import numpy as np"
   ]
  },
  {
   "cell_type": "markdown",
   "id": "def7a568-8a67-4b0e-aab5-39a5887e6ef9",
   "metadata": {},
   "source": [
    "# Load Data From File"
   ]
  },
  {
   "cell_type": "code",
   "execution_count": 5,
   "id": "9f26c43d-3fc2-4315-a2ec-a44d781dcd44",
   "metadata": {},
   "outputs": [
    {
     "name": "stdout",
     "output_type": "stream",
     "text": [
      "[[  1  13  21  11 196  75   4   3  34   6   7   8   0   1   2   3   4   5]\n",
      " [  3  42  12  33 766  75   4  55   6   4   3   4   5   6   7   0  11  12]\n",
      " [  1  22  33  11 999  11   2   1  78   0   1   2   9   8   7   1  76  88]]\n"
     ]
    }
   ],
   "source": [
    "FileData = np.genfromtxt(\"data.txt\", delimiter = \",\")\n",
    "\n",
    "FileData = FileData.astype('int32')\n",
    "print(FileData)"
   ]
  },
  {
   "cell_type": "markdown",
   "id": "ccede520-368a-4db7-89c6-5bdb4710435a",
   "metadata": {},
   "source": [
    "# Boolean Masking & Advance Indexing"
   ]
  },
  {
   "cell_type": "code",
   "execution_count": 24,
   "id": "2d65fdf8-17c5-44d5-ae67-833265edd9f2",
   "metadata": {},
   "outputs": [
    {
     "data": {
      "text/plain": [
       "array([[False, False, False, False,  True,  True, False, False, False,\n",
       "        False, False, False, False, False, False, False, False, False],\n",
       "       [False, False, False, False,  True,  True, False,  True, False,\n",
       "        False, False, False, False, False, False, False, False, False],\n",
       "       [False, False, False, False,  True, False, False, False,  True,\n",
       "        False, False, False, False, False, False, False,  True,  True]])"
      ]
     },
     "execution_count": 24,
     "metadata": {},
     "output_type": "execute_result"
    }
   ],
   "source": [
    "FileData > 50"
   ]
  },
  {
   "cell_type": "code",
   "execution_count": 25,
   "id": "b9f54ac0-160b-42fe-8e96-51bc7cc1c140",
   "metadata": {},
   "outputs": [
    {
     "data": {
      "text/plain": [
       "array([196,  75, 766,  75,  55, 999,  78,  76,  88])"
      ]
     },
     "execution_count": 25,
     "metadata": {},
     "output_type": "execute_result"
    }
   ],
   "source": [
    "FileData[FileData > 50]"
   ]
  },
  {
   "cell_type": "markdown",
   "id": "636804c8-5fce-4325-942b-7ee673ef6c40",
   "metadata": {},
   "source": [
    "# Index with a List in NumPy"
   ]
  },
  {
   "cell_type": "code",
   "execution_count": 43,
   "id": "79e348a9-dd02-4211-b485-5b7f8e65c2c8",
   "metadata": {},
   "outputs": [
    {
     "name": "stdout",
     "output_type": "stream",
     "text": [
      "[[   1    2    3    4    5    6    7    8    9   10]\n",
      " [  11   22   33   44   55   66   77   88   99 1010]]\n",
      "Multiple Indexs: [2 3 9]\n"
     ]
    }
   ],
   "source": [
    "l = np.array([[1, 2, 3, 4, 5, 6, 7, 8, 9, 10],\n",
    "              [11, 22, 33, 44, 55, 66, 77, 88, 99, 1010]])\n",
    "print(l)\n",
    "print()\n",
    "print(\"Multiple Indexs:\",l[0,[1, 2, 8]])"
   ]
  },
  {
   "cell_type": "code",
   "execution_count": 44,
   "id": "2e27f7eb-1b62-4c80-8ef0-445bfc53105d",
   "metadata": {},
   "outputs": [
    {
     "name": "stdout",
     "output_type": "stream",
     "text": [
      "0 [ 1  2  3  4  5  6  7  8  9 10]\n",
      "1 [  11   22   33   44   55   66   77   88   99 1010]\n"
     ]
    }
   ],
   "source": [
    "for index,a in enumerate(l):\n",
    "    print(index, a)"
   ]
  },
  {
   "cell_type": "markdown",
   "id": "31abf664-1d60-408d-b752-ef82e1add323",
   "metadata": {},
   "source": [
    "# Comparision in Columns "
   ]
  },
  {
   "cell_type": "code",
   "execution_count": 35,
   "id": "55c7bd2d-45b0-4703-a3a2-921991f3e08c",
   "metadata": {},
   "outputs": [
    {
     "data": {
      "text/plain": [
       "array([False, False, False, False,  True,  True, False,  True,  True,\n",
       "       False, False, False, False, False, False, False,  True,  True])"
      ]
     },
     "execution_count": 35,
     "metadata": {},
     "output_type": "execute_result"
    }
   ],
   "source": [
    "np.any(FileData > 50, axis = 0)"
   ]
  },
  {
   "cell_type": "code",
   "execution_count": 22,
   "id": "f64933b9-c317-46d9-93ba-600f4c3fdbd7",
   "metadata": {},
   "outputs": [
    {
     "data": {
      "text/plain": [
       "array([False, False, False, False,  True, False, False, False, False,\n",
       "       False, False, False, False, False, False, False, False, False])"
      ]
     },
     "execution_count": 22,
     "metadata": {},
     "output_type": "execute_result"
    }
   ],
   "source": [
    "np.all(FileData > 50, axis = 0)"
   ]
  },
  {
   "cell_type": "code",
   "execution_count": 23,
   "id": "ed4766bb-705c-4947-a54e-da99a479817c",
   "metadata": {},
   "outputs": [
    {
     "data": {
      "text/plain": [
       "array([False, False, False])"
      ]
     },
     "execution_count": 23,
     "metadata": {},
     "output_type": "execute_result"
    }
   ],
   "source": [
    "np.all(FileData > 50, axis = 1)"
   ]
  },
  {
   "cell_type": "code",
   "execution_count": 51,
   "id": "1e907a2f-24e3-4fdc-b51d-512b62631efd",
   "metadata": {},
   "outputs": [
    {
     "data": {
      "text/plain": [
       "array([75, 75, 55, 78, 76, 88])"
      ]
     },
     "execution_count": 51,
     "metadata": {},
     "output_type": "execute_result"
    }
   ],
   "source": [
    "FileData[(FileData>50) & (FileData<100)]"
   ]
  }
 ],
 "metadata": {
  "kernelspec": {
   "display_name": "Python 3 (ipykernel)",
   "language": "python",
   "name": "python3"
  },
  "language_info": {
   "codemirror_mode": {
    "name": "ipython",
    "version": 3
   },
   "file_extension": ".py",
   "mimetype": "text/x-python",
   "name": "python",
   "nbconvert_exporter": "python",
   "pygments_lexer": "ipython3",
   "version": "3.12.2"
  },
  "widgets": {
   "application/vnd.jupyter.widget-state+json": {
    "state": {},
    "version_major": 2,
    "version_minor": 0
   }
  }
 },
 "nbformat": 4,
 "nbformat_minor": 5
}
