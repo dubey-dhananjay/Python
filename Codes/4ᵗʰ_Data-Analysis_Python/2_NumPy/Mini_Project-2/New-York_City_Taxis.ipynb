{
 "cells": [
  {
   "cell_type": "code",
   "execution_count": 1,
   "id": "b74ba686-41e5-43e1-9b03-0d1f17541118",
   "metadata": {},
   "outputs": [],
   "source": [
    "import numpy as np"
   ]
  },
  {
   "cell_type": "markdown",
   "id": "ae07d2ef-8a77-4f77-bdeb-94a8ee9abe84",
   "metadata": {},
   "source": [
    "# Import from .csv"
   ]
  },
  {
   "cell_type": "code",
   "execution_count": 8,
   "id": "98c61a00-08fb-42b1-886f-0af233d76ecc",
   "metadata": {},
   "outputs": [],
   "source": [
    "taxi = np.genfromtxt(\"nyc_taxis.csv\", delimiter = \",\", skip_header = True)"
   ]
  },
  {
   "cell_type": "markdown",
   "id": "7933b234-5a6a-47aa-ad77-167dcb0539af",
   "metadata": {},
   "source": [
    "# Speed"
   ]
  },
  {
   "cell_type": "code",
   "execution_count": 10,
   "id": "041d1d4f-1a4f-4809-ac91-fe657deeb364",
   "metadata": {},
   "outputs": [
    {
     "name": "stdout",
     "output_type": "stream",
     "text": [
      "[37.11340206 38.58157895 31.27222982 ... 22.29907867 42.41551247\n",
      " 36.90473407]\n"
     ]
    }
   ],
   "source": [
    "speed = taxi[:,7]/ (taxi[:,8]/3600)\n",
    "\n",
    "print(speed)"
   ]
  },
  {
   "cell_type": "markdown",
   "id": "6ca14d61-3249-4a04-a8dc-7e7070a472b5",
   "metadata": {},
   "source": [
    "# Mean Speed"
   ]
  },
  {
   "cell_type": "code",
   "execution_count": 12,
   "id": "a7da38f7-15ce-4920-aaf6-9a999fb34697",
   "metadata": {},
   "outputs": [
    {
     "name": "stdout",
     "output_type": "stream",
     "text": [
      "32.24258580925573\n"
     ]
    }
   ],
   "source": [
    "mean_speed = speed.mean()\n",
    "\n",
    "print(mean_speed)"
   ]
  },
  {
   "cell_type": "markdown",
   "id": "7dcf46c3-5efc-447f-97bd-d169d001ab38",
   "metadata": {},
   "source": [
    "# Total Rides in Feb Month"
   ]
  },
  {
   "cell_type": "code",
   "execution_count": 14,
   "id": "135bbfe7-dee6-41aa-a27f-14218394ab19",
   "metadata": {},
   "outputs": [
    {
     "data": {
      "text/plain": [
       "array([2., 2., 2., ..., 2., 2., 2.])"
      ]
     },
     "execution_count": 14,
     "metadata": {},
     "output_type": "execute_result"
    }
   ],
   "source": [
    "rides_feb = taxi[taxi[:, 1] == 2, 1]\n",
    "\n",
    "rides_feb"
   ]
  },
  {
   "cell_type": "code",
   "execution_count": 16,
   "id": "e566e1ce-2efe-46e7-995b-7e4fcb998a47",
   "metadata": {},
   "outputs": [
    {
     "name": "stdout",
     "output_type": "stream",
     "text": [
      "13333\n"
     ]
    }
   ],
   "source": [
    "print(rides_feb.shape[0])"
   ]
  },
  {
   "cell_type": "markdown",
   "id": "86141476-4865-463b-affa-f735f1bd5bd4",
   "metadata": {},
   "source": [
    "# Maximum Tip"
   ]
  },
  {
   "cell_type": "code",
   "execution_count": 20,
   "id": "2b044303-411e-4ab7-b246-6d5ea4e67d6a",
   "metadata": {},
   "outputs": [
    {
     "data": {
      "text/plain": [
       "array([ 52.8 ,  60.  ,  59.34,  80.  ,  70.  ,  60.  ,  55.  ,  65.  ,\n",
       "        80.  ,  62.  , 100.  ,  58.  ,  62.  ,  75.7 ,  60.  ,  70.  ])"
      ]
     },
     "execution_count": 20,
     "metadata": {},
     "output_type": "execute_result"
    }
   ],
   "source": [
    "max_tip = taxi[taxi[:, 12] > 50, 12]\n",
    "\n",
    "max_tip"
   ]
  },
  {
   "cell_type": "code",
   "execution_count": 21,
   "id": "8c3e084d-528b-4a35-923e-4267aa79b73b",
   "metadata": {},
   "outputs": [
    {
     "name": "stdout",
     "output_type": "stream",
     "text": [
      "16\n"
     ]
    }
   ],
   "source": [
    "print(max_tip.shape[0])"
   ]
  },
  {
   "cell_type": "markdown",
   "id": "f9f9c297-670f-4044-b8ae-9a35badb9c12",
   "metadata": {},
   "source": [
    "# Maximum Trip at Particular Location\n",
    "\n",
    "Let us say that JFK Airport has the Location Code of 2 & we have to find the Number of Trips at that Location.."
   ]
  },
  {
   "cell_type": "code",
   "execution_count": 25,
   "id": "f37fd3c7-24df-40e1-83e1-a26901a46711",
   "metadata": {},
   "outputs": [],
   "source": [
    "JFK = taxi[taxi[:,6] == 2, 6]"
   ]
  },
  {
   "cell_type": "code",
   "execution_count": 27,
   "id": "f84f08b9-e943-415c-a8d6-1d1f2aafb8ef",
   "metadata": {},
   "outputs": [
    {
     "data": {
      "text/plain": [
       "11832"
      ]
     },
     "execution_count": 27,
     "metadata": {},
     "output_type": "execute_result"
    }
   ],
   "source": [
    "JFK.shape[0]"
   ]
  }
 ],
 "metadata": {
  "kernelspec": {
   "display_name": "Python 3 (ipykernel)",
   "language": "python",
   "name": "python3"
  },
  "language_info": {
   "codemirror_mode": {
    "name": "ipython",
    "version": 3
   },
   "file_extension": ".py",
   "mimetype": "text/x-python",
   "name": "python",
   "nbconvert_exporter": "python",
   "pygments_lexer": "ipython3",
   "version": "3.12.2"
  },
  "widgets": {
   "application/vnd.jupyter.widget-state+json": {
    "state": {},
    "version_major": 2,
    "version_minor": 0
   }
  }
 },
 "nbformat": 4,
 "nbformat_minor": 5
}
