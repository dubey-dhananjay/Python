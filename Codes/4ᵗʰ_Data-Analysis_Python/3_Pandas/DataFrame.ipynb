{
 "cells": [
  {
   "cell_type": "markdown",
   "id": "d68a9d4e-2aea-4974-a98c-a3e85312f0c6",
   "metadata": {},
   "source": [
    "# DataFrame"
   ]
  },
  {
   "cell_type": "raw",
   "id": "4af87f77-4a88-449b-9ba0-122c6b6cccdc",
   "metadata": {},
   "source": [
    "Sometimes we need to work on multiple columns at a time, i.e., we need to process the tabular data. \n",
    "For example, the result of a class, items in a restaurant’s menu, reservation chart of a train, etc. \n",
    "Pandas store such tabular data using a DataFrame. \n",
    "A DataFrame is a two-dimensional labelled data structure like a table of MySQL. \n",
    "It contains rows and columns, and therefore has both a row and column index. \n",
    "Each column can have a different type of value such as numeric, string, boolean, etc., as in tables of a database."
   ]
  },
  {
   "cell_type": "code",
   "execution_count": 2,
   "id": "2499aed8-9dcf-423c-95e2-608e627b0da1",
   "metadata": {},
   "outputs": [],
   "source": [
    "import pandas as pd\n",
    "import numpy as np"
   ]
  },
  {
   "cell_type": "markdown",
   "id": "9bd30c33-4299-45c6-9cc9-134add750e74",
   "metadata": {},
   "source": [
    "## Creation of DataFrame\n",
    "There are a number of ways to create a DataFrame. \n",
    "Some of them are listed in this section."
   ]
  },
  {
   "cell_type": "markdown",
   "id": "6e8afc48-e000-43f6-beb8-40e1825f1db6",
   "metadata": {},
   "source": [
    "### A) Creation of an empty DataFrame \n",
    "An empty DataFrame can be created as follows:"
   ]
  },
  {
   "cell_type": "code",
   "execution_count": 2,
   "id": "9217eac0-3650-4f41-a4ca-bb0ab0c83822",
   "metadata": {},
   "outputs": [
    {
     "data": {
      "text/html": [
       "<div>\n",
       "<style scoped>\n",
       "    .dataframe tbody tr th:only-of-type {\n",
       "        vertical-align: middle;\n",
       "    }\n",
       "\n",
       "    .dataframe tbody tr th {\n",
       "        vertical-align: top;\n",
       "    }\n",
       "\n",
       "    .dataframe thead th {\n",
       "        text-align: right;\n",
       "    }\n",
       "</style>\n",
       "<table border=\"1\" class=\"dataframe\">\n",
       "  <thead>\n",
       "    <tr style=\"text-align: right;\">\n",
       "      <th></th>\n",
       "    </tr>\n",
       "  </thead>\n",
       "  <tbody>\n",
       "  </tbody>\n",
       "</table>\n",
       "</div>"
      ],
      "text/plain": [
       "Empty DataFrame\n",
       "Columns: []\n",
       "Index: []"
      ]
     },
     "execution_count": 2,
     "metadata": {},
     "output_type": "execute_result"
    }
   ],
   "source": [
    "dFrameEmt = pd.DataFrame()\n",
    "dFrameEmt"
   ]
  },
  {
   "cell_type": "markdown",
   "id": "8f600b52-0d3f-43b4-ad25-24140e508023",
   "metadata": {},
   "source": [
    "### B) Creation of DataFrame from NumPy ndarrays\n"
   ]
  },
  {
   "cell_type": "code",
   "execution_count": 3,
   "id": "e8adbda4-7c85-4782-99cd-1d237b11b78a",
   "metadata": {},
   "outputs": [],
   "source": [
    "array1 = np.array([10, 20, 30])\n",
    "array2 = np.array([100, 200, 300])\n",
    "array3 = np.array([-10, -20, -30, -40])"
   ]
  },
  {
   "cell_type": "code",
   "execution_count": 4,
   "id": "b00ab6d3-8c42-418e-9cb7-8e52eb399621",
   "metadata": {},
   "outputs": [
    {
     "data": {
      "text/html": [
       "<div>\n",
       "<style scoped>\n",
       "    .dataframe tbody tr th:only-of-type {\n",
       "        vertical-align: middle;\n",
       "    }\n",
       "\n",
       "    .dataframe tbody tr th {\n",
       "        vertical-align: top;\n",
       "    }\n",
       "\n",
       "    .dataframe thead th {\n",
       "        text-align: right;\n",
       "    }\n",
       "</style>\n",
       "<table border=\"1\" class=\"dataframe\">\n",
       "  <thead>\n",
       "    <tr style=\"text-align: right;\">\n",
       "      <th></th>\n",
       "      <th>0</th>\n",
       "    </tr>\n",
       "  </thead>\n",
       "  <tbody>\n",
       "    <tr>\n",
       "      <th>0</th>\n",
       "      <td>10</td>\n",
       "    </tr>\n",
       "    <tr>\n",
       "      <th>1</th>\n",
       "      <td>20</td>\n",
       "    </tr>\n",
       "    <tr>\n",
       "      <th>2</th>\n",
       "      <td>30</td>\n",
       "    </tr>\n",
       "  </tbody>\n",
       "</table>\n",
       "</div>"
      ],
      "text/plain": [
       "    0\n",
       "0  10\n",
       "1  20\n",
       "2  30"
      ]
     },
     "execution_count": 4,
     "metadata": {},
     "output_type": "execute_result"
    }
   ],
   "source": [
    "dFrame1 = pd.DataFrame(array1)\n",
    "dFrame1"
   ]
  },
  {
   "cell_type": "code",
   "execution_count": 5,
   "id": "1c304353-e017-45d2-8f9c-57e3186b1906",
   "metadata": {},
   "outputs": [
    {
     "data": {
      "text/html": [
       "<div>\n",
       "<style scoped>\n",
       "    .dataframe tbody tr th:only-of-type {\n",
       "        vertical-align: middle;\n",
       "    }\n",
       "\n",
       "    .dataframe tbody tr th {\n",
       "        vertical-align: top;\n",
       "    }\n",
       "\n",
       "    .dataframe thead th {\n",
       "        text-align: right;\n",
       "    }\n",
       "</style>\n",
       "<table border=\"1\" class=\"dataframe\">\n",
       "  <thead>\n",
       "    <tr style=\"text-align: right;\">\n",
       "      <th></th>\n",
       "      <th>A</th>\n",
       "      <th>B</th>\n",
       "      <th>C</th>\n",
       "      <th>D</th>\n",
       "    </tr>\n",
       "  </thead>\n",
       "  <tbody>\n",
       "    <tr>\n",
       "      <th>0</th>\n",
       "      <td>10</td>\n",
       "      <td>20</td>\n",
       "      <td>30</td>\n",
       "      <td>NaN</td>\n",
       "    </tr>\n",
       "    <tr>\n",
       "      <th>1</th>\n",
       "      <td>100</td>\n",
       "      <td>200</td>\n",
       "      <td>300</td>\n",
       "      <td>NaN</td>\n",
       "    </tr>\n",
       "    <tr>\n",
       "      <th>2</th>\n",
       "      <td>-10</td>\n",
       "      <td>-20</td>\n",
       "      <td>-30</td>\n",
       "      <td>-40.0</td>\n",
       "    </tr>\n",
       "  </tbody>\n",
       "</table>\n",
       "</div>"
      ],
      "text/plain": [
       "     A    B    C     D\n",
       "0   10   20   30   NaN\n",
       "1  100  200  300   NaN\n",
       "2  -10  -20  -30 -40.0"
      ]
     },
     "execution_count": 5,
     "metadata": {},
     "output_type": "execute_result"
    }
   ],
   "source": [
    "dFrame2 = pd.DataFrame([array1, array2, array3], columns = [\"A\", \"B\", \"C\", \"D\"])\n",
    "dFrame2"
   ]
  },
  {
   "cell_type": "markdown",
   "id": "954f8515-2601-4940-8286-7b6cad0aa05b",
   "metadata": {},
   "source": [
    "### C) Creation of DataFrame from List of Dictionaries"
   ]
  },
  {
   "cell_type": "code",
   "execution_count": 6,
   "id": "5c037ebb-8fb2-4be2-a46c-3b7df6835bdf",
   "metadata": {},
   "outputs": [
    {
     "data": {
      "text/plain": [
       "[{'a': 10, 'b': 20}, {'a': 5, 'b': 10, 'c': 20}]"
      ]
     },
     "execution_count": 6,
     "metadata": {},
     "output_type": "execute_result"
    }
   ],
   "source": [
    "listDict = [ {\"a\":10, \"b\":20}, {\"a\":5, \"b\":10, \"c\":20} ]\n",
    "listDict"
   ]
  },
  {
   "cell_type": "code",
   "execution_count": 7,
   "id": "a93e5237-8515-4f86-a72f-f9d16ed97798",
   "metadata": {},
   "outputs": [
    {
     "data": {
      "text/html": [
       "<div>\n",
       "<style scoped>\n",
       "    .dataframe tbody tr th:only-of-type {\n",
       "        vertical-align: middle;\n",
       "    }\n",
       "\n",
       "    .dataframe tbody tr th {\n",
       "        vertical-align: top;\n",
       "    }\n",
       "\n",
       "    .dataframe thead th {\n",
       "        text-align: right;\n",
       "    }\n",
       "</style>\n",
       "<table border=\"1\" class=\"dataframe\">\n",
       "  <thead>\n",
       "    <tr style=\"text-align: right;\">\n",
       "      <th></th>\n",
       "      <th>a</th>\n",
       "      <th>b</th>\n",
       "      <th>c</th>\n",
       "    </tr>\n",
       "  </thead>\n",
       "  <tbody>\n",
       "    <tr>\n",
       "      <th>0</th>\n",
       "      <td>10</td>\n",
       "      <td>20</td>\n",
       "      <td>NaN</td>\n",
       "    </tr>\n",
       "    <tr>\n",
       "      <th>1</th>\n",
       "      <td>5</td>\n",
       "      <td>10</td>\n",
       "      <td>20.0</td>\n",
       "    </tr>\n",
       "  </tbody>\n",
       "</table>\n",
       "</div>"
      ],
      "text/plain": [
       "    a   b     c\n",
       "0  10  20   NaN\n",
       "1   5  10  20.0"
      ]
     },
     "execution_count": 7,
     "metadata": {},
     "output_type": "execute_result"
    }
   ],
   "source": [
    "dFrameListDict = pd.DataFrame(listDict)\n",
    "dFrameListDict"
   ]
  },
  {
   "cell_type": "markdown",
   "id": "89091735-c471-4824-b84f-159e698857c3",
   "metadata": {},
   "source": [
    "### D) Creation of DataFrame from Dictionary of Lists"
   ]
  },
  {
   "cell_type": "code",
   "execution_count": 8,
   "id": "d1e47d16-dcf7-48bc-83f1-15424e2685df",
   "metadata": {},
   "outputs": [],
   "source": [
    "dictForest = {\n",
    "    \"State\": [\"Assam\", \"Delhi\", \"Kerla\"],\n",
    "    \"Green Area\": [78438, 1483, 38852],\n",
    "    \"VDF\": [2797, 6.72, 1663]\n",
    "}"
   ]
  },
  {
   "cell_type": "code",
   "execution_count": 9,
   "id": "beb1721d-27e9-4dc3-a48b-3bc218612e3a",
   "metadata": {},
   "outputs": [
    {
     "data": {
      "text/html": [
       "<div>\n",
       "<style scoped>\n",
       "    .dataframe tbody tr th:only-of-type {\n",
       "        vertical-align: middle;\n",
       "    }\n",
       "\n",
       "    .dataframe tbody tr th {\n",
       "        vertical-align: top;\n",
       "    }\n",
       "\n",
       "    .dataframe thead th {\n",
       "        text-align: right;\n",
       "    }\n",
       "</style>\n",
       "<table border=\"1\" class=\"dataframe\">\n",
       "  <thead>\n",
       "    <tr style=\"text-align: right;\">\n",
       "      <th></th>\n",
       "      <th>State</th>\n",
       "      <th>Green Area</th>\n",
       "      <th>VDF</th>\n",
       "    </tr>\n",
       "  </thead>\n",
       "  <tbody>\n",
       "    <tr>\n",
       "      <th>0</th>\n",
       "      <td>Assam</td>\n",
       "      <td>78438</td>\n",
       "      <td>2797.00</td>\n",
       "    </tr>\n",
       "    <tr>\n",
       "      <th>1</th>\n",
       "      <td>Delhi</td>\n",
       "      <td>1483</td>\n",
       "      <td>6.72</td>\n",
       "    </tr>\n",
       "    <tr>\n",
       "      <th>2</th>\n",
       "      <td>Kerla</td>\n",
       "      <td>38852</td>\n",
       "      <td>1663.00</td>\n",
       "    </tr>\n",
       "  </tbody>\n",
       "</table>\n",
       "</div>"
      ],
      "text/plain": [
       "   State  Green Area      VDF\n",
       "0  Assam       78438  2797.00\n",
       "1  Delhi        1483     6.72\n",
       "2  Kerla       38852  1663.00"
      ]
     },
     "execution_count": 9,
     "metadata": {},
     "output_type": "execute_result"
    }
   ],
   "source": [
    "dFrameForest = pd.DataFrame(dictForest)\n",
    "dFrameForest"
   ]
  },
  {
   "cell_type": "code",
   "execution_count": 10,
   "id": "a8c47768-0512-4bfb-bb4e-5d1d375b052c",
   "metadata": {},
   "outputs": [
    {
     "data": {
      "text/html": [
       "<div>\n",
       "<style scoped>\n",
       "    .dataframe tbody tr th:only-of-type {\n",
       "        vertical-align: middle;\n",
       "    }\n",
       "\n",
       "    .dataframe tbody tr th {\n",
       "        vertical-align: top;\n",
       "    }\n",
       "\n",
       "    .dataframe thead th {\n",
       "        text-align: right;\n",
       "    }\n",
       "</style>\n",
       "<table border=\"1\" class=\"dataframe\">\n",
       "  <thead>\n",
       "    <tr style=\"text-align: right;\">\n",
       "      <th></th>\n",
       "      <th>State</th>\n",
       "      <th>VDF</th>\n",
       "      <th>GArea</th>\n",
       "    </tr>\n",
       "  </thead>\n",
       "  <tbody>\n",
       "    <tr>\n",
       "      <th>0</th>\n",
       "      <td>Assam</td>\n",
       "      <td>2797.00</td>\n",
       "      <td>NaN</td>\n",
       "    </tr>\n",
       "    <tr>\n",
       "      <th>1</th>\n",
       "      <td>Delhi</td>\n",
       "      <td>6.72</td>\n",
       "      <td>NaN</td>\n",
       "    </tr>\n",
       "    <tr>\n",
       "      <th>2</th>\n",
       "      <td>Kerla</td>\n",
       "      <td>1663.00</td>\n",
       "      <td>NaN</td>\n",
       "    </tr>\n",
       "  </tbody>\n",
       "</table>\n",
       "</div>"
      ],
      "text/plain": [
       "   State      VDF GArea\n",
       "0  Assam  2797.00   NaN\n",
       "1  Delhi     6.72   NaN\n",
       "2  Kerla  1663.00   NaN"
      ]
     },
     "execution_count": 10,
     "metadata": {},
     "output_type": "execute_result"
    }
   ],
   "source": [
    "dFrameForest1 = pd.DataFrame(dictForest, columns = [\"State\", \"VDF\", \"GArea\"])\n",
    "dFrameForest1"
   ]
  },
  {
   "cell_type": "markdown",
   "id": "ea4f2f82-770c-4f8a-97fe-f490faabf10a",
   "metadata": {},
   "source": [
    "### E) Creation of DataFrame from Series "
   ]
  },
  {
   "cell_type": "code",
   "execution_count": 11,
   "id": "68023a14-4741-476a-989b-4d95a6e58eec",
   "metadata": {},
   "outputs": [
    {
     "name": "stdout",
     "output_type": "stream",
     "text": [
      "a    1\n",
      "b    2\n",
      "c    3\n",
      "d    4\n",
      "e    5\n",
      "dtype: int64\n",
      "\n",
      "\n",
      "\n",
      "a    1000\n",
      "b    2000\n",
      "c   -1000\n",
      "d   -5000\n",
      "e     100\n",
      "dtype: int64\n",
      "\n",
      "\n",
      "\n",
      "a     10\n",
      "b     20\n",
      "c    -10\n",
      "d    -50\n",
      "e    100\n",
      "dtype: int64\n"
     ]
    }
   ],
   "source": [
    "seriesA = pd.Series([1, 2, 3, 4, 5], index = [\"a\", \"b\", \"c\", \"d\", \"e\"])\n",
    "seriesB = pd.Series([1000, 2000, -1000, -5000, 100], index = [\"a\", \"b\", \"c\", \"d\", \"e\"])\n",
    "seriesC = pd.Series([10, 20, -10, -50, 100], index = [\"a\", \"b\", \"c\", \"d\", \"e\"])\n",
    "\n",
    "print(seriesA)\n",
    "print(\"\\n\\n\")\n",
    "print(seriesB)\n",
    "print(\"\\n\\n\")\n",
    "print(seriesC)"
   ]
  },
  {
   "cell_type": "code",
   "execution_count": 12,
   "id": "59a6bc16-f289-4a34-a8f6-6930852124a8",
   "metadata": {},
   "outputs": [
    {
     "data": {
      "text/html": [
       "<div>\n",
       "<style scoped>\n",
       "    .dataframe tbody tr th:only-of-type {\n",
       "        vertical-align: middle;\n",
       "    }\n",
       "\n",
       "    .dataframe tbody tr th {\n",
       "        vertical-align: top;\n",
       "    }\n",
       "\n",
       "    .dataframe thead th {\n",
       "        text-align: right;\n",
       "    }\n",
       "</style>\n",
       "<table border=\"1\" class=\"dataframe\">\n",
       "  <thead>\n",
       "    <tr style=\"text-align: right;\">\n",
       "      <th></th>\n",
       "      <th>0</th>\n",
       "    </tr>\n",
       "  </thead>\n",
       "  <tbody>\n",
       "    <tr>\n",
       "      <th>a</th>\n",
       "      <td>1</td>\n",
       "    </tr>\n",
       "    <tr>\n",
       "      <th>b</th>\n",
       "      <td>2</td>\n",
       "    </tr>\n",
       "    <tr>\n",
       "      <th>c</th>\n",
       "      <td>3</td>\n",
       "    </tr>\n",
       "    <tr>\n",
       "      <th>d</th>\n",
       "      <td>4</td>\n",
       "    </tr>\n",
       "    <tr>\n",
       "      <th>e</th>\n",
       "      <td>5</td>\n",
       "    </tr>\n",
       "  </tbody>\n",
       "</table>\n",
       "</div>"
      ],
      "text/plain": [
       "   0\n",
       "a  1\n",
       "b  2\n",
       "c  3\n",
       "d  4\n",
       "e  5"
      ]
     },
     "execution_count": 12,
     "metadata": {},
     "output_type": "execute_result"
    }
   ],
   "source": [
    "dFrame1 = pd.DataFrame(seriesA)\n",
    "dFrame1"
   ]
  },
  {
   "cell_type": "code",
   "execution_count": 13,
   "id": "9afd985a-f34b-442a-8e07-25eaf34957e0",
   "metadata": {},
   "outputs": [
    {
     "data": {
      "text/html": [
       "<div>\n",
       "<style scoped>\n",
       "    .dataframe tbody tr th:only-of-type {\n",
       "        vertical-align: middle;\n",
       "    }\n",
       "\n",
       "    .dataframe tbody tr th {\n",
       "        vertical-align: top;\n",
       "    }\n",
       "\n",
       "    .dataframe thead th {\n",
       "        text-align: right;\n",
       "    }\n",
       "</style>\n",
       "<table border=\"1\" class=\"dataframe\">\n",
       "  <thead>\n",
       "    <tr style=\"text-align: right;\">\n",
       "      <th></th>\n",
       "      <th>a</th>\n",
       "      <th>b</th>\n",
       "      <th>c</th>\n",
       "      <th>d</th>\n",
       "      <th>e</th>\n",
       "    </tr>\n",
       "  </thead>\n",
       "  <tbody>\n",
       "    <tr>\n",
       "      <th>0</th>\n",
       "      <td>1</td>\n",
       "      <td>2</td>\n",
       "      <td>3</td>\n",
       "      <td>4</td>\n",
       "      <td>5</td>\n",
       "    </tr>\n",
       "    <tr>\n",
       "      <th>1</th>\n",
       "      <td>1000</td>\n",
       "      <td>2000</td>\n",
       "      <td>-1000</td>\n",
       "      <td>-5000</td>\n",
       "      <td>100</td>\n",
       "    </tr>\n",
       "  </tbody>\n",
       "</table>\n",
       "</div>"
      ],
      "text/plain": [
       "      a     b     c     d    e\n",
       "0     1     2     3     4    5\n",
       "1  1000  2000 -1000 -5000  100"
      ]
     },
     "execution_count": 13,
     "metadata": {},
     "output_type": "execute_result"
    }
   ],
   "source": [
    "dFrame2 = pd.DataFrame([seriesA, seriesB])\n",
    "dFrame2"
   ]
  },
  {
   "cell_type": "code",
   "execution_count": 14,
   "id": "9b3d56b8-7953-4528-9bf6-bd9a8f6c5ea1",
   "metadata": {},
   "outputs": [
    {
     "data": {
      "text/html": [
       "<div>\n",
       "<style scoped>\n",
       "    .dataframe tbody tr th:only-of-type {\n",
       "        vertical-align: middle;\n",
       "    }\n",
       "\n",
       "    .dataframe tbody tr th {\n",
       "        vertical-align: top;\n",
       "    }\n",
       "\n",
       "    .dataframe thead th {\n",
       "        text-align: right;\n",
       "    }\n",
       "</style>\n",
       "<table border=\"1\" class=\"dataframe\">\n",
       "  <thead>\n",
       "    <tr style=\"text-align: right;\">\n",
       "      <th></th>\n",
       "      <th>a</th>\n",
       "      <th>b</th>\n",
       "      <th>c</th>\n",
       "      <th>d</th>\n",
       "      <th>e</th>\n",
       "    </tr>\n",
       "  </thead>\n",
       "  <tbody>\n",
       "    <tr>\n",
       "      <th>0</th>\n",
       "      <td>1</td>\n",
       "      <td>2</td>\n",
       "      <td>3</td>\n",
       "      <td>4</td>\n",
       "      <td>5</td>\n",
       "    </tr>\n",
       "    <tr>\n",
       "      <th>1</th>\n",
       "      <td>10</td>\n",
       "      <td>20</td>\n",
       "      <td>-10</td>\n",
       "      <td>-50</td>\n",
       "      <td>100</td>\n",
       "    </tr>\n",
       "  </tbody>\n",
       "</table>\n",
       "</div>"
      ],
      "text/plain": [
       "    a   b   c   d    e\n",
       "0   1   2   3   4    5\n",
       "1  10  20 -10 -50  100"
      ]
     },
     "execution_count": 14,
     "metadata": {},
     "output_type": "execute_result"
    }
   ],
   "source": [
    "dFrame3 = pd.DataFrame([seriesA, seriesC])\n",
    "dFrame3"
   ]
  },
  {
   "cell_type": "markdown",
   "id": "e23508c8-d0cf-4eb4-86e6-f6bd23f6a48c",
   "metadata": {},
   "source": [
    "### F) Creation of DataFrame from Dictionary of Series"
   ]
  },
  {
   "cell_type": "code",
   "execution_count": 41,
   "id": "8becf115-2f68-494d-8f76-012c2e6cf6d2",
   "metadata": {},
   "outputs": [],
   "source": [
    "# Example 1:\n",
    "\n",
    "ResultSheet = {\n",
    "    \"Arnab\": pd.Series([90, 91, 97], index = [\"Maths\", \"Science\", \"Hindi\"]),\n",
    "    \"Ramit\": pd.Series([92, 81, 96], index = [\"Maths\", \"Science\", \"Hindi\"]),\n",
    "    \"Samridhi\": pd.Series([89, 91, 88], index = [\"Maths\", \"Science\", \"Hindi\"]),\n",
    "    \"Riya\": pd.Series([81, 71, 67], index = [\"Maths\", \"Science\", \"Hindi\"]),\n",
    "    \"Malika\": pd.Series([94, 95, 99], index = [\"Maths\", \"Science\", \"Hindi\"])\n",
    "}"
   ]
  },
  {
   "cell_type": "code",
   "execution_count": 42,
   "id": "4800f29e-c573-4309-9b93-3c67911707e0",
   "metadata": {},
   "outputs": [
    {
     "data": {
      "text/html": [
       "<div>\n",
       "<style scoped>\n",
       "    .dataframe tbody tr th:only-of-type {\n",
       "        vertical-align: middle;\n",
       "    }\n",
       "\n",
       "    .dataframe tbody tr th {\n",
       "        vertical-align: top;\n",
       "    }\n",
       "\n",
       "    .dataframe thead th {\n",
       "        text-align: right;\n",
       "    }\n",
       "</style>\n",
       "<table border=\"1\" class=\"dataframe\">\n",
       "  <thead>\n",
       "    <tr style=\"text-align: right;\">\n",
       "      <th></th>\n",
       "      <th>Arnab</th>\n",
       "      <th>Ramit</th>\n",
       "      <th>Samridhi</th>\n",
       "      <th>Riya</th>\n",
       "      <th>Malika</th>\n",
       "    </tr>\n",
       "  </thead>\n",
       "  <tbody>\n",
       "    <tr>\n",
       "      <th>Maths</th>\n",
       "      <td>90</td>\n",
       "      <td>92</td>\n",
       "      <td>89</td>\n",
       "      <td>81</td>\n",
       "      <td>94</td>\n",
       "    </tr>\n",
       "    <tr>\n",
       "      <th>Science</th>\n",
       "      <td>91</td>\n",
       "      <td>81</td>\n",
       "      <td>91</td>\n",
       "      <td>71</td>\n",
       "      <td>95</td>\n",
       "    </tr>\n",
       "    <tr>\n",
       "      <th>Hindi</th>\n",
       "      <td>97</td>\n",
       "      <td>96</td>\n",
       "      <td>88</td>\n",
       "      <td>67</td>\n",
       "      <td>99</td>\n",
       "    </tr>\n",
       "  </tbody>\n",
       "</table>\n",
       "</div>"
      ],
      "text/plain": [
       "         Arnab  Ramit  Samridhi  Riya  Malika\n",
       "Maths       90     92        89    81      94\n",
       "Science     91     81        91    71      95\n",
       "Hindi       97     96        88    67      99"
      ]
     },
     "execution_count": 42,
     "metadata": {},
     "output_type": "execute_result"
    }
   ],
   "source": [
    "ResultDF = pd.DataFrame(ResultSheet)\n",
    "ResultDF"
   ]
  },
  {
   "cell_type": "code",
   "execution_count": 17,
   "id": "7b7f0fcb-a625-4f18-abc9-b75509637f8e",
   "metadata": {},
   "outputs": [
    {
     "data": {
      "text/plain": [
       "pandas.core.series.Series"
      ]
     },
     "execution_count": 17,
     "metadata": {},
     "output_type": "execute_result"
    }
   ],
   "source": [
    "type(ResultDF.Arnab)"
   ]
  },
  {
   "cell_type": "code",
   "execution_count": 18,
   "id": "ec906a65-44a9-416c-a077-84feac9b3ecc",
   "metadata": {},
   "outputs": [
    {
     "data": {
      "text/plain": [
       "{'Series1': a    1\n",
       " b    2\n",
       " c    3\n",
       " d    4\n",
       " e    5\n",
       " dtype: int64,\n",
       " 'Series2': z     10\n",
       " y     20\n",
       " a    -10\n",
       " c    -50\n",
       " e    100\n",
       " dtype: int64,\n",
       " 'Series3': z     10\n",
       " y     20\n",
       " a    -10\n",
       " c    -50\n",
       " e    100\n",
       " dtype: int64}"
      ]
     },
     "execution_count": 18,
     "metadata": {},
     "output_type": "execute_result"
    }
   ],
   "source": [
    "# Example 2:\n",
    "\n",
    "dictForUnion = {\n",
    "    \"Series1\" : pd.Series([1, 2, 3, 4, 5], index = [\"a\", \"b\", \"c\", \"d\", \"e\"]),\n",
    "    \"Series2\" : pd.Series([10, 20, -10, -50, 100], index = [\"z\", \"y\", \"a\", \"c\", \"e\"]),\n",
    "    \"Series3\" : pd.Series([10, 20, -10, -50, 100], index = [\"z\", \"y\", \"a\", \"c\", \"e\"])\n",
    "}\n",
    "\n",
    "dictForUnion"
   ]
  },
  {
   "cell_type": "code",
   "execution_count": 19,
   "id": "45038b8e-8136-4d45-ab4c-d16ff81fa763",
   "metadata": {},
   "outputs": [
    {
     "data": {
      "text/html": [
       "<div>\n",
       "<style scoped>\n",
       "    .dataframe tbody tr th:only-of-type {\n",
       "        vertical-align: middle;\n",
       "    }\n",
       "\n",
       "    .dataframe tbody tr th {\n",
       "        vertical-align: top;\n",
       "    }\n",
       "\n",
       "    .dataframe thead th {\n",
       "        text-align: right;\n",
       "    }\n",
       "</style>\n",
       "<table border=\"1\" class=\"dataframe\">\n",
       "  <thead>\n",
       "    <tr style=\"text-align: right;\">\n",
       "      <th></th>\n",
       "      <th>Series1</th>\n",
       "      <th>Series2</th>\n",
       "      <th>Series3</th>\n",
       "    </tr>\n",
       "  </thead>\n",
       "  <tbody>\n",
       "    <tr>\n",
       "      <th>a</th>\n",
       "      <td>1.0</td>\n",
       "      <td>-10.0</td>\n",
       "      <td>-10.0</td>\n",
       "    </tr>\n",
       "    <tr>\n",
       "      <th>b</th>\n",
       "      <td>2.0</td>\n",
       "      <td>NaN</td>\n",
       "      <td>NaN</td>\n",
       "    </tr>\n",
       "    <tr>\n",
       "      <th>c</th>\n",
       "      <td>3.0</td>\n",
       "      <td>-50.0</td>\n",
       "      <td>-50.0</td>\n",
       "    </tr>\n",
       "    <tr>\n",
       "      <th>d</th>\n",
       "      <td>4.0</td>\n",
       "      <td>NaN</td>\n",
       "      <td>NaN</td>\n",
       "    </tr>\n",
       "    <tr>\n",
       "      <th>e</th>\n",
       "      <td>5.0</td>\n",
       "      <td>100.0</td>\n",
       "      <td>100.0</td>\n",
       "    </tr>\n",
       "    <tr>\n",
       "      <th>y</th>\n",
       "      <td>NaN</td>\n",
       "      <td>20.0</td>\n",
       "      <td>20.0</td>\n",
       "    </tr>\n",
       "    <tr>\n",
       "      <th>z</th>\n",
       "      <td>NaN</td>\n",
       "      <td>10.0</td>\n",
       "      <td>10.0</td>\n",
       "    </tr>\n",
       "  </tbody>\n",
       "</table>\n",
       "</div>"
      ],
      "text/plain": [
       "   Series1  Series2  Series3\n",
       "a      1.0    -10.0    -10.0\n",
       "b      2.0      NaN      NaN\n",
       "c      3.0    -50.0    -50.0\n",
       "d      4.0      NaN      NaN\n",
       "e      5.0    100.0    100.0\n",
       "y      NaN     20.0     20.0\n",
       "z      NaN     10.0     10.0"
      ]
     },
     "execution_count": 19,
     "metadata": {},
     "output_type": "execute_result"
    }
   ],
   "source": [
    "dFrameUnion = pd.DataFrame(dictForUnion)\n",
    "dFrameUnion"
   ]
  },
  {
   "cell_type": "markdown",
   "id": "691736f8-b9fd-430a-816f-343afff81087",
   "metadata": {},
   "source": [
    "## Operations on Rows and Columns in DataFrame "
   ]
  },
  {
   "cell_type": "markdown",
   "id": "1cd44d40-7995-4001-bd34-e3b6c334f247",
   "metadata": {},
   "source": [
    "### A) Adding a New Column to a DataFrame"
   ]
  },
  {
   "cell_type": "code",
   "execution_count": 20,
   "id": "9c70fdf7-2bed-4523-adf9-b24c5d9a75a0",
   "metadata": {},
   "outputs": [
    {
     "data": {
      "text/html": [
       "<div>\n",
       "<style scoped>\n",
       "    .dataframe tbody tr th:only-of-type {\n",
       "        vertical-align: middle;\n",
       "    }\n",
       "\n",
       "    .dataframe tbody tr th {\n",
       "        vertical-align: top;\n",
       "    }\n",
       "\n",
       "    .dataframe thead th {\n",
       "        text-align: right;\n",
       "    }\n",
       "</style>\n",
       "<table border=\"1\" class=\"dataframe\">\n",
       "  <thead>\n",
       "    <tr style=\"text-align: right;\">\n",
       "      <th></th>\n",
       "      <th>Arnab</th>\n",
       "      <th>Ramit</th>\n",
       "      <th>Samridhi</th>\n",
       "      <th>Riya</th>\n",
       "      <th>Malika</th>\n",
       "    </tr>\n",
       "  </thead>\n",
       "  <tbody>\n",
       "    <tr>\n",
       "      <th>Maths</th>\n",
       "      <td>90</td>\n",
       "      <td>92</td>\n",
       "      <td>89</td>\n",
       "      <td>81</td>\n",
       "      <td>94</td>\n",
       "    </tr>\n",
       "    <tr>\n",
       "      <th>Science</th>\n",
       "      <td>91</td>\n",
       "      <td>81</td>\n",
       "      <td>91</td>\n",
       "      <td>71</td>\n",
       "      <td>95</td>\n",
       "    </tr>\n",
       "    <tr>\n",
       "      <th>Hindi</th>\n",
       "      <td>97</td>\n",
       "      <td>96</td>\n",
       "      <td>88</td>\n",
       "      <td>67</td>\n",
       "      <td>99</td>\n",
       "    </tr>\n",
       "  </tbody>\n",
       "</table>\n",
       "</div>"
      ],
      "text/plain": [
       "         Arnab  Ramit  Samridhi  Riya  Malika\n",
       "Maths       90     92        89    81      94\n",
       "Science     91     81        91    71      95\n",
       "Hindi       97     96        88    67      99"
      ]
     },
     "execution_count": 20,
     "metadata": {},
     "output_type": "execute_result"
    }
   ],
   "source": [
    "ResultDF"
   ]
  },
  {
   "cell_type": "code",
   "execution_count": 21,
   "id": "a292cb9b-c77f-4b40-85e8-529b8e3f2043",
   "metadata": {},
   "outputs": [
    {
     "data": {
      "text/html": [
       "<div>\n",
       "<style scoped>\n",
       "    .dataframe tbody tr th:only-of-type {\n",
       "        vertical-align: middle;\n",
       "    }\n",
       "\n",
       "    .dataframe tbody tr th {\n",
       "        vertical-align: top;\n",
       "    }\n",
       "\n",
       "    .dataframe thead th {\n",
       "        text-align: right;\n",
       "    }\n",
       "</style>\n",
       "<table border=\"1\" class=\"dataframe\">\n",
       "  <thead>\n",
       "    <tr style=\"text-align: right;\">\n",
       "      <th></th>\n",
       "      <th>Arnab</th>\n",
       "      <th>Ramit</th>\n",
       "      <th>Samridhi</th>\n",
       "      <th>Riya</th>\n",
       "      <th>Malika</th>\n",
       "      <th>Preeti</th>\n",
       "    </tr>\n",
       "  </thead>\n",
       "  <tbody>\n",
       "    <tr>\n",
       "      <th>Maths</th>\n",
       "      <td>90</td>\n",
       "      <td>92</td>\n",
       "      <td>89</td>\n",
       "      <td>81</td>\n",
       "      <td>94</td>\n",
       "      <td>89</td>\n",
       "    </tr>\n",
       "    <tr>\n",
       "      <th>Science</th>\n",
       "      <td>91</td>\n",
       "      <td>81</td>\n",
       "      <td>91</td>\n",
       "      <td>71</td>\n",
       "      <td>95</td>\n",
       "      <td>78</td>\n",
       "    </tr>\n",
       "    <tr>\n",
       "      <th>Hindi</th>\n",
       "      <td>97</td>\n",
       "      <td>96</td>\n",
       "      <td>88</td>\n",
       "      <td>67</td>\n",
       "      <td>99</td>\n",
       "      <td>76</td>\n",
       "    </tr>\n",
       "  </tbody>\n",
       "</table>\n",
       "</div>"
      ],
      "text/plain": [
       "         Arnab  Ramit  Samridhi  Riya  Malika  Preeti\n",
       "Maths       90     92        89    81      94      89\n",
       "Science     91     81        91    71      95      78\n",
       "Hindi       97     96        88    67      99      76"
      ]
     },
     "execution_count": 21,
     "metadata": {},
     "output_type": "execute_result"
    }
   ],
   "source": [
    "ResultDF[\"Preeti\"] = [89, 78, 76]\n",
    "ResultDF"
   ]
  },
  {
   "cell_type": "code",
   "execution_count": 22,
   "id": "a5e6b353-2e37-44ea-8367-1c18d9e98f10",
   "metadata": {},
   "outputs": [
    {
     "data": {
      "text/html": [
       "<div>\n",
       "<style scoped>\n",
       "    .dataframe tbody tr th:only-of-type {\n",
       "        vertical-align: middle;\n",
       "    }\n",
       "\n",
       "    .dataframe tbody tr th {\n",
       "        vertical-align: top;\n",
       "    }\n",
       "\n",
       "    .dataframe thead th {\n",
       "        text-align: right;\n",
       "    }\n",
       "</style>\n",
       "<table border=\"1\" class=\"dataframe\">\n",
       "  <thead>\n",
       "    <tr style=\"text-align: right;\">\n",
       "      <th></th>\n",
       "      <th>Arnab</th>\n",
       "      <th>Ramit</th>\n",
       "      <th>Samridhi</th>\n",
       "      <th>Riya</th>\n",
       "      <th>Malika</th>\n",
       "      <th>Preeti</th>\n",
       "    </tr>\n",
       "  </thead>\n",
       "  <tbody>\n",
       "    <tr>\n",
       "      <th>Maths</th>\n",
       "      <td>90</td>\n",
       "      <td>99</td>\n",
       "      <td>89</td>\n",
       "      <td>81</td>\n",
       "      <td>94</td>\n",
       "      <td>89</td>\n",
       "    </tr>\n",
       "    <tr>\n",
       "      <th>Science</th>\n",
       "      <td>91</td>\n",
       "      <td>98</td>\n",
       "      <td>91</td>\n",
       "      <td>71</td>\n",
       "      <td>95</td>\n",
       "      <td>78</td>\n",
       "    </tr>\n",
       "    <tr>\n",
       "      <th>Hindi</th>\n",
       "      <td>97</td>\n",
       "      <td>78</td>\n",
       "      <td>88</td>\n",
       "      <td>67</td>\n",
       "      <td>99</td>\n",
       "      <td>76</td>\n",
       "    </tr>\n",
       "  </tbody>\n",
       "</table>\n",
       "</div>"
      ],
      "text/plain": [
       "         Arnab  Ramit  Samridhi  Riya  Malika  Preeti\n",
       "Maths       90     99        89    81      94      89\n",
       "Science     91     98        91    71      95      78\n",
       "Hindi       97     78        88    67      99      76"
      ]
     },
     "execution_count": 22,
     "metadata": {},
     "output_type": "execute_result"
    }
   ],
   "source": [
    "ResultDF[\"Ramit\"] = [99, 98, 78]\n",
    "ResultDF"
   ]
  },
  {
   "cell_type": "code",
   "execution_count": 23,
   "id": "7c529ac5-9ef8-4fc0-bd6a-0db3ff56055f",
   "metadata": {},
   "outputs": [
    {
     "data": {
      "text/html": [
       "<div>\n",
       "<style scoped>\n",
       "    .dataframe tbody tr th:only-of-type {\n",
       "        vertical-align: middle;\n",
       "    }\n",
       "\n",
       "    .dataframe tbody tr th {\n",
       "        vertical-align: top;\n",
       "    }\n",
       "\n",
       "    .dataframe thead th {\n",
       "        text-align: right;\n",
       "    }\n",
       "</style>\n",
       "<table border=\"1\" class=\"dataframe\">\n",
       "  <thead>\n",
       "    <tr style=\"text-align: right;\">\n",
       "      <th></th>\n",
       "      <th>Arnab</th>\n",
       "      <th>Ramit</th>\n",
       "      <th>Samridhi</th>\n",
       "      <th>Riya</th>\n",
       "      <th>Malika</th>\n",
       "      <th>Preeti</th>\n",
       "    </tr>\n",
       "  </thead>\n",
       "  <tbody>\n",
       "    <tr>\n",
       "      <th>Maths</th>\n",
       "      <td>90</td>\n",
       "      <td>99</td>\n",
       "      <td>89</td>\n",
       "      <td>81</td>\n",
       "      <td>94</td>\n",
       "      <td>89</td>\n",
       "    </tr>\n",
       "    <tr>\n",
       "      <th>Science</th>\n",
       "      <td>90</td>\n",
       "      <td>98</td>\n",
       "      <td>91</td>\n",
       "      <td>71</td>\n",
       "      <td>95</td>\n",
       "      <td>78</td>\n",
       "    </tr>\n",
       "    <tr>\n",
       "      <th>Hindi</th>\n",
       "      <td>90</td>\n",
       "      <td>78</td>\n",
       "      <td>88</td>\n",
       "      <td>67</td>\n",
       "      <td>99</td>\n",
       "      <td>76</td>\n",
       "    </tr>\n",
       "  </tbody>\n",
       "</table>\n",
       "</div>"
      ],
      "text/plain": [
       "         Arnab  Ramit  Samridhi  Riya  Malika  Preeti\n",
       "Maths       90     99        89    81      94      89\n",
       "Science     90     98        91    71      95      78\n",
       "Hindi       90     78        88    67      99      76"
      ]
     },
     "execution_count": 23,
     "metadata": {},
     "output_type": "execute_result"
    }
   ],
   "source": [
    "ResultDF[\"Arnab\"] = 90\n",
    "ResultDF"
   ]
  },
  {
   "cell_type": "markdown",
   "id": "9b84b591-4c9c-45bf-914d-26b77fd1d46a",
   "metadata": {},
   "source": [
    "### B) Adding a New Row to a DataFrame"
   ]
  },
  {
   "cell_type": "raw",
   "id": "f52d5ec8-cf5e-4e4d-8271-b940bab91c5d",
   "metadata": {},
   "source": [
    "We can add a new row to a DataFrame using the DataFrame.loc[ ] method"
   ]
  },
  {
   "cell_type": "code",
   "execution_count": 24,
   "id": "bf6ce664-886f-4654-8449-91b34c746094",
   "metadata": {},
   "outputs": [
    {
     "data": {
      "text/html": [
       "<div>\n",
       "<style scoped>\n",
       "    .dataframe tbody tr th:only-of-type {\n",
       "        vertical-align: middle;\n",
       "    }\n",
       "\n",
       "    .dataframe tbody tr th {\n",
       "        vertical-align: top;\n",
       "    }\n",
       "\n",
       "    .dataframe thead th {\n",
       "        text-align: right;\n",
       "    }\n",
       "</style>\n",
       "<table border=\"1\" class=\"dataframe\">\n",
       "  <thead>\n",
       "    <tr style=\"text-align: right;\">\n",
       "      <th></th>\n",
       "      <th>Arnab</th>\n",
       "      <th>Ramit</th>\n",
       "      <th>Samridhi</th>\n",
       "      <th>Riya</th>\n",
       "      <th>Malika</th>\n",
       "      <th>Preeti</th>\n",
       "    </tr>\n",
       "  </thead>\n",
       "  <tbody>\n",
       "    <tr>\n",
       "      <th>Maths</th>\n",
       "      <td>90</td>\n",
       "      <td>99</td>\n",
       "      <td>89</td>\n",
       "      <td>81</td>\n",
       "      <td>94</td>\n",
       "      <td>89</td>\n",
       "    </tr>\n",
       "    <tr>\n",
       "      <th>Science</th>\n",
       "      <td>90</td>\n",
       "      <td>98</td>\n",
       "      <td>91</td>\n",
       "      <td>71</td>\n",
       "      <td>95</td>\n",
       "      <td>78</td>\n",
       "    </tr>\n",
       "    <tr>\n",
       "      <th>Hindi</th>\n",
       "      <td>90</td>\n",
       "      <td>78</td>\n",
       "      <td>88</td>\n",
       "      <td>67</td>\n",
       "      <td>99</td>\n",
       "      <td>76</td>\n",
       "    </tr>\n",
       "    <tr>\n",
       "      <th>English</th>\n",
       "      <td>85</td>\n",
       "      <td>86</td>\n",
       "      <td>83</td>\n",
       "      <td>80</td>\n",
       "      <td>90</td>\n",
       "      <td>89</td>\n",
       "    </tr>\n",
       "  </tbody>\n",
       "</table>\n",
       "</div>"
      ],
      "text/plain": [
       "         Arnab  Ramit  Samridhi  Riya  Malika  Preeti\n",
       "Maths       90     99        89    81      94      89\n",
       "Science     90     98        91    71      95      78\n",
       "Hindi       90     78        88    67      99      76\n",
       "English     85     86        83    80      90      89"
      ]
     },
     "execution_count": 24,
     "metadata": {},
     "output_type": "execute_result"
    }
   ],
   "source": [
    "ResultDF.loc[\"English\"] = [85, 86, 83, 80, 90, 89]\n",
    "ResultDF"
   ]
  },
  {
   "cell_type": "raw",
   "id": "088e8994-b587-4d4b-8cc3-12a31bed108e",
   "metadata": {},
   "source": [
    "If I am creating another row of the name used as \"English\" rather than creating it will just update the pre-existing row of the same name i.e \"English\""
   ]
  },
  {
   "cell_type": "code",
   "execution_count": 25,
   "id": "cbc93ac7-9c7c-4852-8ec5-eeafec70c6d6",
   "metadata": {},
   "outputs": [
    {
     "data": {
      "text/html": [
       "<div>\n",
       "<style scoped>\n",
       "    .dataframe tbody tr th:only-of-type {\n",
       "        vertical-align: middle;\n",
       "    }\n",
       "\n",
       "    .dataframe tbody tr th {\n",
       "        vertical-align: top;\n",
       "    }\n",
       "\n",
       "    .dataframe thead th {\n",
       "        text-align: right;\n",
       "    }\n",
       "</style>\n",
       "<table border=\"1\" class=\"dataframe\">\n",
       "  <thead>\n",
       "    <tr style=\"text-align: right;\">\n",
       "      <th></th>\n",
       "      <th>Arnab</th>\n",
       "      <th>Ramit</th>\n",
       "      <th>Samridhi</th>\n",
       "      <th>Riya</th>\n",
       "      <th>Malika</th>\n",
       "      <th>Preeti</th>\n",
       "    </tr>\n",
       "  </thead>\n",
       "  <tbody>\n",
       "    <tr>\n",
       "      <th>Maths</th>\n",
       "      <td>90</td>\n",
       "      <td>99</td>\n",
       "      <td>89</td>\n",
       "      <td>81</td>\n",
       "      <td>94</td>\n",
       "      <td>89</td>\n",
       "    </tr>\n",
       "    <tr>\n",
       "      <th>Science</th>\n",
       "      <td>90</td>\n",
       "      <td>98</td>\n",
       "      <td>91</td>\n",
       "      <td>71</td>\n",
       "      <td>95</td>\n",
       "      <td>78</td>\n",
       "    </tr>\n",
       "    <tr>\n",
       "      <th>Hindi</th>\n",
       "      <td>90</td>\n",
       "      <td>78</td>\n",
       "      <td>88</td>\n",
       "      <td>67</td>\n",
       "      <td>99</td>\n",
       "      <td>76</td>\n",
       "    </tr>\n",
       "    <tr>\n",
       "      <th>English</th>\n",
       "      <td>95</td>\n",
       "      <td>86</td>\n",
       "      <td>95</td>\n",
       "      <td>80</td>\n",
       "      <td>95</td>\n",
       "      <td>99</td>\n",
       "    </tr>\n",
       "  </tbody>\n",
       "</table>\n",
       "</div>"
      ],
      "text/plain": [
       "         Arnab  Ramit  Samridhi  Riya  Malika  Preeti\n",
       "Maths       90     99        89    81      94      89\n",
       "Science     90     98        91    71      95      78\n",
       "Hindi       90     78        88    67      99      76\n",
       "English     95     86        95    80      95      99"
      ]
     },
     "execution_count": 25,
     "metadata": {},
     "output_type": "execute_result"
    }
   ],
   "source": [
    "ResultDF.loc[\"English\"] = [95, 86, 95, 80, 95, 99]\n",
    "ResultDF"
   ]
  },
  {
   "cell_type": "code",
   "execution_count": 26,
   "id": "9ad9b986-b474-4994-8be8-9c5dd2c01acb",
   "metadata": {},
   "outputs": [
    {
     "data": {
      "text/html": [
       "<div>\n",
       "<style scoped>\n",
       "    .dataframe tbody tr th:only-of-type {\n",
       "        vertical-align: middle;\n",
       "    }\n",
       "\n",
       "    .dataframe tbody tr th {\n",
       "        vertical-align: top;\n",
       "    }\n",
       "\n",
       "    .dataframe thead th {\n",
       "        text-align: right;\n",
       "    }\n",
       "</style>\n",
       "<table border=\"1\" class=\"dataframe\">\n",
       "  <thead>\n",
       "    <tr style=\"text-align: right;\">\n",
       "      <th></th>\n",
       "      <th>Arnab</th>\n",
       "      <th>Ramit</th>\n",
       "      <th>Samridhi</th>\n",
       "      <th>Riya</th>\n",
       "      <th>Malika</th>\n",
       "      <th>Preeti</th>\n",
       "    </tr>\n",
       "  </thead>\n",
       "  <tbody>\n",
       "    <tr>\n",
       "      <th>Maths</th>\n",
       "      <td>0</td>\n",
       "      <td>0</td>\n",
       "      <td>0</td>\n",
       "      <td>0</td>\n",
       "      <td>0</td>\n",
       "      <td>0</td>\n",
       "    </tr>\n",
       "    <tr>\n",
       "      <th>Science</th>\n",
       "      <td>90</td>\n",
       "      <td>98</td>\n",
       "      <td>91</td>\n",
       "      <td>71</td>\n",
       "      <td>95</td>\n",
       "      <td>78</td>\n",
       "    </tr>\n",
       "    <tr>\n",
       "      <th>Hindi</th>\n",
       "      <td>90</td>\n",
       "      <td>78</td>\n",
       "      <td>88</td>\n",
       "      <td>67</td>\n",
       "      <td>99</td>\n",
       "      <td>76</td>\n",
       "    </tr>\n",
       "    <tr>\n",
       "      <th>English</th>\n",
       "      <td>95</td>\n",
       "      <td>86</td>\n",
       "      <td>95</td>\n",
       "      <td>80</td>\n",
       "      <td>95</td>\n",
       "      <td>99</td>\n",
       "    </tr>\n",
       "  </tbody>\n",
       "</table>\n",
       "</div>"
      ],
      "text/plain": [
       "         Arnab  Ramit  Samridhi  Riya  Malika  Preeti\n",
       "Maths        0      0         0     0       0       0\n",
       "Science     90     98        91    71      95      78\n",
       "Hindi       90     78        88    67      99      76\n",
       "English     95     86        95    80      95      99"
      ]
     },
     "execution_count": 26,
     "metadata": {},
     "output_type": "execute_result"
    }
   ],
   "source": [
    "ResultDF.loc[\"Maths\"] = 0\n",
    "ResultDF"
   ]
  },
  {
   "cell_type": "code",
   "execution_count": 27,
   "id": "c4354c78-e974-4cbf-b3e8-0d9ea6248ed2",
   "metadata": {},
   "outputs": [
    {
     "data": {
      "text/html": [
       "<div>\n",
       "<style scoped>\n",
       "    .dataframe tbody tr th:only-of-type {\n",
       "        vertical-align: middle;\n",
       "    }\n",
       "\n",
       "    .dataframe tbody tr th {\n",
       "        vertical-align: top;\n",
       "    }\n",
       "\n",
       "    .dataframe thead th {\n",
       "        text-align: right;\n",
       "    }\n",
       "</style>\n",
       "<table border=\"1\" class=\"dataframe\">\n",
       "  <thead>\n",
       "    <tr style=\"text-align: right;\">\n",
       "      <th></th>\n",
       "      <th>Arnab</th>\n",
       "      <th>Ramit</th>\n",
       "      <th>Samridhi</th>\n",
       "      <th>Riya</th>\n",
       "      <th>Malika</th>\n",
       "      <th>Preeti</th>\n",
       "    </tr>\n",
       "  </thead>\n",
       "  <tbody>\n",
       "    <tr>\n",
       "      <th>Maths</th>\n",
       "      <td>0</td>\n",
       "      <td>0</td>\n",
       "      <td>0</td>\n",
       "      <td>0</td>\n",
       "      <td>0</td>\n",
       "      <td>0</td>\n",
       "    </tr>\n",
       "    <tr>\n",
       "      <th>Science</th>\n",
       "      <td>0</td>\n",
       "      <td>0</td>\n",
       "      <td>0</td>\n",
       "      <td>0</td>\n",
       "      <td>0</td>\n",
       "      <td>0</td>\n",
       "    </tr>\n",
       "    <tr>\n",
       "      <th>Hindi</th>\n",
       "      <td>0</td>\n",
       "      <td>0</td>\n",
       "      <td>0</td>\n",
       "      <td>0</td>\n",
       "      <td>0</td>\n",
       "      <td>0</td>\n",
       "    </tr>\n",
       "    <tr>\n",
       "      <th>English</th>\n",
       "      <td>0</td>\n",
       "      <td>0</td>\n",
       "      <td>0</td>\n",
       "      <td>0</td>\n",
       "      <td>0</td>\n",
       "      <td>0</td>\n",
       "    </tr>\n",
       "  </tbody>\n",
       "</table>\n",
       "</div>"
      ],
      "text/plain": [
       "         Arnab  Ramit  Samridhi  Riya  Malika  Preeti\n",
       "Maths        0      0         0     0       0       0\n",
       "Science      0      0         0     0       0       0\n",
       "Hindi        0      0         0     0       0       0\n",
       "English      0      0         0     0       0       0"
      ]
     },
     "execution_count": 27,
     "metadata": {},
     "output_type": "execute_result"
    }
   ],
   "source": [
    "ResultDF[: ] = 0\n",
    "ResultDF"
   ]
  },
  {
   "cell_type": "markdown",
   "id": "994df37a-2867-45d5-8edf-c76cea04a05e",
   "metadata": {},
   "source": [
    "### C) Deleting Rows or Columns from a DataFrame"
   ]
  },
  {
   "cell_type": "markdown",
   "id": "d4b2c3df-23a3-49e9-b631-7278ca307623",
   "metadata": {},
   "source": [
    "<br>We can use the DataFrame.drop() method to delete rows and columns from a DataFrame. \n",
    "<br>We need to specify the names of the labels to be dropped and the axis from which they need to be dropped. </br>\n",
    "<br>To delete a row, the parameter axis is assigned the value 0 and </br>\n",
    "<br>for deleting a column,the parameter axis is assigned the value 1. </br>\n",
    "\n",
    "<br>Consider the following DataFrame:</br>"
   ]
  },
  {
   "cell_type": "code",
   "execution_count": 37,
   "id": "c000426a-6537-4a2d-8299-2e8ebfd4218e",
   "metadata": {},
   "outputs": [
    {
     "data": {
      "text/html": [
       "<div>\n",
       "<style scoped>\n",
       "    .dataframe tbody tr th:only-of-type {\n",
       "        vertical-align: middle;\n",
       "    }\n",
       "\n",
       "    .dataframe tbody tr th {\n",
       "        vertical-align: top;\n",
       "    }\n",
       "\n",
       "    .dataframe thead th {\n",
       "        text-align: right;\n",
       "    }\n",
       "</style>\n",
       "<table border=\"1\" class=\"dataframe\">\n",
       "  <thead>\n",
       "    <tr style=\"text-align: right;\">\n",
       "      <th></th>\n",
       "      <th>Arnab</th>\n",
       "      <th>Ramit</th>\n",
       "      <th>Samridhi</th>\n",
       "      <th>Riya</th>\n",
       "      <th>Malika</th>\n",
       "    </tr>\n",
       "  </thead>\n",
       "  <tbody>\n",
       "    <tr>\n",
       "      <th>Maths</th>\n",
       "      <td>90</td>\n",
       "      <td>92</td>\n",
       "      <td>89</td>\n",
       "      <td>81</td>\n",
       "      <td>94</td>\n",
       "    </tr>\n",
       "    <tr>\n",
       "      <th>Science</th>\n",
       "      <td>91</td>\n",
       "      <td>81</td>\n",
       "      <td>91</td>\n",
       "      <td>71</td>\n",
       "      <td>95</td>\n",
       "    </tr>\n",
       "    <tr>\n",
       "      <th>Hindi</th>\n",
       "      <td>97</td>\n",
       "      <td>96</td>\n",
       "      <td>88</td>\n",
       "      <td>67</td>\n",
       "      <td>99</td>\n",
       "    </tr>\n",
       "  </tbody>\n",
       "</table>\n",
       "</div>"
      ],
      "text/plain": [
       "         Arnab  Ramit  Samridhi  Riya  Malika\n",
       "Maths       90     92        89    81      94\n",
       "Science     91     81        91    71      95\n",
       "Hindi       97     96        88    67      99"
      ]
     },
     "execution_count": 37,
     "metadata": {},
     "output_type": "execute_result"
    }
   ],
   "source": [
    "ResultDF"
   ]
  },
  {
   "cell_type": "code",
   "execution_count": 38,
   "id": "82f41c9c-9afd-4dd5-bbf3-e16fd968fbe0",
   "metadata": {},
   "outputs": [
    {
     "data": {
      "text/html": [
       "<div>\n",
       "<style scoped>\n",
       "    .dataframe tbody tr th:only-of-type {\n",
       "        vertical-align: middle;\n",
       "    }\n",
       "\n",
       "    .dataframe tbody tr th {\n",
       "        vertical-align: top;\n",
       "    }\n",
       "\n",
       "    .dataframe thead th {\n",
       "        text-align: right;\n",
       "    }\n",
       "</style>\n",
       "<table border=\"1\" class=\"dataframe\">\n",
       "  <thead>\n",
       "    <tr style=\"text-align: right;\">\n",
       "      <th></th>\n",
       "      <th>Arnab</th>\n",
       "      <th>Ramit</th>\n",
       "      <th>Samridhi</th>\n",
       "      <th>Riya</th>\n",
       "      <th>Malika</th>\n",
       "    </tr>\n",
       "  </thead>\n",
       "  <tbody>\n",
       "    <tr>\n",
       "      <th>Maths</th>\n",
       "      <td>90</td>\n",
       "      <td>92</td>\n",
       "      <td>89</td>\n",
       "      <td>81</td>\n",
       "      <td>94</td>\n",
       "    </tr>\n",
       "    <tr>\n",
       "      <th>Hindi</th>\n",
       "      <td>97</td>\n",
       "      <td>96</td>\n",
       "      <td>88</td>\n",
       "      <td>67</td>\n",
       "      <td>99</td>\n",
       "    </tr>\n",
       "  </tbody>\n",
       "</table>\n",
       "</div>"
      ],
      "text/plain": [
       "       Arnab  Ramit  Samridhi  Riya  Malika\n",
       "Maths     90     92        89    81      94\n",
       "Hindi     97     96        88    67      99"
      ]
     },
     "execution_count": 38,
     "metadata": {},
     "output_type": "execute_result"
    }
   ],
   "source": [
    "ResultDF = ResultDF.drop(\"Science\", axis = 0)\n",
    "ResultDF"
   ]
  },
  {
   "cell_type": "code",
   "execution_count": 39,
   "id": "72ed4c52-2fe2-4c73-8185-738be3c7dbae",
   "metadata": {},
   "outputs": [
    {
     "data": {
      "text/html": [
       "<div>\n",
       "<style scoped>\n",
       "    .dataframe tbody tr th:only-of-type {\n",
       "        vertical-align: middle;\n",
       "    }\n",
       "\n",
       "    .dataframe tbody tr th {\n",
       "        vertical-align: top;\n",
       "    }\n",
       "\n",
       "    .dataframe thead th {\n",
       "        text-align: right;\n",
       "    }\n",
       "</style>\n",
       "<table border=\"1\" class=\"dataframe\">\n",
       "  <thead>\n",
       "    <tr style=\"text-align: right;\">\n",
       "      <th></th>\n",
       "      <th>Arnab</th>\n",
       "      <th>Malika</th>\n",
       "    </tr>\n",
       "  </thead>\n",
       "  <tbody>\n",
       "    <tr>\n",
       "      <th>Maths</th>\n",
       "      <td>90</td>\n",
       "      <td>94</td>\n",
       "    </tr>\n",
       "    <tr>\n",
       "      <th>Hindi</th>\n",
       "      <td>97</td>\n",
       "      <td>99</td>\n",
       "    </tr>\n",
       "  </tbody>\n",
       "</table>\n",
       "</div>"
      ],
      "text/plain": [
       "       Arnab  Malika\n",
       "Maths     90      94\n",
       "Hindi     97      99"
      ]
     },
     "execution_count": 39,
     "metadata": {},
     "output_type": "execute_result"
    }
   ],
   "source": [
    "ResultDF = ResultDF.drop([\"Samridhi\", \"Ramit\", \"Riya\"], axis = 1)\n",
    "ResultDF"
   ]
  },
  {
   "cell_type": "markdown",
   "id": "bab3ed56-13c5-46d7-96da-79e6b3802379",
   "metadata": {},
   "source": [
    "### D) Renaming Row Labels of a DataFrame"
   ]
  },
  {
   "cell_type": "code",
   "execution_count": 43,
   "id": "61825be0-8595-473a-b9ec-ed929fc3d0c2",
   "metadata": {},
   "outputs": [
    {
     "data": {
      "text/html": [
       "<div>\n",
       "<style scoped>\n",
       "    .dataframe tbody tr th:only-of-type {\n",
       "        vertical-align: middle;\n",
       "    }\n",
       "\n",
       "    .dataframe tbody tr th {\n",
       "        vertical-align: top;\n",
       "    }\n",
       "\n",
       "    .dataframe thead th {\n",
       "        text-align: right;\n",
       "    }\n",
       "</style>\n",
       "<table border=\"1\" class=\"dataframe\">\n",
       "  <thead>\n",
       "    <tr style=\"text-align: right;\">\n",
       "      <th></th>\n",
       "      <th>Arnab</th>\n",
       "      <th>Ramit</th>\n",
       "      <th>Samridhi</th>\n",
       "      <th>Riya</th>\n",
       "      <th>Malika</th>\n",
       "    </tr>\n",
       "  </thead>\n",
       "  <tbody>\n",
       "    <tr>\n",
       "      <th>Maths</th>\n",
       "      <td>90</td>\n",
       "      <td>92</td>\n",
       "      <td>89</td>\n",
       "      <td>81</td>\n",
       "      <td>94</td>\n",
       "    </tr>\n",
       "    <tr>\n",
       "      <th>Science</th>\n",
       "      <td>91</td>\n",
       "      <td>81</td>\n",
       "      <td>91</td>\n",
       "      <td>71</td>\n",
       "      <td>95</td>\n",
       "    </tr>\n",
       "    <tr>\n",
       "      <th>Hindi</th>\n",
       "      <td>97</td>\n",
       "      <td>96</td>\n",
       "      <td>88</td>\n",
       "      <td>67</td>\n",
       "      <td>99</td>\n",
       "    </tr>\n",
       "  </tbody>\n",
       "</table>\n",
       "</div>"
      ],
      "text/plain": [
       "         Arnab  Ramit  Samridhi  Riya  Malika\n",
       "Maths       90     92        89    81      94\n",
       "Science     91     81        91    71      95\n",
       "Hindi       97     96        88    67      99"
      ]
     },
     "execution_count": 43,
     "metadata": {},
     "output_type": "execute_result"
    }
   ],
   "source": [
    "ResultDF"
   ]
  },
  {
   "cell_type": "code",
   "execution_count": 32,
   "id": "bf9939ae-d7e9-4992-bfe5-72eefad30351",
   "metadata": {},
   "outputs": [
    {
     "data": {
      "text/html": [
       "<div>\n",
       "<style scoped>\n",
       "    .dataframe tbody tr th:only-of-type {\n",
       "        vertical-align: middle;\n",
       "    }\n",
       "\n",
       "    .dataframe tbody tr th {\n",
       "        vertical-align: top;\n",
       "    }\n",
       "\n",
       "    .dataframe thead th {\n",
       "        text-align: right;\n",
       "    }\n",
       "</style>\n",
       "<table border=\"1\" class=\"dataframe\">\n",
       "  <thead>\n",
       "    <tr style=\"text-align: right;\">\n",
       "      <th></th>\n",
       "      <th>Arnab</th>\n",
       "      <th>Malika</th>\n",
       "      <th>Preeti</th>\n",
       "    </tr>\n",
       "  </thead>\n",
       "  <tbody>\n",
       "    <tr>\n",
       "      <th>Sub1</th>\n",
       "      <td>0</td>\n",
       "      <td>0</td>\n",
       "      <td>0</td>\n",
       "    </tr>\n",
       "    <tr>\n",
       "      <th>Sub3</th>\n",
       "      <td>0</td>\n",
       "      <td>0</td>\n",
       "      <td>0</td>\n",
       "    </tr>\n",
       "    <tr>\n",
       "      <th>Sub4</th>\n",
       "      <td>0</td>\n",
       "      <td>0</td>\n",
       "      <td>0</td>\n",
       "    </tr>\n",
       "  </tbody>\n",
       "</table>\n",
       "</div>"
      ],
      "text/plain": [
       "      Arnab  Malika  Preeti\n",
       "Sub1      0       0       0\n",
       "Sub3      0       0       0\n",
       "Sub4      0       0       0"
      ]
     },
     "execution_count": 32,
     "metadata": {},
     "output_type": "execute_result"
    }
   ],
   "source": [
    "ResultDF = ResultDF.rename({\"Maths\":\"Sub1\",\n",
    "                            \"Science\":\"Sub2\",\n",
    "                            \"Hindi\":\"Sub3\",\n",
    "                            \"English\":\"Sub4\"})\n",
    "\n",
    "ResultDF"
   ]
  },
  {
   "cell_type": "markdown",
   "id": "41be0e2f-4edf-493b-a5fb-924ecccc3f48",
   "metadata": {},
   "source": [
    "### E) Renaming Column Labels of a DataFrame"
   ]
  },
  {
   "cell_type": "code",
   "execution_count": 33,
   "id": "aecaf332-0239-488a-885b-3a4481cd45c2",
   "metadata": {},
   "outputs": [
    {
     "data": {
      "text/html": [
       "<div>\n",
       "<style scoped>\n",
       "    .dataframe tbody tr th:only-of-type {\n",
       "        vertical-align: middle;\n",
       "    }\n",
       "\n",
       "    .dataframe tbody tr th {\n",
       "        vertical-align: top;\n",
       "    }\n",
       "\n",
       "    .dataframe thead th {\n",
       "        text-align: right;\n",
       "    }\n",
       "</style>\n",
       "<table border=\"1\" class=\"dataframe\">\n",
       "  <thead>\n",
       "    <tr style=\"text-align: right;\">\n",
       "      <th></th>\n",
       "      <th>Student1</th>\n",
       "      <th>Student4</th>\n",
       "      <th>Preeti</th>\n",
       "    </tr>\n",
       "  </thead>\n",
       "  <tbody>\n",
       "    <tr>\n",
       "      <th>Sub1</th>\n",
       "      <td>0</td>\n",
       "      <td>0</td>\n",
       "      <td>0</td>\n",
       "    </tr>\n",
       "    <tr>\n",
       "      <th>Sub3</th>\n",
       "      <td>0</td>\n",
       "      <td>0</td>\n",
       "      <td>0</td>\n",
       "    </tr>\n",
       "    <tr>\n",
       "      <th>Sub4</th>\n",
       "      <td>0</td>\n",
       "      <td>0</td>\n",
       "      <td>0</td>\n",
       "    </tr>\n",
       "  </tbody>\n",
       "</table>\n",
       "</div>"
      ],
      "text/plain": [
       "      Student1  Student4  Preeti\n",
       "Sub1         0         0       0\n",
       "Sub3         0         0       0\n",
       "Sub4         0         0       0"
      ]
     },
     "execution_count": 33,
     "metadata": {},
     "output_type": "execute_result"
    }
   ],
   "source": [
    "ResultDF = ResultDF.rename({\"Arnab\": \"Student1\",\n",
    "                            \"Ramit\": \"Student2\",\n",
    "                            \"Samridhi\": \"Student3\",\n",
    "                            \"Malika\": \"Student4\"}, axis=\"columns\")\n",
    "\n",
    "ResultDF"
   ]
  },
  {
   "cell_type": "code",
   "execution_count": 36,
   "id": "a26f2f8c-2555-4171-b915-2d1968fcdc5c",
   "metadata": {},
   "outputs": [
    {
     "data": {
      "text/html": [
       "<div>\n",
       "<style scoped>\n",
       "    .dataframe tbody tr th:only-of-type {\n",
       "        vertical-align: middle;\n",
       "    }\n",
       "\n",
       "    .dataframe tbody tr th {\n",
       "        vertical-align: top;\n",
       "    }\n",
       "\n",
       "    .dataframe thead th {\n",
       "        text-align: right;\n",
       "    }\n",
       "</style>\n",
       "<table border=\"1\" class=\"dataframe\">\n",
       "  <thead>\n",
       "    <tr style=\"text-align: right;\">\n",
       "      <th></th>\n",
       "      <th>Arnab</th>\n",
       "      <th>Ramit</th>\n",
       "      <th>Samridhi</th>\n",
       "      <th>Riya</th>\n",
       "      <th>Malika</th>\n",
       "    </tr>\n",
       "  </thead>\n",
       "  <tbody>\n",
       "    <tr>\n",
       "      <th>Maths</th>\n",
       "      <td>90</td>\n",
       "      <td>92</td>\n",
       "      <td>89</td>\n",
       "      <td>81</td>\n",
       "      <td>94</td>\n",
       "    </tr>\n",
       "    <tr>\n",
       "      <th>Science</th>\n",
       "      <td>91</td>\n",
       "      <td>81</td>\n",
       "      <td>91</td>\n",
       "      <td>71</td>\n",
       "      <td>95</td>\n",
       "    </tr>\n",
       "    <tr>\n",
       "      <th>Hindi</th>\n",
       "      <td>97</td>\n",
       "      <td>96</td>\n",
       "      <td>88</td>\n",
       "      <td>67</td>\n",
       "      <td>99</td>\n",
       "    </tr>\n",
       "  </tbody>\n",
       "</table>\n",
       "</div>"
      ],
      "text/plain": [
       "         Arnab  Ramit  Samridhi  Riya  Malika\n",
       "Maths       90     92        89    81      94\n",
       "Science     91     81        91    71      95\n",
       "Hindi       97     96        88    67      99"
      ]
     },
     "execution_count": 36,
     "metadata": {},
     "output_type": "execute_result"
    }
   ],
   "source": [
    "ResultDF"
   ]
  },
  {
   "cell_type": "markdown",
   "id": "801fe374-4c1a-4b0e-8654-6748e638727c",
   "metadata": {},
   "source": [
    "## Accessing DataFrames Element through Indexing\n",
    "\n",
    "Data elements in a DataFrame can be accessed using \n",
    "indexing\n",
    "\n",
    ".There are two ways of indexing Dataframes : \r\n",
    "Label based indexing and Boolean Indexing."
   ]
  },
  {
   "cell_type": "markdown",
   "id": "3e65a9b2-f9d6-463e-9f99-261ee3bd8bb8",
   "metadata": {},
   "source": [
    "### A) Label Based Indexing"
   ]
  },
  {
   "cell_type": "code",
   "execution_count": 44,
   "id": "3d6749c5-34e5-4356-b8a5-11191e7c2d33",
   "metadata": {},
   "outputs": [
    {
     "data": {
      "text/html": [
       "<div>\n",
       "<style scoped>\n",
       "    .dataframe tbody tr th:only-of-type {\n",
       "        vertical-align: middle;\n",
       "    }\n",
       "\n",
       "    .dataframe tbody tr th {\n",
       "        vertical-align: top;\n",
       "    }\n",
       "\n",
       "    .dataframe thead th {\n",
       "        text-align: right;\n",
       "    }\n",
       "</style>\n",
       "<table border=\"1\" class=\"dataframe\">\n",
       "  <thead>\n",
       "    <tr style=\"text-align: right;\">\n",
       "      <th></th>\n",
       "      <th>Arnab</th>\n",
       "      <th>Ramit</th>\n",
       "      <th>Samridhi</th>\n",
       "      <th>Riya</th>\n",
       "      <th>Malika</th>\n",
       "    </tr>\n",
       "  </thead>\n",
       "  <tbody>\n",
       "    <tr>\n",
       "      <th>Maths</th>\n",
       "      <td>90</td>\n",
       "      <td>92</td>\n",
       "      <td>89</td>\n",
       "      <td>81</td>\n",
       "      <td>94</td>\n",
       "    </tr>\n",
       "    <tr>\n",
       "      <th>Science</th>\n",
       "      <td>91</td>\n",
       "      <td>81</td>\n",
       "      <td>91</td>\n",
       "      <td>71</td>\n",
       "      <td>95</td>\n",
       "    </tr>\n",
       "    <tr>\n",
       "      <th>Hindi</th>\n",
       "      <td>97</td>\n",
       "      <td>96</td>\n",
       "      <td>88</td>\n",
       "      <td>67</td>\n",
       "      <td>99</td>\n",
       "    </tr>\n",
       "  </tbody>\n",
       "</table>\n",
       "</div>"
      ],
      "text/plain": [
       "         Arnab  Ramit  Samridhi  Riya  Malika\n",
       "Maths       90     92        89    81      94\n",
       "Science     91     81        91    71      95\n",
       "Hindi       97     96        88    67      99"
      ]
     },
     "execution_count": 44,
     "metadata": {},
     "output_type": "execute_result"
    }
   ],
   "source": [
    "ResultDF"
   ]
  },
  {
   "cell_type": "code",
   "execution_count": 62,
   "id": "ed3f0892-da10-40b6-8fd2-7189541bcd58",
   "metadata": {},
   "outputs": [
    {
     "data": {
      "text/plain": [
       "Arnab       91\n",
       "Ramit       81\n",
       "Samridhi    91\n",
       "Riya        71\n",
       "Malika      95\n",
       "Name: Science, dtype: int64"
      ]
     },
     "execution_count": 62,
     "metadata": {},
     "output_type": "execute_result"
    }
   ],
   "source": [
    "ResultDF.loc[\"Science\"]"
   ]
  },
  {
   "cell_type": "code",
   "execution_count": 49,
   "id": "8518fe28-2282-4e15-9021-099e74156859",
   "metadata": {},
   "outputs": [
    {
     "data": {
      "text/html": [
       "<div>\n",
       "<style scoped>\n",
       "    .dataframe tbody tr th:only-of-type {\n",
       "        vertical-align: middle;\n",
       "    }\n",
       "\n",
       "    .dataframe tbody tr th {\n",
       "        vertical-align: top;\n",
       "    }\n",
       "\n",
       "    .dataframe thead th {\n",
       "        text-align: right;\n",
       "    }\n",
       "</style>\n",
       "<table border=\"1\" class=\"dataframe\">\n",
       "  <thead>\n",
       "    <tr style=\"text-align: right;\">\n",
       "      <th></th>\n",
       "      <th>0</th>\n",
       "    </tr>\n",
       "  </thead>\n",
       "  <tbody>\n",
       "    <tr>\n",
       "      <th>0</th>\n",
       "      <td>10</td>\n",
       "    </tr>\n",
       "    <tr>\n",
       "      <th>1</th>\n",
       "      <td>20</td>\n",
       "    </tr>\n",
       "    <tr>\n",
       "      <th>2</th>\n",
       "      <td>30</td>\n",
       "    </tr>\n",
       "    <tr>\n",
       "      <th>3</th>\n",
       "      <td>40</td>\n",
       "    </tr>\n",
       "    <tr>\n",
       "      <th>4</th>\n",
       "      <td>50</td>\n",
       "    </tr>\n",
       "  </tbody>\n",
       "</table>\n",
       "</div>"
      ],
      "text/plain": [
       "    0\n",
       "0  10\n",
       "1  20\n",
       "2  30\n",
       "3  40\n",
       "4  50"
      ]
     },
     "execution_count": 49,
     "metadata": {},
     "output_type": "execute_result"
    }
   ],
   "source": [
    "dFrame10Multiples = pd.DataFrame([10, 20, 30, 40, 50])\n",
    "dFrame10Multiples"
   ]
  },
  {
   "cell_type": "code",
   "execution_count": 50,
   "id": "3eaae6c7-c34a-4572-aa91-1126cbb43efb",
   "metadata": {},
   "outputs": [
    {
     "data": {
      "text/plain": [
       "0    30\n",
       "Name: 2, dtype: int64"
      ]
     },
     "execution_count": 50,
     "metadata": {},
     "output_type": "execute_result"
    }
   ],
   "source": [
    "dFrame10Multiples.loc[2]"
   ]
  },
  {
   "cell_type": "code",
   "execution_count": 51,
   "id": "eb341dd3-e22d-401b-849b-fd86724d3e84",
   "metadata": {},
   "outputs": [
    {
     "data": {
      "text/plain": [
       "Maths      90\n",
       "Science    91\n",
       "Hindi      97\n",
       "Name: Arnab, dtype: int64"
      ]
     },
     "execution_count": 51,
     "metadata": {},
     "output_type": "execute_result"
    }
   ],
   "source": [
    "ResultDF.loc[:, \"Arnab\"]"
   ]
  },
  {
   "cell_type": "code",
   "execution_count": 52,
   "id": "78f4533c-803c-4036-a54a-9c3034366379",
   "metadata": {},
   "outputs": [
    {
     "data": {
      "text/html": [
       "<div>\n",
       "<style scoped>\n",
       "    .dataframe tbody tr th:only-of-type {\n",
       "        vertical-align: middle;\n",
       "    }\n",
       "\n",
       "    .dataframe tbody tr th {\n",
       "        vertical-align: top;\n",
       "    }\n",
       "\n",
       "    .dataframe thead th {\n",
       "        text-align: right;\n",
       "    }\n",
       "</style>\n",
       "<table border=\"1\" class=\"dataframe\">\n",
       "  <thead>\n",
       "    <tr style=\"text-align: right;\">\n",
       "      <th></th>\n",
       "      <th>Arnab</th>\n",
       "      <th>Ramit</th>\n",
       "      <th>Samridhi</th>\n",
       "      <th>Riya</th>\n",
       "      <th>Malika</th>\n",
       "    </tr>\n",
       "  </thead>\n",
       "  <tbody>\n",
       "    <tr>\n",
       "      <th>Science</th>\n",
       "      <td>91</td>\n",
       "      <td>81</td>\n",
       "      <td>91</td>\n",
       "      <td>71</td>\n",
       "      <td>95</td>\n",
       "    </tr>\n",
       "    <tr>\n",
       "      <th>Hindi</th>\n",
       "      <td>97</td>\n",
       "      <td>96</td>\n",
       "      <td>88</td>\n",
       "      <td>67</td>\n",
       "      <td>99</td>\n",
       "    </tr>\n",
       "  </tbody>\n",
       "</table>\n",
       "</div>"
      ],
      "text/plain": [
       "         Arnab  Ramit  Samridhi  Riya  Malika\n",
       "Science     91     81        91    71      95\n",
       "Hindi       97     96        88    67      99"
      ]
     },
     "execution_count": 52,
     "metadata": {},
     "output_type": "execute_result"
    }
   ],
   "source": [
    "ResultDF.loc[[\"Science\", \"Hindi\"]]"
   ]
  },
  {
   "cell_type": "markdown",
   "id": "172479f5-4a00-4aa1-bedb-852ecd9f18ba",
   "metadata": {},
   "source": [
    "### B) Boolean Indexing"
   ]
  },
  {
   "cell_type": "code",
   "execution_count": 63,
   "id": "5e413459-4ccd-4bb2-8fc4-720033f14b17",
   "metadata": {},
   "outputs": [
    {
     "data": {
      "text/html": [
       "<div>\n",
       "<style scoped>\n",
       "    .dataframe tbody tr th:only-of-type {\n",
       "        vertical-align: middle;\n",
       "    }\n",
       "\n",
       "    .dataframe tbody tr th {\n",
       "        vertical-align: top;\n",
       "    }\n",
       "\n",
       "    .dataframe thead th {\n",
       "        text-align: right;\n",
       "    }\n",
       "</style>\n",
       "<table border=\"1\" class=\"dataframe\">\n",
       "  <thead>\n",
       "    <tr style=\"text-align: right;\">\n",
       "      <th></th>\n",
       "      <th>Arnab</th>\n",
       "      <th>Ramit</th>\n",
       "      <th>Samridhi</th>\n",
       "      <th>Riya</th>\n",
       "      <th>Malika</th>\n",
       "    </tr>\n",
       "  </thead>\n",
       "  <tbody>\n",
       "    <tr>\n",
       "      <th>Maths</th>\n",
       "      <td>False</td>\n",
       "      <td>True</td>\n",
       "      <td>False</td>\n",
       "      <td>False</td>\n",
       "      <td>True</td>\n",
       "    </tr>\n",
       "    <tr>\n",
       "      <th>Science</th>\n",
       "      <td>True</td>\n",
       "      <td>False</td>\n",
       "      <td>True</td>\n",
       "      <td>False</td>\n",
       "      <td>True</td>\n",
       "    </tr>\n",
       "  </tbody>\n",
       "</table>\n",
       "</div>"
      ],
      "text/plain": [
       "         Arnab  Ramit  Samridhi   Riya  Malika\n",
       "Maths    False   True     False  False    True\n",
       "Science   True  False      True  False    True"
      ]
     },
     "execution_count": 63,
     "metadata": {},
     "output_type": "execute_result"
    }
   ],
   "source": [
    "ResultDF.loc[[\"Maths\",\"Science\"]] > 90"
   ]
  },
  {
   "cell_type": "code",
   "execution_count": 64,
   "id": "ad0ddaeb-80d4-46ad-b8f9-ef90587cce7e",
   "metadata": {},
   "outputs": [
    {
     "data": {
      "text/html": [
       "<div>\n",
       "<style scoped>\n",
       "    .dataframe tbody tr th:only-of-type {\n",
       "        vertical-align: middle;\n",
       "    }\n",
       "\n",
       "    .dataframe tbody tr th {\n",
       "        vertical-align: top;\n",
       "    }\n",
       "\n",
       "    .dataframe thead th {\n",
       "        text-align: right;\n",
       "    }\n",
       "</style>\n",
       "<table border=\"1\" class=\"dataframe\">\n",
       "  <thead>\n",
       "    <tr style=\"text-align: right;\">\n",
       "      <th></th>\n",
       "      <th>Arnab</th>\n",
       "      <th>Riya</th>\n",
       "    </tr>\n",
       "  </thead>\n",
       "  <tbody>\n",
       "    <tr>\n",
       "      <th>Maths</th>\n",
       "      <td>False</td>\n",
       "      <td>False</td>\n",
       "    </tr>\n",
       "    <tr>\n",
       "      <th>Science</th>\n",
       "      <td>True</td>\n",
       "      <td>False</td>\n",
       "    </tr>\n",
       "    <tr>\n",
       "      <th>Hindi</th>\n",
       "      <td>True</td>\n",
       "      <td>False</td>\n",
       "    </tr>\n",
       "  </tbody>\n",
       "</table>\n",
       "</div>"
      ],
      "text/plain": [
       "         Arnab   Riya\n",
       "Maths    False  False\n",
       "Science   True  False\n",
       "Hindi     True  False"
      ]
     },
     "execution_count": 64,
     "metadata": {},
     "output_type": "execute_result"
    }
   ],
   "source": [
    "ResultDF.loc[:, [\"Arnab\", \"Riya\"]] > 90"
   ]
  },
  {
   "cell_type": "markdown",
   "id": "6e64214d-6036-42fc-9809-213bde66f708",
   "metadata": {},
   "source": [
    "## Accessing DataFrames Element through Slicing"
   ]
  },
  {
   "cell_type": "code",
   "execution_count": 57,
   "id": "d1c678f0-2a58-4ede-8515-a40c30e5fcd3",
   "metadata": {},
   "outputs": [
    {
     "data": {
      "text/html": [
       "<div>\n",
       "<style scoped>\n",
       "    .dataframe tbody tr th:only-of-type {\n",
       "        vertical-align: middle;\n",
       "    }\n",
       "\n",
       "    .dataframe tbody tr th {\n",
       "        vertical-align: top;\n",
       "    }\n",
       "\n",
       "    .dataframe thead th {\n",
       "        text-align: right;\n",
       "    }\n",
       "</style>\n",
       "<table border=\"1\" class=\"dataframe\">\n",
       "  <thead>\n",
       "    <tr style=\"text-align: right;\">\n",
       "      <th></th>\n",
       "      <th>Arnab</th>\n",
       "      <th>Ramit</th>\n",
       "      <th>Samridhi</th>\n",
       "      <th>Riya</th>\n",
       "      <th>Malika</th>\n",
       "    </tr>\n",
       "  </thead>\n",
       "  <tbody>\n",
       "    <tr>\n",
       "      <th>Maths</th>\n",
       "      <td>90</td>\n",
       "      <td>92</td>\n",
       "      <td>89</td>\n",
       "      <td>81</td>\n",
       "      <td>94</td>\n",
       "    </tr>\n",
       "    <tr>\n",
       "      <th>Science</th>\n",
       "      <td>91</td>\n",
       "      <td>81</td>\n",
       "      <td>91</td>\n",
       "      <td>71</td>\n",
       "      <td>95</td>\n",
       "    </tr>\n",
       "  </tbody>\n",
       "</table>\n",
       "</div>"
      ],
      "text/plain": [
       "         Arnab  Ramit  Samridhi  Riya  Malika\n",
       "Maths       90     92        89    81      94\n",
       "Science     91     81        91    71      95"
      ]
     },
     "execution_count": 57,
     "metadata": {},
     "output_type": "execute_result"
    }
   ],
   "source": [
    "ResultDF.loc[\"Maths\": \"Science\"]"
   ]
  },
  {
   "cell_type": "code",
   "execution_count": 58,
   "id": "df5ee326-0159-4fa8-94c9-2da3679f6772",
   "metadata": {},
   "outputs": [
    {
     "data": {
      "text/plain": [
       "Maths      90\n",
       "Science    91\n",
       "Name: Arnab, dtype: int64"
      ]
     },
     "execution_count": 58,
     "metadata": {},
     "output_type": "execute_result"
    }
   ],
   "source": [
    "ResultDF.loc[\"Maths\": \"Science\", \"Arnab\"]"
   ]
  },
  {
   "cell_type": "code",
   "execution_count": 60,
   "id": "60219d45-981e-4b85-a2e9-ef1e8f244542",
   "metadata": {},
   "outputs": [
    {
     "data": {
      "text/html": [
       "<div>\n",
       "<style scoped>\n",
       "    .dataframe tbody tr th:only-of-type {\n",
       "        vertical-align: middle;\n",
       "    }\n",
       "\n",
       "    .dataframe tbody tr th {\n",
       "        vertical-align: top;\n",
       "    }\n",
       "\n",
       "    .dataframe thead th {\n",
       "        text-align: right;\n",
       "    }\n",
       "</style>\n",
       "<table border=\"1\" class=\"dataframe\">\n",
       "  <thead>\n",
       "    <tr style=\"text-align: right;\">\n",
       "      <th></th>\n",
       "      <th>Arnab</th>\n",
       "      <th>Ramit</th>\n",
       "      <th>Samridhi</th>\n",
       "    </tr>\n",
       "  </thead>\n",
       "  <tbody>\n",
       "    <tr>\n",
       "      <th>Maths</th>\n",
       "      <td>90</td>\n",
       "      <td>92</td>\n",
       "      <td>89</td>\n",
       "    </tr>\n",
       "    <tr>\n",
       "      <th>Science</th>\n",
       "      <td>91</td>\n",
       "      <td>81</td>\n",
       "      <td>91</td>\n",
       "    </tr>\n",
       "  </tbody>\n",
       "</table>\n",
       "</div>"
      ],
      "text/plain": [
       "         Arnab  Ramit  Samridhi\n",
       "Maths       90     92        89\n",
       "Science     91     81        91"
      ]
     },
     "execution_count": 60,
     "metadata": {},
     "output_type": "execute_result"
    }
   ],
   "source": [
    "ResultDF.loc[\"Maths\": \"Science\", \"Arnab\": \"Samridhi\"]"
   ]
  },
  {
   "cell_type": "code",
   "execution_count": 66,
   "id": "214d94f7-f004-4789-871d-b3665e9ec491",
   "metadata": {},
   "outputs": [
    {
     "data": {
      "text/html": [
       "<div>\n",
       "<style scoped>\n",
       "    .dataframe tbody tr th:only-of-type {\n",
       "        vertical-align: middle;\n",
       "    }\n",
       "\n",
       "    .dataframe tbody tr th {\n",
       "        vertical-align: top;\n",
       "    }\n",
       "\n",
       "    .dataframe thead th {\n",
       "        text-align: right;\n",
       "    }\n",
       "</style>\n",
       "<table border=\"1\" class=\"dataframe\">\n",
       "  <thead>\n",
       "    <tr style=\"text-align: right;\">\n",
       "      <th></th>\n",
       "      <th>Arnab</th>\n",
       "      <th>Samridhi</th>\n",
       "    </tr>\n",
       "  </thead>\n",
       "  <tbody>\n",
       "    <tr>\n",
       "      <th>Maths</th>\n",
       "      <td>90</td>\n",
       "      <td>89</td>\n",
       "    </tr>\n",
       "    <tr>\n",
       "      <th>Science</th>\n",
       "      <td>91</td>\n",
       "      <td>91</td>\n",
       "    </tr>\n",
       "  </tbody>\n",
       "</table>\n",
       "</div>"
      ],
      "text/plain": [
       "         Arnab  Samridhi\n",
       "Maths       90        89\n",
       "Science     91        91"
      ]
     },
     "execution_count": 66,
     "metadata": {},
     "output_type": "execute_result"
    }
   ],
   "source": [
    "ResultDF.loc[\"Maths\": \"Science\", [\"Arnab\", \"Samridhi\"]]"
   ]
  },
  {
   "cell_type": "markdown",
   "id": "0652b056-92c8-4b0a-895d-f95966c820ba",
   "metadata": {},
   "source": [
    "### Filtering Rows in DataFrames"
   ]
  },
  {
   "cell_type": "code",
   "execution_count": 67,
   "id": "85d2ab83-5056-40f9-9a14-f8f3b310d968",
   "metadata": {},
   "outputs": [
    {
     "data": {
      "text/html": [
       "<div>\n",
       "<style scoped>\n",
       "    .dataframe tbody tr th:only-of-type {\n",
       "        vertical-align: middle;\n",
       "    }\n",
       "\n",
       "    .dataframe tbody tr th {\n",
       "        vertical-align: top;\n",
       "    }\n",
       "\n",
       "    .dataframe thead th {\n",
       "        text-align: right;\n",
       "    }\n",
       "</style>\n",
       "<table border=\"1\" class=\"dataframe\">\n",
       "  <thead>\n",
       "    <tr style=\"text-align: right;\">\n",
       "      <th></th>\n",
       "      <th>Arnab</th>\n",
       "      <th>Ramit</th>\n",
       "      <th>Samridhi</th>\n",
       "      <th>Riya</th>\n",
       "      <th>Malika</th>\n",
       "    </tr>\n",
       "  </thead>\n",
       "  <tbody>\n",
       "    <tr>\n",
       "      <th>Maths</th>\n",
       "      <td>90</td>\n",
       "      <td>92</td>\n",
       "      <td>89</td>\n",
       "      <td>81</td>\n",
       "      <td>94</td>\n",
       "    </tr>\n",
       "    <tr>\n",
       "      <th>Science</th>\n",
       "      <td>91</td>\n",
       "      <td>81</td>\n",
       "      <td>91</td>\n",
       "      <td>71</td>\n",
       "      <td>95</td>\n",
       "    </tr>\n",
       "    <tr>\n",
       "      <th>Hindi</th>\n",
       "      <td>97</td>\n",
       "      <td>96</td>\n",
       "      <td>88</td>\n",
       "      <td>67</td>\n",
       "      <td>99</td>\n",
       "    </tr>\n",
       "  </tbody>\n",
       "</table>\n",
       "</div>"
      ],
      "text/plain": [
       "         Arnab  Ramit  Samridhi  Riya  Malika\n",
       "Maths       90     92        89    81      94\n",
       "Science     91     81        91    71      95\n",
       "Hindi       97     96        88    67      99"
      ]
     },
     "execution_count": 67,
     "metadata": {},
     "output_type": "execute_result"
    }
   ],
   "source": [
    "ResultDF"
   ]
  },
  {
   "cell_type": "code",
   "execution_count": 68,
   "id": "ee27a243-d1c8-4f3b-8159-89f757b843a8",
   "metadata": {},
   "outputs": [
    {
     "data": {
      "text/html": [
       "<div>\n",
       "<style scoped>\n",
       "    .dataframe tbody tr th:only-of-type {\n",
       "        vertical-align: middle;\n",
       "    }\n",
       "\n",
       "    .dataframe tbody tr th {\n",
       "        vertical-align: top;\n",
       "    }\n",
       "\n",
       "    .dataframe thead th {\n",
       "        text-align: right;\n",
       "    }\n",
       "</style>\n",
       "<table border=\"1\" class=\"dataframe\">\n",
       "  <thead>\n",
       "    <tr style=\"text-align: right;\">\n",
       "      <th></th>\n",
       "      <th>Arnab</th>\n",
       "      <th>Ramit</th>\n",
       "      <th>Samridhi</th>\n",
       "      <th>Riya</th>\n",
       "      <th>Malika</th>\n",
       "    </tr>\n",
       "  </thead>\n",
       "  <tbody>\n",
       "    <tr>\n",
       "      <th>Maths</th>\n",
       "      <td>90</td>\n",
       "      <td>92</td>\n",
       "      <td>89</td>\n",
       "      <td>81</td>\n",
       "      <td>94</td>\n",
       "    </tr>\n",
       "    <tr>\n",
       "      <th>Hindi</th>\n",
       "      <td>97</td>\n",
       "      <td>96</td>\n",
       "      <td>88</td>\n",
       "      <td>67</td>\n",
       "      <td>99</td>\n",
       "    </tr>\n",
       "  </tbody>\n",
       "</table>\n",
       "</div>"
      ],
      "text/plain": [
       "       Arnab  Ramit  Samridhi  Riya  Malika\n",
       "Maths     90     92        89    81      94\n",
       "Hindi     97     96        88    67      99"
      ]
     },
     "execution_count": 68,
     "metadata": {},
     "output_type": "execute_result"
    }
   ],
   "source": [
    "            # <------Rows----->\n",
    "ResultDF.loc[[True, False, True]]\n",
    "            # Maths Science Hindi\n",
    "\n",
    "# Where their is True that Row will be Printing"
   ]
  },
  {
   "cell_type": "markdown",
   "id": "a9ea0026-34c6-4356-acd3-6d870a8d3f6a",
   "metadata": {},
   "source": [
    "## Joining, Merging and Concatenation of DataFrames"
   ]
  },
  {
   "cell_type": "markdown",
   "id": "d7350426-d021-4932-b30e-492aaa9dd1d0",
   "metadata": {},
   "source": [
    "### A) Joining"
   ]
  },
  {
   "cell_type": "code",
   "execution_count": 74,
   "id": "79e467a1-44c7-4843-8a19-9fd6ea6d088c",
   "metadata": {},
   "outputs": [
    {
     "data": {
      "text/html": [
       "<div>\n",
       "<style scoped>\n",
       "    .dataframe tbody tr th:only-of-type {\n",
       "        vertical-align: middle;\n",
       "    }\n",
       "\n",
       "    .dataframe tbody tr th {\n",
       "        vertical-align: top;\n",
       "    }\n",
       "\n",
       "    .dataframe thead th {\n",
       "        text-align: right;\n",
       "    }\n",
       "</style>\n",
       "<table border=\"1\" class=\"dataframe\">\n",
       "  <thead>\n",
       "    <tr style=\"text-align: right;\">\n",
       "      <th></th>\n",
       "      <th>C1</th>\n",
       "      <th>C2</th>\n",
       "      <th>C3</th>\n",
       "    </tr>\n",
       "  </thead>\n",
       "  <tbody>\n",
       "    <tr>\n",
       "      <th>R1</th>\n",
       "      <td>1</td>\n",
       "      <td>2.0</td>\n",
       "      <td>3.0</td>\n",
       "    </tr>\n",
       "    <tr>\n",
       "      <th>R2</th>\n",
       "      <td>4</td>\n",
       "      <td>5.0</td>\n",
       "      <td>NaN</td>\n",
       "    </tr>\n",
       "    <tr>\n",
       "      <th>R3</th>\n",
       "      <td>6</td>\n",
       "      <td>NaN</td>\n",
       "      <td>NaN</td>\n",
       "    </tr>\n",
       "  </tbody>\n",
       "</table>\n",
       "</div>"
      ],
      "text/plain": [
       "    C1   C2   C3\n",
       "R1   1  2.0  3.0\n",
       "R2   4  5.0  NaN\n",
       "R3   6  NaN  NaN"
      ]
     },
     "execution_count": 74,
     "metadata": {},
     "output_type": "execute_result"
    }
   ],
   "source": [
    "dFrame1 = pd.DataFrame([[1, 2, 3], [4, 5], [6]] , columns = [\"C1\", \"C2\", \"C3\"], index = [\"R1\", \"R2\", \"R3\"])\n",
    "dFrame1"
   ]
  },
  {
   "cell_type": "code",
   "execution_count": 75,
   "id": "bb909433-0b67-4dd3-b21e-bc0153617e77",
   "metadata": {},
   "outputs": [
    {
     "data": {
      "text/html": [
       "<div>\n",
       "<style scoped>\n",
       "    .dataframe tbody tr th:only-of-type {\n",
       "        vertical-align: middle;\n",
       "    }\n",
       "\n",
       "    .dataframe tbody tr th {\n",
       "        vertical-align: top;\n",
       "    }\n",
       "\n",
       "    .dataframe thead th {\n",
       "        text-align: right;\n",
       "    }\n",
       "</style>\n",
       "<table border=\"1\" class=\"dataframe\">\n",
       "  <thead>\n",
       "    <tr style=\"text-align: right;\">\n",
       "      <th></th>\n",
       "      <th>C2</th>\n",
       "      <th>C5</th>\n",
       "    </tr>\n",
       "  </thead>\n",
       "  <tbody>\n",
       "    <tr>\n",
       "      <th>R4</th>\n",
       "      <td>10</td>\n",
       "      <td>20.0</td>\n",
       "    </tr>\n",
       "    <tr>\n",
       "      <th>R2</th>\n",
       "      <td>30</td>\n",
       "      <td>NaN</td>\n",
       "    </tr>\n",
       "    <tr>\n",
       "      <th>R5</th>\n",
       "      <td>40</td>\n",
       "      <td>50.0</td>\n",
       "    </tr>\n",
       "  </tbody>\n",
       "</table>\n",
       "</div>"
      ],
      "text/plain": [
       "    C2    C5\n",
       "R4  10  20.0\n",
       "R2  30   NaN\n",
       "R5  40  50.0"
      ]
     },
     "execution_count": 75,
     "metadata": {},
     "output_type": "execute_result"
    }
   ],
   "source": [
    "dFrame2 = pd.DataFrame([[10, 20], [30], [40, 50]], columns = [\"C2\", \"C5\"], index = [\"R4\", \"R2\", \"R5\"])\n",
    "dFrame2"
   ]
  },
  {
   "cell_type": "markdown",
   "id": "8cbd8ee8-0c86-4f92-840f-c230e1057a58",
   "metadata": {},
   "source": [
    "## Attributes of DataFrames"
   ]
  },
  {
   "cell_type": "code",
   "execution_count": 78,
   "id": "3808b328-90e0-4641-8a1c-45d4f52892d9",
   "metadata": {},
   "outputs": [
    {
     "data": {
      "text/plain": [
       "{'Assam': GeoArea            78438\n",
       " VeryDense           2797\n",
       " ModeratelyDense    10192\n",
       " OpenForest         15116\n",
       " dtype: int64,\n",
       " 'Kerla': GeoArea            38852\n",
       " VeryDense           1663\n",
       " ModeratelyDense     9407\n",
       " OpenForest          9251\n",
       " dtype: int64,\n",
       " 'Delhi': GeoArea            1483.00\n",
       " VeryDense             6.72\n",
       " ModeratelyDense      56.24\n",
       " OpenForest          129.45\n",
       " dtype: float64}"
      ]
     },
     "execution_count": 78,
     "metadata": {},
     "output_type": "execute_result"
    }
   ],
   "source": [
    "ForestArea = {\n",
    "\n",
    "    \"Assam\" : pd.Series([78438, 2797, 10192, 15116], index = [\"GeoArea\", \"VeryDense\", \"ModeratelyDense\", \"OpenForest\"]),\n",
    "    \"Kerla\" : pd.Series([38852, 1663, 9407, 9251], index = [\"GeoArea\", \"VeryDense\", \"ModeratelyDense\", \"OpenForest\"]),\n",
    "    \"Delhi\" : pd.Series([1483, 6.72, 56.24, 129.45], index = [\"GeoArea\", \"VeryDense\", \"ModeratelyDense\", \"OpenForest\"]),\n",
    "}\n",
    "\n",
    "ForestArea"
   ]
  },
  {
   "cell_type": "code",
   "execution_count": 82,
   "id": "6ecc2de1-6ace-4a8e-a1d9-3ee127bd25a5",
   "metadata": {},
   "outputs": [
    {
     "data": {
      "text/html": [
       "<div>\n",
       "<style scoped>\n",
       "    .dataframe tbody tr th:only-of-type {\n",
       "        vertical-align: middle;\n",
       "    }\n",
       "\n",
       "    .dataframe tbody tr th {\n",
       "        vertical-align: top;\n",
       "    }\n",
       "\n",
       "    .dataframe thead th {\n",
       "        text-align: right;\n",
       "    }\n",
       "</style>\n",
       "<table border=\"1\" class=\"dataframe\">\n",
       "  <thead>\n",
       "    <tr style=\"text-align: right;\">\n",
       "      <th></th>\n",
       "      <th>Assam</th>\n",
       "      <th>Kerla</th>\n",
       "      <th>Delhi</th>\n",
       "    </tr>\n",
       "  </thead>\n",
       "  <tbody>\n",
       "    <tr>\n",
       "      <th>GeoArea</th>\n",
       "      <td>78438</td>\n",
       "      <td>38852</td>\n",
       "      <td>1483.00</td>\n",
       "    </tr>\n",
       "    <tr>\n",
       "      <th>VeryDense</th>\n",
       "      <td>2797</td>\n",
       "      <td>1663</td>\n",
       "      <td>6.72</td>\n",
       "    </tr>\n",
       "    <tr>\n",
       "      <th>ModeratelyDense</th>\n",
       "      <td>10192</td>\n",
       "      <td>9407</td>\n",
       "      <td>56.24</td>\n",
       "    </tr>\n",
       "    <tr>\n",
       "      <th>OpenForest</th>\n",
       "      <td>15116</td>\n",
       "      <td>9251</td>\n",
       "      <td>129.45</td>\n",
       "    </tr>\n",
       "  </tbody>\n",
       "</table>\n",
       "</div>"
      ],
      "text/plain": [
       "                 Assam  Kerla    Delhi\n",
       "GeoArea          78438  38852  1483.00\n",
       "VeryDense         2797   1663     6.72\n",
       "ModeratelyDense  10192   9407    56.24\n",
       "OpenForest       15116   9251   129.45"
      ]
     },
     "execution_count": 82,
     "metadata": {},
     "output_type": "execute_result"
    }
   ],
   "source": [
    "ForestAreaDF = pd.DataFrame(ForestArea)\n",
    "ForestAreaDF"
   ]
  },
  {
   "cell_type": "code",
   "execution_count": 83,
   "id": "7aa8b30f-fddf-45a5-8a2e-b9972438b060",
   "metadata": {},
   "outputs": [
    {
     "data": {
      "text/plain": [
       "Index(['GeoArea', 'VeryDense', 'ModeratelyDense', 'OpenForest'], dtype='object')"
      ]
     },
     "execution_count": 83,
     "metadata": {},
     "output_type": "execute_result"
    }
   ],
   "source": [
    "ForestAreaDF.index"
   ]
  },
  {
   "cell_type": "code",
   "execution_count": 84,
   "id": "745274e6-b698-4fb2-8efa-c361ce67f845",
   "metadata": {},
   "outputs": [
    {
     "data": {
      "text/plain": [
       "Index(['Assam', 'Kerla', 'Delhi'], dtype='object')"
      ]
     },
     "execution_count": 84,
     "metadata": {},
     "output_type": "execute_result"
    }
   ],
   "source": [
    "ForestAreaDF.columns"
   ]
  },
  {
   "cell_type": "code",
   "execution_count": 85,
   "id": "39f05117-571a-44a1-8cf3-cb913dba465a",
   "metadata": {},
   "outputs": [
    {
     "data": {
      "text/plain": [
       "Assam      int64\n",
       "Kerla      int64\n",
       "Delhi    float64\n",
       "dtype: object"
      ]
     },
     "execution_count": 85,
     "metadata": {},
     "output_type": "execute_result"
    }
   ],
   "source": [
    "ForestAreaDF.dtypes"
   ]
  },
  {
   "cell_type": "code",
   "execution_count": 86,
   "id": "f5cd86ef-e643-41a1-b910-e7e10f604906",
   "metadata": {},
   "outputs": [
    {
     "data": {
      "text/plain": [
       "array([[7.8438e+04, 3.8852e+04, 1.4830e+03],\n",
       "       [2.7970e+03, 1.6630e+03, 6.7200e+00],\n",
       "       [1.0192e+04, 9.4070e+03, 5.6240e+01],\n",
       "       [1.5116e+04, 9.2510e+03, 1.2945e+02]])"
      ]
     },
     "execution_count": 86,
     "metadata": {},
     "output_type": "execute_result"
    }
   ],
   "source": [
    "ForestAreaDF.values"
   ]
  },
  {
   "cell_type": "code",
   "execution_count": 88,
   "id": "94f42891-6e7b-424d-a715-df4af86378ad",
   "metadata": {},
   "outputs": [
    {
     "data": {
      "text/plain": [
       "(4, 3)"
      ]
     },
     "execution_count": 88,
     "metadata": {},
     "output_type": "execute_result"
    }
   ],
   "source": [
    "ForestAreaDF.shape"
   ]
  },
  {
   "cell_type": "code",
   "execution_count": 89,
   "id": "ef90f683-7927-48ef-8fac-3f65748d9cb0",
   "metadata": {},
   "outputs": [
    {
     "data": {
      "text/plain": [
       "12"
      ]
     },
     "execution_count": 89,
     "metadata": {},
     "output_type": "execute_result"
    }
   ],
   "source": [
    "ForestAreaDF.size"
   ]
  },
  {
   "cell_type": "code",
   "execution_count": 90,
   "id": "bb778a0d-4c6f-4c87-b586-e3eea545132d",
   "metadata": {},
   "outputs": [
    {
     "data": {
      "text/html": [
       "<div>\n",
       "<style scoped>\n",
       "    .dataframe tbody tr th:only-of-type {\n",
       "        vertical-align: middle;\n",
       "    }\n",
       "\n",
       "    .dataframe tbody tr th {\n",
       "        vertical-align: top;\n",
       "    }\n",
       "\n",
       "    .dataframe thead th {\n",
       "        text-align: right;\n",
       "    }\n",
       "</style>\n",
       "<table border=\"1\" class=\"dataframe\">\n",
       "  <thead>\n",
       "    <tr style=\"text-align: right;\">\n",
       "      <th></th>\n",
       "      <th>GeoArea</th>\n",
       "      <th>VeryDense</th>\n",
       "      <th>ModeratelyDense</th>\n",
       "      <th>OpenForest</th>\n",
       "    </tr>\n",
       "  </thead>\n",
       "  <tbody>\n",
       "    <tr>\n",
       "      <th>Assam</th>\n",
       "      <td>78438.0</td>\n",
       "      <td>2797.00</td>\n",
       "      <td>10192.00</td>\n",
       "      <td>15116.00</td>\n",
       "    </tr>\n",
       "    <tr>\n",
       "      <th>Kerla</th>\n",
       "      <td>38852.0</td>\n",
       "      <td>1663.00</td>\n",
       "      <td>9407.00</td>\n",
       "      <td>9251.00</td>\n",
       "    </tr>\n",
       "    <tr>\n",
       "      <th>Delhi</th>\n",
       "      <td>1483.0</td>\n",
       "      <td>6.72</td>\n",
       "      <td>56.24</td>\n",
       "      <td>129.45</td>\n",
       "    </tr>\n",
       "  </tbody>\n",
       "</table>\n",
       "</div>"
      ],
      "text/plain": [
       "       GeoArea  VeryDense  ModeratelyDense  OpenForest\n",
       "Assam  78438.0    2797.00         10192.00    15116.00\n",
       "Kerla  38852.0    1663.00          9407.00     9251.00\n",
       "Delhi   1483.0       6.72            56.24      129.45"
      ]
     },
     "execution_count": 90,
     "metadata": {},
     "output_type": "execute_result"
    }
   ],
   "source": [
    "ForestAreaDF.T"
   ]
  },
  {
   "cell_type": "code",
   "execution_count": 91,
   "id": "3a33cd45-0104-4382-8c5f-9f4b6ac93e35",
   "metadata": {},
   "outputs": [
    {
     "data": {
      "text/html": [
       "<div>\n",
       "<style scoped>\n",
       "    .dataframe tbody tr th:only-of-type {\n",
       "        vertical-align: middle;\n",
       "    }\n",
       "\n",
       "    .dataframe tbody tr th {\n",
       "        vertical-align: top;\n",
       "    }\n",
       "\n",
       "    .dataframe thead th {\n",
       "        text-align: right;\n",
       "    }\n",
       "</style>\n",
       "<table border=\"1\" class=\"dataframe\">\n",
       "  <thead>\n",
       "    <tr style=\"text-align: right;\">\n",
       "      <th></th>\n",
       "      <th>Assam</th>\n",
       "      <th>Kerla</th>\n",
       "      <th>Delhi</th>\n",
       "    </tr>\n",
       "  </thead>\n",
       "  <tbody>\n",
       "    <tr>\n",
       "      <th>GeoArea</th>\n",
       "      <td>78438</td>\n",
       "      <td>38852</td>\n",
       "      <td>1483.00</td>\n",
       "    </tr>\n",
       "    <tr>\n",
       "      <th>VeryDense</th>\n",
       "      <td>2797</td>\n",
       "      <td>1663</td>\n",
       "      <td>6.72</td>\n",
       "    </tr>\n",
       "  </tbody>\n",
       "</table>\n",
       "</div>"
      ],
      "text/plain": [
       "           Assam  Kerla    Delhi\n",
       "GeoArea    78438  38852  1483.00\n",
       "VeryDense   2797   1663     6.72"
      ]
     },
     "execution_count": 91,
     "metadata": {},
     "output_type": "execute_result"
    }
   ],
   "source": [
    "ForestAreaDF.head(2)"
   ]
  },
  {
   "cell_type": "code",
   "execution_count": 92,
   "id": "a352ccb3-37a8-474b-93d1-a8555ad30f80",
   "metadata": {},
   "outputs": [
    {
     "data": {
      "text/html": [
       "<div>\n",
       "<style scoped>\n",
       "    .dataframe tbody tr th:only-of-type {\n",
       "        vertical-align: middle;\n",
       "    }\n",
       "\n",
       "    .dataframe tbody tr th {\n",
       "        vertical-align: top;\n",
       "    }\n",
       "\n",
       "    .dataframe thead th {\n",
       "        text-align: right;\n",
       "    }\n",
       "</style>\n",
       "<table border=\"1\" class=\"dataframe\">\n",
       "  <thead>\n",
       "    <tr style=\"text-align: right;\">\n",
       "      <th></th>\n",
       "      <th>Assam</th>\n",
       "      <th>Kerla</th>\n",
       "      <th>Delhi</th>\n",
       "    </tr>\n",
       "  </thead>\n",
       "  <tbody>\n",
       "    <tr>\n",
       "      <th>ModeratelyDense</th>\n",
       "      <td>10192</td>\n",
       "      <td>9407</td>\n",
       "      <td>56.24</td>\n",
       "    </tr>\n",
       "    <tr>\n",
       "      <th>OpenForest</th>\n",
       "      <td>15116</td>\n",
       "      <td>9251</td>\n",
       "      <td>129.45</td>\n",
       "    </tr>\n",
       "  </tbody>\n",
       "</table>\n",
       "</div>"
      ],
      "text/plain": [
       "                 Assam  Kerla   Delhi\n",
       "ModeratelyDense  10192   9407   56.24\n",
       "OpenForest       15116   9251  129.45"
      ]
     },
     "execution_count": 92,
     "metadata": {},
     "output_type": "execute_result"
    }
   ],
   "source": [
    "ForestAreaDF.tail(2)"
   ]
  },
  {
   "cell_type": "code",
   "execution_count": 95,
   "id": "1a09b6be-9c2b-4169-8111-3a751de18ee9",
   "metadata": {},
   "outputs": [
    {
     "data": {
      "text/plain": [
       "False"
      ]
     },
     "execution_count": 95,
     "metadata": {},
     "output_type": "execute_result"
    }
   ],
   "source": [
    "ForestAreaDF.empty"
   ]
  },
  {
   "cell_type": "markdown",
   "id": "4ca5a8e5-2d65-4ea1-978f-bb9de9334a72",
   "metadata": {},
   "source": [
    "## Importing and Exporting Data between CSV Files and DataFrames"
   ]
  },
  {
   "cell_type": "code",
   "execution_count": 107,
   "id": "0102f751-a8be-4866-a0c9-6eb6d19df439",
   "metadata": {},
   "outputs": [
    {
     "data": {
      "text/html": [
       "<div>\n",
       "<style scoped>\n",
       "    .dataframe tbody tr th:only-of-type {\n",
       "        vertical-align: middle;\n",
       "    }\n",
       "\n",
       "    .dataframe tbody tr th {\n",
       "        vertical-align: top;\n",
       "    }\n",
       "\n",
       "    .dataframe thead th {\n",
       "        text-align: right;\n",
       "    }\n",
       "</style>\n",
       "<table border=\"1\" class=\"dataframe\">\n",
       "  <thead>\n",
       "    <tr style=\"text-align: right;\">\n",
       "      <th></th>\n",
       "      <th>RollNo</th>\n",
       "      <th>Name</th>\n",
       "      <th>Eco</th>\n",
       "      <th>Maths</th>\n",
       "    </tr>\n",
       "  </thead>\n",
       "  <tbody>\n",
       "    <tr>\n",
       "      <th>0</th>\n",
       "      <td>1</td>\n",
       "      <td>Arnab</td>\n",
       "      <td>18</td>\n",
       "      <td>57</td>\n",
       "    </tr>\n",
       "    <tr>\n",
       "      <th>1</th>\n",
       "      <td>2</td>\n",
       "      <td>Kritika</td>\n",
       "      <td>23</td>\n",
       "      <td>45</td>\n",
       "    </tr>\n",
       "    <tr>\n",
       "      <th>2</th>\n",
       "      <td>3</td>\n",
       "      <td>Divyam</td>\n",
       "      <td>51</td>\n",
       "      <td>37</td>\n",
       "    </tr>\n",
       "    <tr>\n",
       "      <th>3</th>\n",
       "      <td>4</td>\n",
       "      <td>Vivaan</td>\n",
       "      <td>40</td>\n",
       "      <td>60</td>\n",
       "    </tr>\n",
       "    <tr>\n",
       "      <th>4</th>\n",
       "      <td>5</td>\n",
       "      <td>Aaroosh</td>\n",
       "      <td>18</td>\n",
       "      <td>27</td>\n",
       "    </tr>\n",
       "  </tbody>\n",
       "</table>\n",
       "</div>"
      ],
      "text/plain": [
       "   RollNo     Name  Eco  Maths\n",
       "0       1    Arnab   18     57\n",
       "1       2  Kritika   23     45\n",
       "2       3   Divyam   51     37\n",
       "3       4   Vivaan   40     60\n",
       "4       5  Aaroosh   18     27"
      ]
     },
     "execution_count": 107,
     "metadata": {},
     "output_type": "execute_result"
    }
   ],
   "source": [
    "marks1 = pd.read_csv(\"Result-Data.csv\", sep = \",\", header = 0)\n",
    "marks1"
   ]
  },
  {
   "cell_type": "code",
   "execution_count": 109,
   "id": "5d98f952-921d-43a6-96bf-35164a8ae06f",
   "metadata": {},
   "outputs": [
    {
     "data": {
      "text/html": [
       "<div>\n",
       "<style scoped>\n",
       "    .dataframe tbody tr th:only-of-type {\n",
       "        vertical-align: middle;\n",
       "    }\n",
       "\n",
       "    .dataframe tbody tr th {\n",
       "        vertical-align: top;\n",
       "    }\n",
       "\n",
       "    .dataframe thead th {\n",
       "        text-align: right;\n",
       "    }\n",
       "</style>\n",
       "<table border=\"1\" class=\"dataframe\">\n",
       "  <thead>\n",
       "    <tr style=\"text-align: right;\">\n",
       "      <th></th>\n",
       "      <th>RNo</th>\n",
       "      <th>StudentName</th>\n",
       "      <th>Sub1</th>\n",
       "      <th>Sub2</th>\n",
       "    </tr>\n",
       "  </thead>\n",
       "  <tbody>\n",
       "    <tr>\n",
       "      <th>0</th>\n",
       "      <td>RollNo</td>\n",
       "      <td>Name</td>\n",
       "      <td>Eco</td>\n",
       "      <td>Maths</td>\n",
       "    </tr>\n",
       "    <tr>\n",
       "      <th>1</th>\n",
       "      <td>1</td>\n",
       "      <td>Arnab</td>\n",
       "      <td>18</td>\n",
       "      <td>57</td>\n",
       "    </tr>\n",
       "    <tr>\n",
       "      <th>2</th>\n",
       "      <td>2</td>\n",
       "      <td>Kritika</td>\n",
       "      <td>23</td>\n",
       "      <td>45</td>\n",
       "    </tr>\n",
       "    <tr>\n",
       "      <th>3</th>\n",
       "      <td>3</td>\n",
       "      <td>Divyam</td>\n",
       "      <td>51</td>\n",
       "      <td>37</td>\n",
       "    </tr>\n",
       "    <tr>\n",
       "      <th>4</th>\n",
       "      <td>4</td>\n",
       "      <td>Vivaan</td>\n",
       "      <td>40</td>\n",
       "      <td>60</td>\n",
       "    </tr>\n",
       "    <tr>\n",
       "      <th>5</th>\n",
       "      <td>5</td>\n",
       "      <td>Aaroosh</td>\n",
       "      <td>18</td>\n",
       "      <td>27</td>\n",
       "    </tr>\n",
       "  </tbody>\n",
       "</table>\n",
       "</div>"
      ],
      "text/plain": [
       "      RNo StudentName Sub1   Sub2\n",
       "0  RollNo        Name  Eco  Maths\n",
       "1       1       Arnab   18     57\n",
       "2       2     Kritika   23     45\n",
       "3       3      Divyam   51     37\n",
       "4       4      Vivaan   40     60\n",
       "5       5     Aaroosh   18     27"
      ]
     },
     "execution_count": 109,
     "metadata": {},
     "output_type": "execute_result"
    }
   ],
   "source": [
    "marks2 = pd.read_csv(\"Result-Data.csv\", sep = \",\", names = [\"RNo\", \"StudentName\", \"Sub1\", \"Sub2\"])\n",
    "marks2"
   ]
  },
  {
   "cell_type": "code",
   "execution_count": 110,
   "id": "149464a9-27c2-4e23-a7cc-a842a4ebdbd9",
   "metadata": {},
   "outputs": [
    {
     "data": {
      "text/html": [
       "<div>\n",
       "<style scoped>\n",
       "    .dataframe tbody tr th:only-of-type {\n",
       "        vertical-align: middle;\n",
       "    }\n",
       "\n",
       "    .dataframe tbody tr th {\n",
       "        vertical-align: top;\n",
       "    }\n",
       "\n",
       "    .dataframe thead th {\n",
       "        text-align: right;\n",
       "    }\n",
       "</style>\n",
       "<table border=\"1\" class=\"dataframe\">\n",
       "  <thead>\n",
       "    <tr style=\"text-align: right;\">\n",
       "      <th></th>\n",
       "      <th>Arnab</th>\n",
       "      <th>Ramit</th>\n",
       "      <th>Samridhi</th>\n",
       "      <th>Riya</th>\n",
       "      <th>Malika</th>\n",
       "    </tr>\n",
       "  </thead>\n",
       "  <tbody>\n",
       "    <tr>\n",
       "      <th>Maths</th>\n",
       "      <td>90</td>\n",
       "      <td>92</td>\n",
       "      <td>89</td>\n",
       "      <td>81</td>\n",
       "      <td>94</td>\n",
       "    </tr>\n",
       "    <tr>\n",
       "      <th>Science</th>\n",
       "      <td>91</td>\n",
       "      <td>81</td>\n",
       "      <td>91</td>\n",
       "      <td>71</td>\n",
       "      <td>95</td>\n",
       "    </tr>\n",
       "    <tr>\n",
       "      <th>Hindi</th>\n",
       "      <td>97</td>\n",
       "      <td>96</td>\n",
       "      <td>88</td>\n",
       "      <td>67</td>\n",
       "      <td>99</td>\n",
       "    </tr>\n",
       "  </tbody>\n",
       "</table>\n",
       "</div>"
      ],
      "text/plain": [
       "         Arnab  Ramit  Samridhi  Riya  Malika\n",
       "Maths       90     92        89    81      94\n",
       "Science     91     81        91    71      95\n",
       "Hindi       97     96        88    67      99"
      ]
     },
     "execution_count": 110,
     "metadata": {},
     "output_type": "execute_result"
    }
   ],
   "source": [
    "ResultDF"
   ]
  },
  {
   "cell_type": "code",
   "execution_count": 116,
   "id": "3132d863-84e5-43ed-afa7-7d17176dd8f4",
   "metadata": {},
   "outputs": [],
   "source": [
    "ResultDF.to_csv(path_or_buf = \"ResultDF.csv\", sep= \",\")"
   ]
  },
  {
   "cell_type": "code",
   "execution_count": 4,
   "id": "f542861f-c536-4055-8cb7-5594c51d5294",
   "metadata": {},
   "outputs": [
    {
     "data": {
      "text/html": [
       "<div>\n",
       "<style scoped>\n",
       "    .dataframe tbody tr th:only-of-type {\n",
       "        vertical-align: middle;\n",
       "    }\n",
       "\n",
       "    .dataframe tbody tr th {\n",
       "        vertical-align: top;\n",
       "    }\n",
       "\n",
       "    .dataframe thead th {\n",
       "        text-align: right;\n",
       "    }\n",
       "</style>\n",
       "<table border=\"1\" class=\"dataframe\">\n",
       "  <thead>\n",
       "    <tr style=\"text-align: right;\">\n",
       "      <th></th>\n",
       "      <th>Tapioca Pearl / Sago</th>\n",
       "      <th>साबदुाणा</th>\n",
       "    </tr>\n",
       "  </thead>\n",
       "  <tbody>\n",
       "    <tr>\n",
       "      <th>0</th>\n",
       "      <td>Split Pigeon Peas</td>\n",
       "      <td>तरू डाळ</td>\n",
       "    </tr>\n",
       "    <tr>\n",
       "      <th>1</th>\n",
       "      <td>Groundnut</td>\n",
       "      <td>शेंगदाणा</td>\n",
       "    </tr>\n",
       "    <tr>\n",
       "      <th>2</th>\n",
       "      <td>Flattened Rice</td>\n",
       "      <td>पोहे</td>\n",
       "    </tr>\n",
       "    <tr>\n",
       "      <th>3</th>\n",
       "      <td>Semolina</td>\n",
       "      <td>रवा</td>\n",
       "    </tr>\n",
       "    <tr>\n",
       "      <th>4</th>\n",
       "      <td>Brown Chickpeas</td>\n",
       "      <td>देशी चना</td>\n",
       "    </tr>\n",
       "    <tr>\n",
       "      <th>5</th>\n",
       "      <td>Mustard Oil</td>\n",
       "      <td>मोहरीचेतले</td>\n",
       "    </tr>\n",
       "    <tr>\n",
       "      <th>6</th>\n",
       "      <td>Sunflower Refined</td>\n",
       "      <td>सर्यू फर्य ूल रि फाइन्ड</td>\n",
       "    </tr>\n",
       "    <tr>\n",
       "      <th>7</th>\n",
       "      <td>Soyabean Refined</td>\n",
       "      <td>सोयाबीन रि फाइन्ड</td>\n",
       "    </tr>\n",
       "    <tr>\n",
       "      <th>8</th>\n",
       "      <td>Kanda Masala</td>\n",
       "      <td>कांदा मसाला</td>\n",
       "    </tr>\n",
       "    <tr>\n",
       "      <th>9</th>\n",
       "      <td>Haldi Powder</td>\n",
       "      <td>हळदी पावडर</td>\n",
       "    </tr>\n",
       "    <tr>\n",
       "      <th>10</th>\n",
       "      <td>Coriander Powder</td>\n",
       "      <td>धनि या पावडर</td>\n",
       "    </tr>\n",
       "    <tr>\n",
       "      <th>11</th>\n",
       "      <td>Tata Salt</td>\n",
       "      <td>टाटा नमक</td>\n",
       "    </tr>\n",
       "    <tr>\n",
       "      <th>12</th>\n",
       "      <td>Sugar</td>\n",
       "      <td>साखर</td>\n",
       "    </tr>\n",
       "    <tr>\n",
       "      <th>13</th>\n",
       "      <td>Rin Detergent Bar</td>\n",
       "      <td>रि न डि टर्जंटर्जं बार</td>\n",
       "    </tr>\n",
       "    <tr>\n",
       "      <th>14</th>\n",
       "      <td>Detol Soap</td>\n",
       "      <td>डटे ॉल साबण</td>\n",
       "    </tr>\n",
       "    <tr>\n",
       "      <th>15</th>\n",
       "      <td>Cumin</td>\n",
       "      <td>जि रे</td>\n",
       "    </tr>\n",
       "    <tr>\n",
       "      <th>16</th>\n",
       "      <td>Celery Seed</td>\n",
       "      <td>ओवा</td>\n",
       "    </tr>\n",
       "    <tr>\n",
       "      <th>17</th>\n",
       "      <td>Bishops Weed</td>\n",
       "      <td>अजवाईन</td>\n",
       "    </tr>\n",
       "    <tr>\n",
       "      <th>18</th>\n",
       "      <td>Raisin</td>\n",
       "      <td>मनकु ा</td>\n",
       "    </tr>\n",
       "    <tr>\n",
       "      <th>19</th>\n",
       "      <td>Fharsan</td>\n",
       "      <td>फरसाण</td>\n",
       "    </tr>\n",
       "    <tr>\n",
       "      <th>20</th>\n",
       "      <td>CloseUp Tooth Paste</td>\n",
       "      <td>क्लोजअप टूथ पेस्ट</td>\n",
       "    </tr>\n",
       "    <tr>\n",
       "      <th>21</th>\n",
       "      <td>Split Chickpea Lentils</td>\n",
       "      <td>चणा डाळ</td>\n",
       "    </tr>\n",
       "    <tr>\n",
       "      <th>22</th>\n",
       "      <td>Maggie Masala</td>\n",
       "      <td>मॅगी मसाला</td>\n",
       "    </tr>\n",
       "    <tr>\n",
       "      <th>23</th>\n",
       "      <td>Maggie</td>\n",
       "      <td>मॅगी</td>\n",
       "    </tr>\n",
       "    <tr>\n",
       "      <th>24</th>\n",
       "      <td>Moth Bean</td>\n",
       "      <td>मटकी</td>\n",
       "    </tr>\n",
       "    <tr>\n",
       "      <th>25</th>\n",
       "      <td>Xpert Dishwash Bar</td>\n",
       "      <td>एक्सपर्ट बार्टन बार</td>\n",
       "    </tr>\n",
       "    <tr>\n",
       "      <th>26</th>\n",
       "      <td>Raw Mango Pickle</td>\n",
       "      <td>कैरीचेलोणचे</td>\n",
       "    </tr>\n",
       "    <tr>\n",
       "      <th>27</th>\n",
       "      <td>Maysore Sandalwood Soap</td>\n",
       "      <td>मयसरू सँडलवडु साबण</td>\n",
       "    </tr>\n",
       "    <tr>\n",
       "      <th>28</th>\n",
       "      <td>Ghadi Detergent</td>\n",
       "      <td>घडी पाउडर</td>\n",
       "    </tr>\n",
       "    <tr>\n",
       "      <th>29</th>\n",
       "      <td>Red Label Tea</td>\n",
       "      <td>रेड लेबल चहा</td>\n",
       "    </tr>\n",
       "    <tr>\n",
       "      <th>30</th>\n",
       "      <td>Porridge</td>\n",
       "      <td>दलि या</td>\n",
       "    </tr>\n",
       "    <tr>\n",
       "      <th>31</th>\n",
       "      <td>Cashew</td>\n",
       "      <td>काजू</td>\n",
       "    </tr>\n",
       "    <tr>\n",
       "      <th>32</th>\n",
       "      <td>Almond</td>\n",
       "      <td>बदाम</td>\n",
       "    </tr>\n",
       "    <tr>\n",
       "      <th>33</th>\n",
       "      <td>Cardamom</td>\n",
       "      <td>इलायची</td>\n",
       "    </tr>\n",
       "    <tr>\n",
       "      <th>34</th>\n",
       "      <td>Brown Long Cloves</td>\n",
       "      <td>लवगं</td>\n",
       "    </tr>\n",
       "    <tr>\n",
       "      <th>35</th>\n",
       "      <td>Chilli Powder</td>\n",
       "      <td>मि रची पावडर</td>\n",
       "    </tr>\n",
       "    <tr>\n",
       "      <th>36</th>\n",
       "      <td>Aniseeds/Fennel Seeds</td>\n",
       "      <td>सौफ</td>\n",
       "    </tr>\n",
       "    <tr>\n",
       "      <th>37</th>\n",
       "      <td>Asafoetida</td>\n",
       "      <td>हि गं</td>\n",
       "    </tr>\n",
       "    <tr>\n",
       "      <th>38</th>\n",
       "      <td>Big Mustard Seeds</td>\n",
       "      <td>मोहरी</td>\n",
       "    </tr>\n",
       "    <tr>\n",
       "      <th>39</th>\n",
       "      <td>Black Cumin Seeds</td>\n",
       "      <td>काळा जीरा</td>\n",
       "    </tr>\n",
       "    <tr>\n",
       "      <th>40</th>\n",
       "      <td>Cloves</td>\n",
       "      <td>लाउंग/लवांग</td>\n",
       "    </tr>\n",
       "    <tr>\n",
       "      <th>41</th>\n",
       "      <td>Fenugreek Seeds</td>\n",
       "      <td>मेथीचेदाणे</td>\n",
       "    </tr>\n",
       "    <tr>\n",
       "      <th>42</th>\n",
       "      <td>Black Sesame Seeds</td>\n",
       "      <td>ति ल (काळा)</td>\n",
       "    </tr>\n",
       "    <tr>\n",
       "      <th>43</th>\n",
       "      <td>White Sesame Seeds</td>\n",
       "      <td>ति ल (पांढरा)</td>\n",
       "    </tr>\n",
       "    <tr>\n",
       "      <th>44</th>\n",
       "      <td>Mung Bean/Green Gram/Kideny Bean</td>\n",
       "      <td>आखा मोंग</td>\n",
       "    </tr>\n",
       "    <tr>\n",
       "      <th>45</th>\n",
       "      <td>Puffed Rice</td>\n",
       "      <td>मरुमरुा</td>\n",
       "    </tr>\n",
       "    <tr>\n",
       "      <th>46</th>\n",
       "      <td>Parachute Coconut Oil</td>\n",
       "      <td>पॅराशटू नारळ तले</td>\n",
       "    </tr>\n",
       "    <tr>\n",
       "      <th>47</th>\n",
       "      <td>Pond's Powder</td>\n",
       "      <td>पोंड पाउडर</td>\n",
       "    </tr>\n",
       "    <tr>\n",
       "      <th>48</th>\n",
       "      <td>Jaggery</td>\n",
       "      <td>गळू</td>\n",
       "    </tr>\n",
       "  </tbody>\n",
       "</table>\n",
       "</div>"
      ],
      "text/plain": [
       "                Tapioca Pearl / Sago                 साबदुाणा\n",
       "0                  Split Pigeon Peas                  तरू डाळ\n",
       "1                          Groundnut                 शेंगदाणा\n",
       "2                     Flattened Rice                     पोहे\n",
       "3                           Semolina                      रवा\n",
       "4                    Brown Chickpeas                 देशी चना\n",
       "5                        Mustard Oil               मोहरीचेतले\n",
       "6                  Sunflower Refined  सर्यू फर्य ूल रि फाइन्ड\n",
       "7                   Soyabean Refined        सोयाबीन रि फाइन्ड\n",
       "8                       Kanda Masala              कांदा मसाला\n",
       "9                       Haldi Powder               हळदी पावडर\n",
       "10                  Coriander Powder             धनि या पावडर\n",
       "11                         Tata Salt                 टाटा नमक\n",
       "12                             Sugar                     साखर\n",
       "13                 Rin Detergent Bar   रि न डि टर्जंटर्जं बार\n",
       "14                        Detol Soap              डटे ॉल साबण\n",
       "15                             Cumin                    जि रे\n",
       "16                       Celery Seed                      ओवा\n",
       "17                      Bishops Weed                   अजवाईन\n",
       "18                            Raisin                   मनकु ा\n",
       "19                           Fharsan                    फरसाण\n",
       "20               CloseUp Tooth Paste        क्लोजअप टूथ पेस्ट\n",
       "21            Split Chickpea Lentils                  चणा डाळ\n",
       "22                     Maggie Masala               मॅगी मसाला\n",
       "23                            Maggie                     मॅगी\n",
       "24                         Moth Bean                     मटकी\n",
       "25                Xpert Dishwash Bar      एक्सपर्ट बार्टन बार\n",
       "26                  Raw Mango Pickle              कैरीचेलोणचे\n",
       "27           Maysore Sandalwood Soap       मयसरू सँडलवडु साबण\n",
       "28                   Ghadi Detergent                घडी पाउडर\n",
       "29                     Red Label Tea             रेड लेबल चहा\n",
       "30                          Porridge                   दलि या\n",
       "31                            Cashew                     काजू\n",
       "32                            Almond                     बदाम\n",
       "33                          Cardamom                   इलायची\n",
       "34                 Brown Long Cloves                     लवगं\n",
       "35                     Chilli Powder             मि रची पावडर\n",
       "36             Aniseeds/Fennel Seeds                      सौफ\n",
       "37                        Asafoetida                    हि गं\n",
       "38                 Big Mustard Seeds                    मोहरी\n",
       "39                 Black Cumin Seeds                काळा जीरा\n",
       "40                            Cloves              लाउंग/लवांग\n",
       "41                   Fenugreek Seeds               मेथीचेदाणे\n",
       "42                Black Sesame Seeds              ति ल (काळा)\n",
       "43                White Sesame Seeds            ति ल (पांढरा)\n",
       "44  Mung Bean/Green Gram/Kideny Bean                 आखा मोंग\n",
       "45                       Puffed Rice                  मरुमरुा\n",
       "46             Parachute Coconut Oil         पॅराशटू नारळ तले\n",
       "47                     Pond's Powder               पोंड पाउडर\n",
       "48                           Jaggery                      गळू"
      ]
     },
     "execution_count": 4,
     "metadata": {},
     "output_type": "execute_result"
    }
   ],
   "source": [
    "Ration = pd.read_csv(r\"C:\\Users\\dhana\\Music\\Anil_Ration_Grocery_List.csv\", sep = \",\")\n",
    "Ration"
   ]
  },
  {
   "cell_type": "code",
   "execution_count": null,
   "id": "f52c4f32-500a-4ca2-ba35-93f50139cd9a",
   "metadata": {},
   "outputs": [],
   "source": []
  }
 ],
 "metadata": {
  "kernelspec": {
   "display_name": "Python 3 (ipykernel)",
   "language": "python",
   "name": "python3"
  },
  "language_info": {
   "codemirror_mode": {
    "name": "ipython",
    "version": 3
   },
   "file_extension": ".py",
   "mimetype": "text/x-python",
   "name": "python",
   "nbconvert_exporter": "python",
   "pygments_lexer": "ipython3",
   "version": "3.12.2"
  },
  "widgets": {
   "application/vnd.jupyter.widget-state+json": {
    "state": {},
    "version_major": 2,
    "version_minor": 0
   }
  }
 },
 "nbformat": 4,
 "nbformat_minor": 5
}
