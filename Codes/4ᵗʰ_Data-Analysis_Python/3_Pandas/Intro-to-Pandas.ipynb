{
 "cells": [
  {
   "cell_type": "markdown",
   "id": "bdcfff0c-f109-4444-804c-b2b79eb16018",
   "metadata": {},
   "source": [
    "# Introduction"
   ]
  },
  {
   "cell_type": "raw",
   "id": "5a79b422-f0e4-4ba8-af8c-66936ca46d8e",
   "metadata": {},
   "source": [
    "PANDAS (PANel DAta) is a high-level data manipulation tool used for analysing data.\n",
    "It is very easy to import and export data using Pandas library which has a very rich set of functions. \n",
    "It is built on packages like NumPy and Matplotlib and gives us a single, convenient place to do most of our data analysis and visualisation work. "
   ]
  },
  {
   "cell_type": "markdown",
   "id": "4ab22890-9d97-4250-af8c-b2300bdc68b5",
   "metadata": {},
   "source": [
    "## Installing Pandas"
   ]
  },
  {
   "cell_type": "raw",
   "id": "26f40581-6aed-441e-a088-bdfbd782f902",
   "metadata": {},
   "source": [
    "Installing Pandas is very similar to installing NumPy. \n",
    "To install Pandas from command line, we need to type in:\n",
    "\n",
    "pip install panda"
   ]
  },
  {
   "cell_type": "markdown",
   "id": "3f163966-0509-40b0-a2f4-3e61b78c782a",
   "metadata": {},
   "source": [
    "## Data Structure in Pandas"
   ]
  },
  {
   "cell_type": "raw",
   "id": "d5fe1b9b-105c-4151-940c-f2473eea88ad",
   "metadata": {},
   "source": [
    "A data structure is a collection of data values and operations that can be applied to that data. \n",
    "It enables efficient storage, retrieval and modification to the data.\n",
    "\n",
    "Two commonly used data structures in Pandas that we will cover in this book are: \n",
    "• Series \n",
    "• DataFrame"
   ]
  }
 ],
 "metadata": {
  "kernelspec": {
   "display_name": "Python 3 (ipykernel)",
   "language": "python",
   "name": "python3"
  },
  "language_info": {
   "codemirror_mode": {
    "name": "ipython",
    "version": 3
   },
   "file_extension": ".py",
   "mimetype": "text/x-python",
   "name": "python",
   "nbconvert_exporter": "python",
   "pygments_lexer": "ipython3",
   "version": "3.12.2"
  }
 },
 "nbformat": 4,
 "nbformat_minor": 5
}
