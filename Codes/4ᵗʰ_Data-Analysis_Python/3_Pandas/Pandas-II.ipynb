{
 "cells": [
  {
   "cell_type": "code",
   "execution_count": 19,
   "id": "6927d780-dc9a-449c-b78a-41e08d55d1d2",
   "metadata": {},
   "outputs": [],
   "source": [
    "import pandas as pd"
   ]
  },
  {
   "cell_type": "code",
   "execution_count": 43,
   "id": "e07bda97-d319-4da7-82a8-fc258c4bf022",
   "metadata": {},
   "outputs": [
    {
     "data": {
      "text/html": [
       "<div>\n",
       "<style scoped>\n",
       "    .dataframe tbody tr th:only-of-type {\n",
       "        vertical-align: middle;\n",
       "    }\n",
       "\n",
       "    .dataframe tbody tr th {\n",
       "        vertical-align: top;\n",
       "    }\n",
       "\n",
       "    .dataframe thead th {\n",
       "        text-align: right;\n",
       "    }\n",
       "</style>\n",
       "<table border=\"1\" class=\"dataframe\">\n",
       "  <thead>\n",
       "    <tr style=\"text-align: right;\">\n",
       "      <th></th>\n",
       "      <th>Name</th>\n",
       "      <th>UT</th>\n",
       "      <th>Maths</th>\n",
       "      <th>Science</th>\n",
       "      <th>S.St.</th>\n",
       "      <th>Hindi</th>\n",
       "      <th>Eng</th>\n",
       "    </tr>\n",
       "  </thead>\n",
       "  <tbody>\n",
       "    <tr>\n",
       "      <th>0</th>\n",
       "      <td>Raman</td>\n",
       "      <td>1</td>\n",
       "      <td>22</td>\n",
       "      <td>21</td>\n",
       "      <td>18</td>\n",
       "      <td>20</td>\n",
       "      <td>21</td>\n",
       "    </tr>\n",
       "    <tr>\n",
       "      <th>1</th>\n",
       "      <td>Raman</td>\n",
       "      <td>2</td>\n",
       "      <td>21</td>\n",
       "      <td>20</td>\n",
       "      <td>17</td>\n",
       "      <td>22</td>\n",
       "      <td>24</td>\n",
       "    </tr>\n",
       "    <tr>\n",
       "      <th>2</th>\n",
       "      <td>Raman</td>\n",
       "      <td>3</td>\n",
       "      <td>14</td>\n",
       "      <td>19</td>\n",
       "      <td>15</td>\n",
       "      <td>24</td>\n",
       "      <td>23</td>\n",
       "    </tr>\n",
       "    <tr>\n",
       "      <th>3</th>\n",
       "      <td>Zuhaire</td>\n",
       "      <td>1</td>\n",
       "      <td>20</td>\n",
       "      <td>17</td>\n",
       "      <td>22</td>\n",
       "      <td>24</td>\n",
       "      <td>19</td>\n",
       "    </tr>\n",
       "    <tr>\n",
       "      <th>4</th>\n",
       "      <td>Zuhaire</td>\n",
       "      <td>2</td>\n",
       "      <td>23</td>\n",
       "      <td>15</td>\n",
       "      <td>21</td>\n",
       "      <td>25</td>\n",
       "      <td>15</td>\n",
       "    </tr>\n",
       "    <tr>\n",
       "      <th>5</th>\n",
       "      <td>Zuhaire</td>\n",
       "      <td>3</td>\n",
       "      <td>22</td>\n",
       "      <td>18</td>\n",
       "      <td>19</td>\n",
       "      <td>23</td>\n",
       "      <td>13</td>\n",
       "    </tr>\n",
       "    <tr>\n",
       "      <th>6</th>\n",
       "      <td>Aashravy</td>\n",
       "      <td>1</td>\n",
       "      <td>23</td>\n",
       "      <td>19</td>\n",
       "      <td>20</td>\n",
       "      <td>15</td>\n",
       "      <td>22</td>\n",
       "    </tr>\n",
       "    <tr>\n",
       "      <th>7</th>\n",
       "      <td>Aashravy</td>\n",
       "      <td>2</td>\n",
       "      <td>24</td>\n",
       "      <td>22</td>\n",
       "      <td>24</td>\n",
       "      <td>17</td>\n",
       "      <td>21</td>\n",
       "    </tr>\n",
       "    <tr>\n",
       "      <th>8</th>\n",
       "      <td>Aashravy</td>\n",
       "      <td>3</td>\n",
       "      <td>12</td>\n",
       "      <td>25</td>\n",
       "      <td>19</td>\n",
       "      <td>21</td>\n",
       "      <td>23</td>\n",
       "    </tr>\n",
       "    <tr>\n",
       "      <th>9</th>\n",
       "      <td>Mishti</td>\n",
       "      <td>1</td>\n",
       "      <td>15</td>\n",
       "      <td>22</td>\n",
       "      <td>25</td>\n",
       "      <td>22</td>\n",
       "      <td>22</td>\n",
       "    </tr>\n",
       "    <tr>\n",
       "      <th>10</th>\n",
       "      <td>Mishti</td>\n",
       "      <td>2</td>\n",
       "      <td>18</td>\n",
       "      <td>21</td>\n",
       "      <td>25</td>\n",
       "      <td>24</td>\n",
       "      <td>23</td>\n",
       "    </tr>\n",
       "    <tr>\n",
       "      <th>11</th>\n",
       "      <td>Mishti</td>\n",
       "      <td>3</td>\n",
       "      <td>17</td>\n",
       "      <td>18</td>\n",
       "      <td>20</td>\n",
       "      <td>25</td>\n",
       "      <td>20</td>\n",
       "    </tr>\n",
       "  </tbody>\n",
       "</table>\n",
       "</div>"
      ],
      "text/plain": [
       "        Name  UT  Maths  Science  S.St.  Hindi  Eng\n",
       "0      Raman   1     22       21     18     20   21\n",
       "1      Raman   2     21       20     17     22   24\n",
       "2      Raman   3     14       19     15     24   23\n",
       "3    Zuhaire   1     20       17     22     24   19\n",
       "4    Zuhaire   2     23       15     21     25   15\n",
       "5    Zuhaire   3     22       18     19     23   13\n",
       "6   Aashravy   1     23       19     20     15   22\n",
       "7   Aashravy   2     24       22     24     17   21\n",
       "8   Aashravy   3     12       25     19     21   23\n",
       "9     Mishti   1     15       22     25     22   22\n",
       "10    Mishti   2     18       21     25     24   23\n",
       "11    Mishti   3     17       18     20     25   20"
      ]
     },
     "execution_count": 43,
     "metadata": {},
     "output_type": "execute_result"
    }
   ],
   "source": [
    "df = pd.read_csv(\"marksUT.csv\", sep = \",\")\n",
    "df"
   ]
  },
  {
   "cell_type": "code",
   "execution_count": 44,
   "id": "df06bc85-a27d-4ff8-8046-ca8bd8c1bc2e",
   "metadata": {},
   "outputs": [],
   "source": [
    "# marksUT= {'Name':['Raman','Raman','Raman','Zuhaire','Zuhaire','Zuhaire', 'Ashravy','Ashravy','Ashravy','Mishti','Mishti','Mishti'],\n",
    "#  'UT':[1,2,3,1,2,3,1,2,3,1,2,3],\n",
    "#  'Maths':[22,21,14,20,23,22,23,24,12,15,18,17],\n",
    "#  'Science':[21,20,19,17,15,18,19,22,25,22,21,18],\n",
    "#  'S.St':[18,17,15,22,21,19,20,24,19,25,25,20],\n",
    "#  'Hindi':[20,22,24,24,25,23,15,17,21,22,24,25],\n",
    "#  'Eng':[21,24,23,19,15,13,22,21,23,22,23,20]\n",
    "#  }\n",
    "\n",
    "# df=pd.DataFrame(marksUT)\n",
    "# print(df)"
   ]
  },
  {
   "cell_type": "markdown",
   "id": "83312bbd-3aae-4e9d-a81c-937c73c84dbe",
   "metadata": {},
   "source": [
    "## Descriptive Statistics"
   ]
  },
  {
   "cell_type": "markdown",
   "id": "681c3d61-43f8-44a1-aff3-7ec40d872d29",
   "metadata": {},
   "source": [
    "### Calculating Maximum Values"
   ]
  },
  {
   "cell_type": "code",
   "execution_count": 45,
   "id": "fd5537b3-4998-4d19-977c-1ee5568b4055",
   "metadata": {},
   "outputs": [
    {
     "name": "stdout",
     "output_type": "stream",
     "text": [
      "Name       Zuhaire\n",
      "UT               3\n",
      "Maths           24\n",
      "Science         25\n",
      "S.St.           25\n",
      "Hindi           25\n",
      "Eng             24\n",
      "dtype: object\n"
     ]
    }
   ],
   "source": [
    "print(df.max())\n",
    "\n",
    "\n",
    "# OUTPUT: \n",
    "\n",
    "# Name/ Subjects    Zuhaire  # Max value in name column (alphabetically)\n",
    "# Unit Test               3  # Max value in Unit Test\n",
    "# Maths                  24  # Max value in Maths\n",
    "# Science                25  # Max value in Science\n",
    "# S.St.                  25  # Max value in S.St. \n",
    "# Hindi                  25  # Max value in Hindi    \n",
    "# Eng                    24  # Max value in Eng\n",
    "# dtype: object\n"
   ]
  },
  {
   "cell_type": "code",
   "execution_count": 46,
   "id": "8ebc5fdf-d62c-47a0-8b8d-99f850e52215",
   "metadata": {},
   "outputs": [
    {
     "name": "stdout",
     "output_type": "stream",
     "text": [
      "UT          3\n",
      "Maths      24\n",
      "Science    25\n",
      "S.St.      25\n",
      "Hindi      25\n",
      "Eng        24\n",
      "dtype: int64\n"
     ]
    }
   ],
   "source": [
    "print(df.max(numeric_only = True))"
   ]
  },
  {
   "cell_type": "raw",
   "id": "050c00bd-84e7-446d-9add-f5a0ef4cec8c",
   "metadata": {},
   "source": [
    "Maximum marks obtained in each subject in Unit Test 2. "
   ]
  },
  {
   "cell_type": "code",
   "execution_count": 47,
   "id": "7835cead-1b9e-4809-becd-5d6e3f076c1c",
   "metadata": {},
   "outputs": [
    {
     "name": "stdout",
     "output_type": "stream",
     "text": [
      "\n",
      "Result of Unit Test 2: \n",
      "\n",
      "         Name  UT  Maths  Science  S.St.  Hindi  Eng\n",
      "1      Raman   2     21       20     17     22   24\n",
      "4    Zuhaire   2     23       15     21     25   15\n",
      "7   Aashravy   2     24       22     24     17   21\n",
      "10    Mishti   2     18       21     25     24   23\n"
     ]
    }
   ],
   "source": [
    "dfUT2 =df[df.UT == 2]\n",
    "\n",
    "print(\"\\nResult of Unit Test 2: \\n\\n\",dfUT2)"
   ]
  },
  {
   "cell_type": "raw",
   "id": "e2ff296b-31ed-438e-ac29-34a23cd21f6b",
   "metadata": {},
   "source": [
    "Maximum Mark obtained in Each Subject in Unit Test 2"
   ]
  },
  {
   "cell_type": "code",
   "execution_count": 48,
   "id": "13ec14f2-acf2-4b19-803c-fcb64df4e811",
   "metadata": {},
   "outputs": [
    {
     "data": {
      "text/plain": [
       "UT          2\n",
       "Maths      24\n",
       "Science    22\n",
       "S.St.      25\n",
       "Hindi      25\n",
       "Eng        24\n",
       "dtype: int64"
      ]
     },
     "execution_count": 48,
     "metadata": {},
     "output_type": "execute_result"
    }
   ],
   "source": [
    "dfUT2.max(numeric_only = True)"
   ]
  },
  {
   "cell_type": "raw",
   "id": "45b3cef6-9e96-46a9-b7c5-c7790f4d9567",
   "metadata": {},
   "source": [
    "By default, the max() method finds the maximum value of each column (which means, axis=0). \n",
    "However, to find the maximum value of each row, we have to specify axis = 1 as its argument."
   ]
  },
  {
   "cell_type": "raw",
   "id": "2c2622f2-203f-4dd1-a774-63c8bf639895",
   "metadata": {},
   "source": [
    "maximum marks for each student in each unit test among all the subjects"
   ]
  },
  {
   "cell_type": "code",
   "execution_count": 49,
   "id": "db403a97-e74f-4ec8-ade5-1ad697769b36",
   "metadata": {},
   "outputs": [
    {
     "data": {
      "text/plain": [
       "0     22\n",
       "1     24\n",
       "2     24\n",
       "3     24\n",
       "4     25\n",
       "5     23\n",
       "6     23\n",
       "7     24\n",
       "8     25\n",
       "9     25\n",
       "10    25\n",
       "11    25\n",
       "dtype: int64"
      ]
     },
     "execution_count": 49,
     "metadata": {},
     "output_type": "execute_result"
    }
   ],
   "source": [
    "df.max(axis=1 ,numeric_only = True)"
   ]
  },
  {
   "cell_type": "markdown",
   "id": "8ed65e67-0033-44ac-a645-959ae735ab4b",
   "metadata": {},
   "source": [
    "### Calculating Minimum Values "
   ]
  },
  {
   "cell_type": "code",
   "execution_count": 39,
   "id": "f59f8e28-2daf-4384-af95-bc21f1c535d2",
   "metadata": {},
   "outputs": [
    {
     "data": {
      "text/plain": [
       "Name       Ashravy\n",
       "UT               1\n",
       "Maths           12\n",
       "Science         15\n",
       "S.St            15\n",
       "Hindi           15\n",
       "Eng             13\n",
       "dtype: object"
      ]
     },
     "execution_count": 39,
     "metadata": {},
     "output_type": "execute_result"
    }
   ],
   "source": [
    "df.min()"
   ]
  },
  {
   "cell_type": "code",
   "execution_count": 41,
   "id": "7b26194b-9bef-47ba-803b-c07063065ff7",
   "metadata": {},
   "outputs": [
    {
     "data": {
      "text/html": [
       "<div>\n",
       "<style scoped>\n",
       "    .dataframe tbody tr th:only-of-type {\n",
       "        vertical-align: middle;\n",
       "    }\n",
       "\n",
       "    .dataframe tbody tr th {\n",
       "        vertical-align: top;\n",
       "    }\n",
       "\n",
       "    .dataframe thead th {\n",
       "        text-align: right;\n",
       "    }\n",
       "</style>\n",
       "<table border=\"1\" class=\"dataframe\">\n",
       "  <thead>\n",
       "    <tr style=\"text-align: right;\">\n",
       "      <th></th>\n",
       "      <th>Name</th>\n",
       "      <th>UT</th>\n",
       "      <th>Maths</th>\n",
       "      <th>Science</th>\n",
       "      <th>S.St</th>\n",
       "      <th>Hindi</th>\n",
       "      <th>Eng</th>\n",
       "    </tr>\n",
       "  </thead>\n",
       "  <tbody>\n",
       "    <tr>\n",
       "      <th>9</th>\n",
       "      <td>Mishti</td>\n",
       "      <td>1</td>\n",
       "      <td>15</td>\n",
       "      <td>22</td>\n",
       "      <td>25</td>\n",
       "      <td>22</td>\n",
       "      <td>22</td>\n",
       "    </tr>\n",
       "    <tr>\n",
       "      <th>10</th>\n",
       "      <td>Mishti</td>\n",
       "      <td>2</td>\n",
       "      <td>18</td>\n",
       "      <td>21</td>\n",
       "      <td>25</td>\n",
       "      <td>24</td>\n",
       "      <td>23</td>\n",
       "    </tr>\n",
       "    <tr>\n",
       "      <th>11</th>\n",
       "      <td>Mishti</td>\n",
       "      <td>3</td>\n",
       "      <td>17</td>\n",
       "      <td>18</td>\n",
       "      <td>20</td>\n",
       "      <td>25</td>\n",
       "      <td>20</td>\n",
       "    </tr>\n",
       "  </tbody>\n",
       "</table>\n",
       "</div>"
      ],
      "text/plain": [
       "      Name  UT  Maths  Science  S.St  Hindi  Eng\n",
       "9   Mishti   1     15       22    25     22   22\n",
       "10  Mishti   2     18       21    25     24   23\n",
       "11  Mishti   3     17       18    20     25   20"
      ]
     },
     "execution_count": 41,
     "metadata": {},
     "output_type": "execute_result"
    }
   ],
   "source": [
    "dfMishti = df.loc[df.Name == \"Mishti\"]\n",
    "dfMishti"
   ]
  },
  {
   "cell_type": "code",
   "execution_count": 42,
   "id": "c9217c20-8914-4f5a-a0c0-93d3652b9f66",
   "metadata": {},
   "outputs": [
    {
     "name": "stdout",
     "output_type": "stream",
     "text": [
      "\n",
      "Minimum Marks obtained by Mishti in each subject across the unit Tests\n",
      "\n",
      " Maths      15\n",
      "Science    18\n",
      "S.St       20\n",
      "Hindi      22\n",
      "Eng        20\n",
      "dtype: int64\n"
     ]
    }
   ],
   "source": [
    "print(\"\\nMinimum Marks obtained by Mishti in each subject across the unit Tests\\n\\n\",dfMishti[[\"Maths\", \"Science\", \"S.St\", \"Hindi\", \"Eng\"]].min())"
   ]
  },
  {
   "cell_type": "markdown",
   "id": "a29e29fd-88ca-4afe-8afd-eb197b578496",
   "metadata": {},
   "source": [
    "### Calculating Sum of Values"
   ]
  },
  {
   "cell_type": "code",
   "execution_count": 52,
   "id": "6f6a7dfc-4d7d-477b-8210-ee4bc5ab71aa",
   "metadata": {},
   "outputs": [
    {
     "data": {
      "text/plain": [
       "Name       RamanRamanRamanZuhaireZuhaireZuhaireAashravyAa...\n",
       "UT                                                        24\n",
       "Maths                                                    231\n",
       "Science                                                  237\n",
       "S.St.                                                    245\n",
       "Hindi                                                    262\n",
       "Eng                                                      246\n",
       "dtype: object"
      ]
     },
     "execution_count": 52,
     "metadata": {},
     "output_type": "execute_result"
    }
   ],
   "source": [
    "df.sum()     # df.sum(numeric_only = True)"
   ]
  },
  {
   "cell_type": "code",
   "execution_count": 54,
   "id": "e7053127-9cfe-445d-8efe-3034e9c8c080",
   "metadata": {},
   "outputs": [
    {
     "data": {
      "text/plain": [
       "231"
      ]
     },
     "execution_count": 54,
     "metadata": {},
     "output_type": "execute_result"
    }
   ],
   "source": [
    "df[\"Maths\"].sum()"
   ]
  },
  {
   "cell_type": "code",
   "execution_count": 56,
   "id": "ceacd7cb-b133-4696-b49d-04ff81c252c7",
   "metadata": {},
   "outputs": [
    {
     "data": {
      "text/html": [
       "<div>\n",
       "<style scoped>\n",
       "    .dataframe tbody tr th:only-of-type {\n",
       "        vertical-align: middle;\n",
       "    }\n",
       "\n",
       "    .dataframe tbody tr th {\n",
       "        vertical-align: top;\n",
       "    }\n",
       "\n",
       "    .dataframe thead th {\n",
       "        text-align: right;\n",
       "    }\n",
       "</style>\n",
       "<table border=\"1\" class=\"dataframe\">\n",
       "  <thead>\n",
       "    <tr style=\"text-align: right;\">\n",
       "      <th></th>\n",
       "      <th>Name</th>\n",
       "      <th>UT</th>\n",
       "      <th>Maths</th>\n",
       "      <th>Science</th>\n",
       "      <th>S.St.</th>\n",
       "      <th>Hindi</th>\n",
       "      <th>Eng</th>\n",
       "    </tr>\n",
       "  </thead>\n",
       "  <tbody>\n",
       "    <tr>\n",
       "      <th>0</th>\n",
       "      <td>Raman</td>\n",
       "      <td>1</td>\n",
       "      <td>22</td>\n",
       "      <td>21</td>\n",
       "      <td>18</td>\n",
       "      <td>20</td>\n",
       "      <td>21</td>\n",
       "    </tr>\n",
       "    <tr>\n",
       "      <th>1</th>\n",
       "      <td>Raman</td>\n",
       "      <td>2</td>\n",
       "      <td>21</td>\n",
       "      <td>20</td>\n",
       "      <td>17</td>\n",
       "      <td>22</td>\n",
       "      <td>24</td>\n",
       "    </tr>\n",
       "    <tr>\n",
       "      <th>2</th>\n",
       "      <td>Raman</td>\n",
       "      <td>3</td>\n",
       "      <td>14</td>\n",
       "      <td>19</td>\n",
       "      <td>15</td>\n",
       "      <td>24</td>\n",
       "      <td>23</td>\n",
       "    </tr>\n",
       "  </tbody>\n",
       "</table>\n",
       "</div>"
      ],
      "text/plain": [
       "    Name  UT  Maths  Science  S.St.  Hindi  Eng\n",
       "0  Raman   1     22       21     18     20   21\n",
       "1  Raman   2     21       20     17     22   24\n",
       "2  Raman   3     14       19     15     24   23"
      ]
     },
     "execution_count": 56,
     "metadata": {},
     "output_type": "execute_result"
    }
   ],
   "source": [
    "dfRaman = df[df[\"Name\"] == \"Raman\"]\n",
    "dfRaman"
   ]
  },
  {
   "cell_type": "code",
   "execution_count": 60,
   "id": "06e17faf-c801-4ff9-84d2-bf6994c69f49",
   "metadata": {},
   "outputs": [
    {
     "data": {
      "text/plain": [
       "Maths      57\n",
       "Science    60\n",
       "S.St.      50\n",
       "Hindi      66\n",
       "Eng        68\n",
       "dtype: int64"
      ]
     },
     "execution_count": 60,
     "metadata": {},
     "output_type": "execute_result"
    }
   ],
   "source": [
    "dfRaman[[\"Maths\", \"Science\", \"S.St.\", \"Hindi\", \"Eng\"]].sum()"
   ]
  },
  {
   "cell_type": "code",
   "execution_count": 61,
   "id": "60e78f01-8f7b-49d7-b40e-a9179c492392",
   "metadata": {},
   "outputs": [
    {
     "data": {
      "text/plain": [
       "0    102\n",
       "1    104\n",
       "2     95\n",
       "dtype: int64"
      ]
     },
     "execution_count": 61,
     "metadata": {},
     "output_type": "execute_result"
    }
   ],
   "source": [
    "dfRaman[[\"Maths\", \"Science\", \"S.St.\", \"Hindi\", \"Eng\"]].sum(axis = 1)"
   ]
  },
  {
   "cell_type": "markdown",
   "id": "cd65f9d8-0c92-4243-8e5d-bf536f3bea9c",
   "metadata": {},
   "source": [
    "###  Calculating Number of Values"
   ]
  },
  {
   "cell_type": "code",
   "execution_count": 62,
   "id": "8910b35b-a084-4f60-ac2c-c962c6d461ad",
   "metadata": {},
   "outputs": [
    {
     "data": {
      "text/plain": [
       "Name       12\n",
       "UT         12\n",
       "Maths      12\n",
       "Science    12\n",
       "S.St.      12\n",
       "Hindi      12\n",
       "Eng        12\n",
       "dtype: int64"
      ]
     },
     "execution_count": 62,
     "metadata": {},
     "output_type": "execute_result"
    }
   ],
   "source": [
    "df.count()"
   ]
  },
  {
   "cell_type": "code",
   "execution_count": 63,
   "id": "ebfbe3a4-02af-49fd-a7bc-0493f8b8c26b",
   "metadata": {},
   "outputs": [
    {
     "data": {
      "text/plain": [
       "0     7\n",
       "1     7\n",
       "2     7\n",
       "3     7\n",
       "4     7\n",
       "5     7\n",
       "6     7\n",
       "7     7\n",
       "8     7\n",
       "9     7\n",
       "10    7\n",
       "11    7\n",
       "dtype: int64"
      ]
     },
     "execution_count": 63,
     "metadata": {},
     "output_type": "execute_result"
    }
   ],
   "source": [
    "# Write a statement to count the number of values in a row.\n",
    "\n",
    "df.count(axis=1)"
   ]
  },
  {
   "cell_type": "markdown",
   "id": "101f8aed-ac17-4a52-a89c-25b719d78d52",
   "metadata": {},
   "source": [
    "###  Calculating Mean"
   ]
  },
  {
   "cell_type": "code",
   "execution_count": 66,
   "id": "1e220fe3-7d39-41e0-910c-d66c8f8ffef1",
   "metadata": {},
   "outputs": [
    {
     "data": {
      "text/plain": [
       "UT          2.000000\n",
       "Maths      19.250000\n",
       "Science    19.750000\n",
       "S.St.      20.416667\n",
       "Hindi      21.833333\n",
       "Eng        20.500000\n",
       "dtype: float64"
      ]
     },
     "execution_count": 66,
     "metadata": {},
     "output_type": "execute_result"
    }
   ],
   "source": [
    "df.mean(numeric_only=True)"
   ]
  },
  {
   "cell_type": "code",
   "execution_count": 67,
   "id": "065cf3e8-4294-43ef-95f3-a7aaa02fa216",
   "metadata": {},
   "outputs": [
    {
     "data": {
      "text/plain": [
       "Maths      19.250000\n",
       "Science    19.750000\n",
       "S.St.      20.416667\n",
       "Hindi      21.833333\n",
       "Eng        20.500000\n",
       "dtype: float64"
      ]
     },
     "execution_count": 67,
     "metadata": {},
     "output_type": "execute_result"
    }
   ],
   "source": [
    "df[[\"Maths\", \"Science\", \"S.St.\", \"Hindi\", \"Eng\"]].mean()"
   ]
  },
  {
   "cell_type": "code",
   "execution_count": 70,
   "id": "cb0e28aa-7332-47c4-bbd9-2a6b9fc81257",
   "metadata": {},
   "outputs": [
    {
     "data": {
      "text/html": [
       "<div>\n",
       "<style scoped>\n",
       "    .dataframe tbody tr th:only-of-type {\n",
       "        vertical-align: middle;\n",
       "    }\n",
       "\n",
       "    .dataframe tbody tr th {\n",
       "        vertical-align: top;\n",
       "    }\n",
       "\n",
       "    .dataframe thead th {\n",
       "        text-align: right;\n",
       "    }\n",
       "</style>\n",
       "<table border=\"1\" class=\"dataframe\">\n",
       "  <thead>\n",
       "    <tr style=\"text-align: right;\">\n",
       "      <th></th>\n",
       "      <th>Name</th>\n",
       "      <th>UT</th>\n",
       "      <th>Maths</th>\n",
       "      <th>Science</th>\n",
       "      <th>S.St.</th>\n",
       "      <th>Hindi</th>\n",
       "      <th>Eng</th>\n",
       "    </tr>\n",
       "  </thead>\n",
       "  <tbody>\n",
       "    <tr>\n",
       "      <th>3</th>\n",
       "      <td>Zuhaire</td>\n",
       "      <td>1</td>\n",
       "      <td>20</td>\n",
       "      <td>17</td>\n",
       "      <td>22</td>\n",
       "      <td>24</td>\n",
       "      <td>19</td>\n",
       "    </tr>\n",
       "    <tr>\n",
       "      <th>4</th>\n",
       "      <td>Zuhaire</td>\n",
       "      <td>2</td>\n",
       "      <td>23</td>\n",
       "      <td>15</td>\n",
       "      <td>21</td>\n",
       "      <td>25</td>\n",
       "      <td>15</td>\n",
       "    </tr>\n",
       "    <tr>\n",
       "      <th>5</th>\n",
       "      <td>Zuhaire</td>\n",
       "      <td>3</td>\n",
       "      <td>22</td>\n",
       "      <td>18</td>\n",
       "      <td>19</td>\n",
       "      <td>23</td>\n",
       "      <td>13</td>\n",
       "    </tr>\n",
       "  </tbody>\n",
       "</table>\n",
       "</div>"
      ],
      "text/plain": [
       "      Name  UT  Maths  Science  S.St.  Hindi  Eng\n",
       "3  Zuhaire   1     20       17     22     24   19\n",
       "4  Zuhaire   2     23       15     21     25   15\n",
       "5  Zuhaire   3     22       18     19     23   13"
      ]
     },
     "execution_count": 70,
     "metadata": {},
     "output_type": "execute_result"
    }
   ],
   "source": [
    "dfZuhaire = df.loc[df.Name == \"Zuhaire\"]\n",
    "dfZuhaire"
   ]
  },
  {
   "cell_type": "code",
   "execution_count": 71,
   "id": "14321111-7a6f-42ca-a17a-56cda037193f",
   "metadata": {},
   "outputs": [
    {
     "data": {
      "text/html": [
       "<div>\n",
       "<style scoped>\n",
       "    .dataframe tbody tr th:only-of-type {\n",
       "        vertical-align: middle;\n",
       "    }\n",
       "\n",
       "    .dataframe tbody tr th {\n",
       "        vertical-align: top;\n",
       "    }\n",
       "\n",
       "    .dataframe thead th {\n",
       "        text-align: right;\n",
       "    }\n",
       "</style>\n",
       "<table border=\"1\" class=\"dataframe\">\n",
       "  <thead>\n",
       "    <tr style=\"text-align: right;\">\n",
       "      <th></th>\n",
       "      <th>Maths</th>\n",
       "      <th>Science</th>\n",
       "      <th>S.St.</th>\n",
       "      <th>Hindi</th>\n",
       "      <th>Eng</th>\n",
       "    </tr>\n",
       "  </thead>\n",
       "  <tbody>\n",
       "    <tr>\n",
       "      <th>3</th>\n",
       "      <td>20</td>\n",
       "      <td>17</td>\n",
       "      <td>22</td>\n",
       "      <td>24</td>\n",
       "      <td>19</td>\n",
       "    </tr>\n",
       "    <tr>\n",
       "      <th>4</th>\n",
       "      <td>23</td>\n",
       "      <td>15</td>\n",
       "      <td>21</td>\n",
       "      <td>25</td>\n",
       "      <td>15</td>\n",
       "    </tr>\n",
       "    <tr>\n",
       "      <th>5</th>\n",
       "      <td>22</td>\n",
       "      <td>18</td>\n",
       "      <td>19</td>\n",
       "      <td>23</td>\n",
       "      <td>13</td>\n",
       "    </tr>\n",
       "  </tbody>\n",
       "</table>\n",
       "</div>"
      ],
      "text/plain": [
       "   Maths  Science  S.St.  Hindi  Eng\n",
       "3     20       17     22     24   19\n",
       "4     23       15     21     25   15\n",
       "5     22       18     19     23   13"
      ]
     },
     "execution_count": 71,
     "metadata": {},
     "output_type": "execute_result"
    }
   ],
   "source": [
    "dfZuhaireMarks = dfZuhaire.loc[ : ,\"Maths\": \"Eng\"]\n",
    "dfZuhaireMarks"
   ]
  },
  {
   "cell_type": "code",
   "execution_count": 72,
   "id": "449dcb16-523e-477b-a45f-ac5fec14664f",
   "metadata": {},
   "outputs": [
    {
     "data": {
      "text/plain": [
       "Maths      21.666667\n",
       "Science    16.666667\n",
       "S.St.      20.666667\n",
       "Hindi      24.000000\n",
       "Eng        15.666667\n",
       "dtype: float64"
      ]
     },
     "execution_count": 72,
     "metadata": {},
     "output_type": "execute_result"
    }
   ],
   "source": [
    "dfZuhaireMarks.mean()   # Columnwise"
   ]
  },
  {
   "cell_type": "code",
   "execution_count": 73,
   "id": "33eb2101-2a36-47fe-acd8-589ce51b6009",
   "metadata": {},
   "outputs": [
    {
     "data": {
      "text/plain": [
       "3    20.4\n",
       "4    19.8\n",
       "5    19.0\n",
       "dtype: float64"
      ]
     },
     "execution_count": 73,
     "metadata": {},
     "output_type": "execute_result"
    }
   ],
   "source": [
    "dfZuhaireMarks.mean(axis = 1)"
   ]
  },
  {
   "cell_type": "markdown",
   "id": "72eccbfd-0b87-4a55-b3f5-3e43c4e70c76",
   "metadata": {},
   "source": [
    "### Calculating Median"
   ]
  },
  {
   "cell_type": "code",
   "execution_count": 75,
   "id": "4af3afbc-ce58-49d8-b9e7-99140ae2dd17",
   "metadata": {},
   "outputs": [
    {
     "data": {
      "text/plain": [
       "UT          2.0\n",
       "Maths      20.5\n",
       "Science    19.5\n",
       "S.St.      20.0\n",
       "Hindi      22.5\n",
       "Eng        21.5\n",
       "dtype: float64"
      ]
     },
     "execution_count": 75,
     "metadata": {},
     "output_type": "execute_result"
    }
   ],
   "source": [
    "df.median(numeric_only = True)"
   ]
  },
  {
   "cell_type": "code",
   "execution_count": 76,
   "id": "c0202700-4cc2-4df7-ad13-9d2e1a96bf9d",
   "metadata": {},
   "outputs": [
    {
     "data": {
      "text/plain": [
       "0     22\n",
       "1     21\n",
       "2     14\n",
       "3     20\n",
       "4     23\n",
       "5     22\n",
       "6     23\n",
       "7     24\n",
       "8     12\n",
       "9     15\n",
       "10    18\n",
       "11    17\n",
       "Name: Maths, dtype: int64"
      ]
     },
     "execution_count": 76,
     "metadata": {},
     "output_type": "execute_result"
    }
   ],
   "source": [
    "dfMaths = df[\"Maths\"]\n",
    "dfMaths"
   ]
  },
  {
   "cell_type": "code",
   "execution_count": 77,
   "id": "8757fc84-5247-4f75-8411-a493d48a3fed",
   "metadata": {},
   "outputs": [
    {
     "data": {
      "text/plain": [
       "0    22\n",
       "3    20\n",
       "6    23\n",
       "9    15\n",
       "Name: Maths, dtype: int64"
      ]
     },
     "execution_count": 77,
     "metadata": {},
     "output_type": "execute_result"
    }
   ],
   "source": [
    "dfMathsUT1 = dfMaths[df.UT == 1]\n",
    "dfMathsUT1"
   ]
  },
  {
   "cell_type": "code",
   "execution_count": 78,
   "id": "35c805af-f6b7-459e-ad18-ea45fd13c3dd",
   "metadata": {},
   "outputs": [
    {
     "data": {
      "text/plain": [
       "21.0"
      ]
     },
     "execution_count": 78,
     "metadata": {},
     "output_type": "execute_result"
    }
   ],
   "source": [
    "dfMathsUT1.median()"
   ]
  },
  {
   "cell_type": "markdown",
   "id": "73f324b7-aa10-4bc0-9524-0ab431f03973",
   "metadata": {},
   "source": [
    "### Calculating Mode\n",
    "\n",
    "DateFrame.mode() will display the mode. The mode is \r\n",
    "defined as the value that appears the most number of \r\n",
    "times in a data. This function will display the mode of \r\n",
    "each column or row of the DataFrame. To get the mode \r\n",
    "of Hindi marks, the following statement can be used."
   ]
  },
  {
   "cell_type": "code",
   "execution_count": 80,
   "id": "33957e54-dafd-4908-8f61-66fa6c9226ce",
   "metadata": {},
   "outputs": [
    {
     "data": {
      "text/plain": [
       "0     20\n",
       "1     22\n",
       "2     24\n",
       "3     24\n",
       "4     25\n",
       "5     23\n",
       "6     15\n",
       "7     17\n",
       "8     21\n",
       "9     22\n",
       "10    24\n",
       "11    25\n",
       "Name: Hindi, dtype: int64"
      ]
     },
     "execution_count": 80,
     "metadata": {},
     "output_type": "execute_result"
    }
   ],
   "source": [
    "df[\"Hindi\"]"
   ]
  },
  {
   "cell_type": "code",
   "execution_count": 81,
   "id": "2b7c9e51-523a-4f36-b38e-b7c2637190e4",
   "metadata": {},
   "outputs": [
    {
     "data": {
      "text/plain": [
       "0    24\n",
       "Name: Hindi, dtype: int64"
      ]
     },
     "execution_count": 81,
     "metadata": {},
     "output_type": "execute_result"
    }
   ],
   "source": [
    "df[\"Hindi\"].mode()"
   ]
  },
  {
   "cell_type": "markdown",
   "id": "3a4e8a52-4584-4626-9c8d-847a21605585",
   "metadata": {},
   "source": [
    "### Calculating Quartile"
   ]
  },
  {
   "cell_type": "code",
   "execution_count": 83,
   "id": "916aa329-56ad-4d51-981b-708730e4211f",
   "metadata": {},
   "outputs": [
    {
     "data": {
      "text/plain": [
       "UT          2.0\n",
       "Maths      20.5\n",
       "Science    19.5\n",
       "S.St.      20.0\n",
       "Hindi      22.5\n",
       "Eng        21.5\n",
       "Name: 0.5, dtype: float64"
      ]
     },
     "execution_count": 83,
     "metadata": {},
     "output_type": "execute_result"
    }
   ],
   "source": [
    "df.quantile(numeric_only = True)   # by default, median is the output"
   ]
  },
  {
   "cell_type": "code",
   "execution_count": 85,
   "id": "b88bcdb4-bed0-4eef-bf61-15160b439775",
   "metadata": {},
   "outputs": [
    {
     "data": {
      "text/plain": [
       "UT          1.00\n",
       "Maths      16.50\n",
       "Science    18.00\n",
       "S.St.      18.75\n",
       "Hindi      20.75\n",
       "Eng        19.75\n",
       "Name: 0.25, dtype: float64"
      ]
     },
     "execution_count": 85,
     "metadata": {},
     "output_type": "execute_result"
    }
   ],
   "source": [
    "df.quantile(q = .25, numeric_only = True)"
   ]
  },
  {
   "cell_type": "code",
   "execution_count": 86,
   "id": "97b9cb64-6990-42dc-8f41-824ecb15df80",
   "metadata": {},
   "outputs": [
    {
     "data": {
      "text/plain": [
       "UT          3.00\n",
       "Maths      22.25\n",
       "Science    21.25\n",
       "S.St.      22.50\n",
       "Hindi      24.00\n",
       "Eng        23.00\n",
       "Name: 0.75, dtype: float64"
      ]
     },
     "execution_count": 86,
     "metadata": {},
     "output_type": "execute_result"
    }
   ],
   "source": [
    "df.quantile(q = .75, numeric_only = True)"
   ]
  },
  {
   "cell_type": "code",
   "execution_count": null,
   "id": "6a1f12a1-0594-43a6-83d7-cabd50aaff4b",
   "metadata": {},
   "outputs": [],
   "source": []
  }
 ],
 "metadata": {
  "kernelspec": {
   "display_name": "Python 3 (ipykernel)",
   "language": "python",
   "name": "python3"
  },
  "language_info": {
   "codemirror_mode": {
    "name": "ipython",
    "version": 3
   },
   "file_extension": ".py",
   "mimetype": "text/x-python",
   "name": "python",
   "nbconvert_exporter": "python",
   "pygments_lexer": "ipython3",
   "version": "3.12.2"
  }
 },
 "nbformat": 4,
 "nbformat_minor": 5
}
