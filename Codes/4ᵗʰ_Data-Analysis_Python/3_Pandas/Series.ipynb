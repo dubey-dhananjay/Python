{
 "cells": [
  {
   "cell_type": "markdown",
   "id": "a4c3c3ac-5368-40cb-9cc5-471f805ffc1f",
   "metadata": {},
   "source": [
    "# Series"
   ]
  },
  {
   "cell_type": "raw",
   "id": "5a38c655-1da3-48e6-93c3-5181c77258ab",
   "metadata": {},
   "source": [
    "\n",
    "A Series is a one-dimensional array containing a sequence of values of any data type \n",
    "(int, float, list, string, etc) which by default have numeric data labels starting from zero. \n",
    "The data label associated with a particular value is called its index. \n",
    "We can also assign values of other data types as index. \n",
    "We can imagine a Pandas Series as a column in a spreadsheet. \n",
    "\n",
    "Example of a series containing names of students is given below:\n",
    "\n",
    "Index Value\n",
    "0     Arnab\n",
    "1     Samridhi\n",
    "2     Ramit\n",
    "3     Divyam\n",
    "4     Kritika\n"
   ]
  },
  {
   "cell_type": "markdown",
   "id": "324e3904-1a01-4e5b-afef-ef3aa451221d",
   "metadata": {},
   "source": [
    "####  Creation of Series\n",
    "There are different ways in which a series can be created \n",
    "in Pandas.\n",
    " To create or use series, we first need to import\r\n",
    "the Pandas library."
   ]
  },
  {
   "cell_type": "markdown",
   "id": "fe162e2f-9481-4771-ae2d-526665a17300",
   "metadata": {},
   "source": [
    "##### A) Creation of Series from Scalar Values\n",
    "A Series can be created using scalar values as shown in \n",
    "the example below:"
   ]
  },
  {
   "cell_type": "code",
   "execution_count": 5,
   "id": "486cb387-742a-40a7-92bd-1b9dc38a536d",
   "metadata": {},
   "outputs": [],
   "source": [
    "import pandas as pd        #import Pandas with alias pd\n",
    "import numpy as np"
   ]
  },
  {
   "cell_type": "code",
   "execution_count": 6,
   "id": "e3dec55a-d5fa-4cb3-b123-7f85874ce6f8",
   "metadata": {},
   "outputs": [
    {
     "data": {
      "text/plain": [
       "0    10\n",
       "1    20\n",
       "2    30\n",
       "3    40\n",
       "dtype: int64"
      ]
     },
     "execution_count": 6,
     "metadata": {},
     "output_type": "execute_result"
    }
   ],
   "source": [
    "series1 = pd.Series([10, 20, 30, 40])\n",
    "series1"
   ]
  },
  {
   "cell_type": "code",
   "execution_count": 7,
   "id": "7395979b-05d2-4f5c-997e-529015da08bc",
   "metadata": {},
   "outputs": [
    {
     "data": {
      "text/plain": [
       "3     Kavi\n",
       "5    Shyam\n",
       "1     Ravi\n",
       "dtype: object"
      ]
     },
     "execution_count": 7,
     "metadata": {},
     "output_type": "execute_result"
    }
   ],
   "source": [
    "series2 = pd.Series([\"Kavi\", \"Shyam\", \"Ravi\"], index = [3, 5, 1])\n",
    "series2"
   ]
  },
  {
   "cell_type": "code",
   "execution_count": 8,
   "id": "a565a485-6825-4230-93d6-e97cd68d88c0",
   "metadata": {},
   "outputs": [
    {
     "data": {
      "text/plain": [
       "Jan    1\n",
       "Feb    2\n",
       "Mar    3\n",
       "Apr    4\n",
       "dtype: int64"
      ]
     },
     "execution_count": 8,
     "metadata": {},
     "output_type": "execute_result"
    }
   ],
   "source": [
    "series3 = pd.Series([1, 2, 3, 4], index = [\"Jan\", \"Feb\", \"Mar\", \"Apr\"])\n",
    "series3"
   ]
  },
  {
   "cell_type": "markdown",
   "id": "d0a5bbf8-51f2-4c05-8450-275979271720",
   "metadata": {},
   "source": [
    "##### B) Creation of Series from NumPy Arrays\n",
    "We can create a series from a one-dimensional (1D) \n",
    "NumPy array, as shown below:"
   ]
  },
  {
   "cell_type": "code",
   "execution_count": 9,
   "id": "2a93a6cb-03e0-4773-a623-17f63f536664",
   "metadata": {},
   "outputs": [],
   "source": [
    "array1 = np.array([1, 2, 3, 4])"
   ]
  },
  {
   "cell_type": "code",
   "execution_count": 10,
   "id": "529e5895-929c-40ef-ad4a-86e46f3c0b3a",
   "metadata": {},
   "outputs": [
    {
     "data": {
      "text/plain": [
       "0    1\n",
       "1    2\n",
       "2    3\n",
       "3    4\n",
       "dtype: int32"
      ]
     },
     "execution_count": 10,
     "metadata": {},
     "output_type": "execute_result"
    }
   ],
   "source": [
    "series4 = pd.Series(array1)\n",
    "series4"
   ]
  },
  {
   "cell_type": "code",
   "execution_count": 11,
   "id": "3e225007-f408-4954-84a2-9d6588f1a0f2",
   "metadata": {},
   "outputs": [
    {
     "data": {
      "text/plain": [
       "Monday       1\n",
       "Tuesday      2\n",
       "Wednesday    3\n",
       "Thursday     4\n",
       "dtype: int32"
      ]
     },
     "execution_count": 11,
     "metadata": {},
     "output_type": "execute_result"
    }
   ],
   "source": [
    "series5 = pd.Series(array1, index = [\"Monday\", \"Tuesday\", \"Wednesday\", \"Thursday\"])\n",
    "series5"
   ]
  },
  {
   "cell_type": "markdown",
   "id": "b6959c37-6aa9-4415-b2af-a7948687ed1b",
   "metadata": {},
   "source": [
    "<b>When index labels are passed with the array, then the length of the index and array must be of the same size, else it will result in a ValueError. \n",
    "In the example shown below, array1 contains 4 values whereas there are only 3 indices, hence <u>ValueError</u> is displayed.</b>\n"
   ]
  },
  {
   "cell_type": "code",
   "execution_count": 12,
   "id": "7892cdfc-a05d-4d9d-8abe-81a723b66e3f",
   "metadata": {},
   "outputs": [
    {
     "ename": "ValueError",
     "evalue": "Length of values (4) does not match length of index (3)",
     "output_type": "error",
     "traceback": [
      "\u001b[1;31m---------------------------------------------------------------------------\u001b[0m",
      "\u001b[1;31mValueError\u001b[0m                                Traceback (most recent call last)",
      "Cell \u001b[1;32mIn[12], line 1\u001b[0m\n\u001b[1;32m----> 1\u001b[0m series5 \u001b[38;5;241m=\u001b[39m \u001b[43mpd\u001b[49m\u001b[38;5;241;43m.\u001b[39;49m\u001b[43mSeries\u001b[49m\u001b[43m(\u001b[49m\u001b[43marray1\u001b[49m\u001b[43m,\u001b[49m\u001b[43m \u001b[49m\u001b[43mindex\u001b[49m\u001b[43m \u001b[49m\u001b[38;5;241;43m=\u001b[39;49m\u001b[43m \u001b[49m\u001b[43m[\u001b[49m\u001b[38;5;124;43m\"\u001b[39;49m\u001b[38;5;124;43mMonday\u001b[39;49m\u001b[38;5;124;43m\"\u001b[39;49m\u001b[43m,\u001b[49m\u001b[43m \u001b[49m\u001b[38;5;124;43m\"\u001b[39;49m\u001b[38;5;124;43mTuesday\u001b[39;49m\u001b[38;5;124;43m\"\u001b[39;49m\u001b[43m,\u001b[49m\u001b[43m \u001b[49m\u001b[38;5;124;43m\"\u001b[39;49m\u001b[38;5;124;43mWednesday\u001b[39;49m\u001b[38;5;124;43m\"\u001b[39;49m\u001b[43m]\u001b[49m\u001b[43m)\u001b[49m\n\u001b[0;32m      2\u001b[0m series5\n",
      "File \u001b[1;32m~\\AppData\\Local\\Programs\\Python\\Python312\\Lib\\site-packages\\pandas\\core\\series.py:575\u001b[0m, in \u001b[0;36mSeries.__init__\u001b[1;34m(self, data, index, dtype, name, copy, fastpath)\u001b[0m\n\u001b[0;32m    573\u001b[0m     index \u001b[38;5;241m=\u001b[39m default_index(\u001b[38;5;28mlen\u001b[39m(data))\n\u001b[0;32m    574\u001b[0m \u001b[38;5;28;01melif\u001b[39;00m is_list_like(data):\n\u001b[1;32m--> 575\u001b[0m     \u001b[43mcom\u001b[49m\u001b[38;5;241;43m.\u001b[39;49m\u001b[43mrequire_length_match\u001b[49m\u001b[43m(\u001b[49m\u001b[43mdata\u001b[49m\u001b[43m,\u001b[49m\u001b[43m \u001b[49m\u001b[43mindex\u001b[49m\u001b[43m)\u001b[49m\n\u001b[0;32m    577\u001b[0m \u001b[38;5;66;03m# create/copy the manager\u001b[39;00m\n\u001b[0;32m    578\u001b[0m \u001b[38;5;28;01mif\u001b[39;00m \u001b[38;5;28misinstance\u001b[39m(data, (SingleBlockManager, SingleArrayManager)):\n",
      "File \u001b[1;32m~\\AppData\\Local\\Programs\\Python\\Python312\\Lib\\site-packages\\pandas\\core\\common.py:573\u001b[0m, in \u001b[0;36mrequire_length_match\u001b[1;34m(data, index)\u001b[0m\n\u001b[0;32m    569\u001b[0m \u001b[38;5;250m\u001b[39m\u001b[38;5;124;03m\"\"\"\u001b[39;00m\n\u001b[0;32m    570\u001b[0m \u001b[38;5;124;03mCheck the length of data matches the length of the index.\u001b[39;00m\n\u001b[0;32m    571\u001b[0m \u001b[38;5;124;03m\"\"\"\u001b[39;00m\n\u001b[0;32m    572\u001b[0m \u001b[38;5;28;01mif\u001b[39;00m \u001b[38;5;28mlen\u001b[39m(data) \u001b[38;5;241m!=\u001b[39m \u001b[38;5;28mlen\u001b[39m(index):\n\u001b[1;32m--> 573\u001b[0m     \u001b[38;5;28;01mraise\u001b[39;00m \u001b[38;5;167;01mValueError\u001b[39;00m(\n\u001b[0;32m    574\u001b[0m         \u001b[38;5;124m\"\u001b[39m\u001b[38;5;124mLength of values \u001b[39m\u001b[38;5;124m\"\u001b[39m\n\u001b[0;32m    575\u001b[0m         \u001b[38;5;124mf\u001b[39m\u001b[38;5;124m\"\u001b[39m\u001b[38;5;124m(\u001b[39m\u001b[38;5;132;01m{\u001b[39;00m\u001b[38;5;28mlen\u001b[39m(data)\u001b[38;5;132;01m}\u001b[39;00m\u001b[38;5;124m) \u001b[39m\u001b[38;5;124m\"\u001b[39m\n\u001b[0;32m    576\u001b[0m         \u001b[38;5;124m\"\u001b[39m\u001b[38;5;124mdoes not match length of index \u001b[39m\u001b[38;5;124m\"\u001b[39m\n\u001b[0;32m    577\u001b[0m         \u001b[38;5;124mf\u001b[39m\u001b[38;5;124m\"\u001b[39m\u001b[38;5;124m(\u001b[39m\u001b[38;5;132;01m{\u001b[39;00m\u001b[38;5;28mlen\u001b[39m(index)\u001b[38;5;132;01m}\u001b[39;00m\u001b[38;5;124m)\u001b[39m\u001b[38;5;124m\"\u001b[39m\n\u001b[0;32m    578\u001b[0m     )\n",
      "\u001b[1;31mValueError\u001b[0m: Length of values (4) does not match length of index (3)"
     ]
    }
   ],
   "source": [
    "series5 = pd.Series(array1, index = [\"Monday\", \"Tuesday\", \"Wednesday\"])\n",
    "series5"
   ]
  },
  {
   "cell_type": "code",
   "execution_count": null,
   "id": "dfa2473d-f462-4a04-bdd5-15127a72c08c",
   "metadata": {},
   "outputs": [],
   "source": [
    "dict1 = {\n",
    "    \"India\" : \"NewDelhi\",\n",
    "    \"United Kingdom\" : \"London\",\n",
    "    \"Japan\" : \"Tokyo\",\n",
    "    \"Russia\" : \"Moscow\",\n",
    "    \"Bangladesh\" : \"Dhaka\"\n",
    "}\n",
    "\n",
    "\n",
    "series6 = pd.Series(dict1)\n",
    "series6"
   ]
  },
  {
   "cell_type": "markdown",
   "id": "5adac7ae-d277-401b-bf5f-c6970050c450",
   "metadata": {},
   "source": [
    "####  Accessing Elements of a Series\n",
    "There are two common ways for accessing the elements \n",
    "of a series:\n",
    "<p> Indexing and Slicing</p>."
   ]
  },
  {
   "cell_type": "markdown",
   "id": "99d62e87-d5f5-4938-b9f5-bc843fc27b7a",
   "metadata": {},
   "source": [
    "##### A) Indexing"
   ]
  },
  {
   "cell_type": "code",
   "execution_count": null,
   "id": "4560bdea-c2e6-42f0-a097-e71a1ba2c58a",
   "metadata": {},
   "outputs": [],
   "source": [
    "seriesNum = pd.Series([1, 20, 30, 40, 50])\n",
    "\n",
    "seriesNum[2]"
   ]
  },
  {
   "cell_type": "code",
   "execution_count": null,
   "id": "3fdccabf-b432-4dd5-8cdf-ad29eabfdeb5",
   "metadata": {},
   "outputs": [],
   "source": [
    "seriesMnths = pd.Series([1, 2, 3, 4], index = [\"Jan\", \"Feb\", \"Mar\", \"Apr\"])\n",
    "\n",
    "print(seriesMnths)\n",
    "\n",
    "seriesMnths[\"Apr\"]"
   ]
  },
  {
   "cell_type": "code",
   "execution_count": null,
   "id": "3507d655-f061-4019-9360-86985cb089d1",
   "metadata": {},
   "outputs": [],
   "source": [
    "seriesCapCountry = pd.Series([\"New Delhi\", \"Washington DC\", \"London\", \"Paris\"], index = [\"India\", \"USA\", \"UK\", \"France\"])\n",
    "seriesCapCountry"
   ]
  },
  {
   "cell_type": "markdown",
   "id": "674d7b67-1b8c-452f-9a35-85a14c5a9401",
   "metadata": {},
   "source": [
    "<b>We can also access an element of the series using the positional index:</b>"
   ]
  },
  {
   "cell_type": "code",
   "execution_count": null,
   "id": "90f8d118-7621-43bf-adbc-ea1e77d73ae3",
   "metadata": {},
   "outputs": [],
   "source": [
    "print(seriesCapCountry[\"USA\"])\n",
    "print(seriesCapCountry[1])"
   ]
  },
  {
   "cell_type": "code",
   "execution_count": null,
   "id": "836cec16-3ca9-4a3a-a688-e4e63d756de4",
   "metadata": {},
   "outputs": [],
   "source": [
    "# More than one element of a series can be accessed using a list of positional integers or a list of index labels as shown in the following examples:\n",
    "\n",
    "seriesCapCountry[[3, 2]]"
   ]
  },
  {
   "cell_type": "code",
   "execution_count": null,
   "id": "01bce15c-dbcc-40a7-914d-190aa06cc925",
   "metadata": {},
   "outputs": [],
   "source": [
    "# The index values associated with the series can be altered by assigning new index values as shown in the following example:\n",
    "\n",
    "seriesCapCountry.index = [10, 20, 30, 40]\n",
    "seriesCapCountry"
   ]
  },
  {
   "cell_type": "markdown",
   "id": "9fb33b2a-038a-4b14-91bc-1b61b47051ce",
   "metadata": {},
   "source": [
    "##### B) Slicing "
   ]
  },
  {
   "cell_type": "code",
   "execution_count": null,
   "id": "b59d2472-6ff0-49be-886e-c7fd821f16aa",
   "metadata": {},
   "outputs": [],
   "source": [
    "seriesCapCountry[\"USA\" : \"France\"]"
   ]
  },
  {
   "cell_type": "code",
   "execution_count": null,
   "id": "795a4cba-4742-4b31-8f8a-4d8da16e1a49",
   "metadata": {},
   "outputs": [],
   "source": [
    "seriesCapCountry[1:3]"
   ]
  },
  {
   "cell_type": "markdown",
   "id": "068c5abb-6b1a-4da9-8731-da7e38cf38f1",
   "metadata": {},
   "source": [
    "<b>We can also get the series in reverse order, for example: </b>"
   ]
  },
  {
   "cell_type": "code",
   "execution_count": null,
   "id": "5b9c246f-a359-4a71-9df9-3e4f9793d15e",
   "metadata": {},
   "outputs": [],
   "source": [
    "seriesCapCountry[ : : -1]"
   ]
  },
  {
   "cell_type": "code",
   "execution_count": null,
   "id": "7397e057-f23f-463f-a459-31ece29101ef",
   "metadata": {},
   "outputs": [],
   "source": [
    "seriesCapCountry[ : : 1]  # India can't be down in the Series"
   ]
  },
  {
   "cell_type": "code",
   "execution_count": null,
   "id": "530fa379-f605-4b93-9bc5-5ba92d9daa77",
   "metadata": {},
   "outputs": [],
   "source": [
    "seriesAlpha = pd.Series(np.arange(10,16,1), index = [\"a\", \"b\", \"c\", \"d\", \"e\", \"f\"])\n",
    "seriesAlpha"
   ]
  },
  {
   "cell_type": "code",
   "execution_count": null,
   "id": "8f2ec049-78ce-4d1d-a75f-4b32164b581a",
   "metadata": {},
   "outputs": [],
   "source": [
    "seriesAlpha[1:3] = 50\n",
    "seriesAlpha"
   ]
  },
  {
   "cell_type": "code",
   "execution_count": null,
   "id": "ebd21661-fda3-416f-b75f-232253d3ad87",
   "metadata": {},
   "outputs": [],
   "source": [
    "seriesAlpha[\"c\":\"e\"] = 500\n",
    "seriesAlpha"
   ]
  },
  {
   "cell_type": "markdown",
   "id": "e7530f99-5842-45d6-991d-83ae108967fa",
   "metadata": {},
   "source": [
    "####  Attributes of Series in Pandas"
   ]
  },
  {
   "cell_type": "code",
   "execution_count": null,
   "id": "c26982b0-d26f-42e7-a77d-27a4dabbebfd",
   "metadata": {},
   "outputs": [],
   "source": [
    "print(seriesCapCountry)\n",
    "type(seriesCapCountry)"
   ]
  },
  {
   "cell_type": "markdown",
   "id": "878ba7b9-01cb-40f6-88fa-7ee665e299de",
   "metadata": {},
   "source": [
    "<p>.name : assigns a name to the Series</p>"
   ]
  },
  {
   "cell_type": "code",
   "execution_count": null,
   "id": "0e4b546c-cf3e-4345-ba1b-599617d90367",
   "metadata": {},
   "outputs": [],
   "source": [
    "seriesCapCountry.name = \"Capitals\"\n",
    "print(seriesCapCountry)"
   ]
  },
  {
   "cell_type": "markdown",
   "id": "7dde4239-99bd-4646-8176-cb2f5f4a7438",
   "metadata": {},
   "source": [
    "<p>.index.name assigns a name to the index of the series</p>"
   ]
  },
  {
   "cell_type": "code",
   "execution_count": null,
   "id": "fe5d221c-f19f-4d19-ac10-394ae0539f3d",
   "metadata": {},
   "outputs": [],
   "source": [
    "seriesCapCountry.index.name = \"Countries\"\n",
    "seriesCapCountry.name = \"Capitals\"\n",
    "print(seriesCapCountry)"
   ]
  },
  {
   "cell_type": "markdown",
   "id": "be9c16c0-1a34-4dbc-aff1-2e025a38c387",
   "metadata": {},
   "source": [
    "<p>.values prints a list of the values in the series</p>"
   ]
  },
  {
   "cell_type": "code",
   "execution_count": null,
   "id": "efd7ba66-2153-43de-9a2c-4fbcd526bbea",
   "metadata": {},
   "outputs": [],
   "source": [
    "seriesCapCountry.values"
   ]
  },
  {
   "cell_type": "markdown",
   "id": "bd92bfac-9bd3-4353-a201-3bafc4677502",
   "metadata": {},
   "source": [
    "<p>size prints the number of values in the Series object</p>"
   ]
  },
  {
   "cell_type": "code",
   "execution_count": null,
   "id": "f4805b1e-a2cc-4738-962d-093f3204a397",
   "metadata": {},
   "outputs": [],
   "source": [
    "seriesCapCountry.size"
   ]
  },
  {
   "cell_type": "markdown",
   "id": "c76c231d-8f38-4b45-8517-8736e502ea17",
   "metadata": {},
   "source": [
    "<p>.empty prints True if the series is \n",
    "empty, and False otherwise</p>"
   ]
  },
  {
   "cell_type": "code",
   "execution_count": null,
   "id": "20ace478-20f8-410a-bef8-37bb6051b5b8",
   "metadata": {},
   "outputs": [],
   "source": [
    "print(seriesCapCountry.empty)\n",
    "\n",
    "# Creating an empty series \n",
    "seriesEmpt=pd.Series()\n",
    "seriesEmpt.empty"
   ]
  },
  {
   "cell_type": "markdown",
   "id": "8658472a-4eeb-4160-9b18-1cb9a8e5c913",
   "metadata": {},
   "source": [
    "#### Methods of Series"
   ]
  },
  {
   "cell_type": "code",
   "execution_count": 14,
   "id": "75dc2bac-8a28-4e84-b185-ab079726a27b",
   "metadata": {},
   "outputs": [
    {
     "data": {
      "text/plain": [
       "0    10\n",
       "1    11\n",
       "2    12\n",
       "3    13\n",
       "4    14\n",
       "5    15\n",
       "6    16\n",
       "7    17\n",
       "8    18\n",
       "9    19\n",
       "dtype: int32"
      ]
     },
     "execution_count": 14,
     "metadata": {},
     "output_type": "execute_result"
    }
   ],
   "source": [
    "seriesTenTwenty = pd.Series(np.arange(10, 20, 1))\n",
    "seriesTenTwenty"
   ]
  },
  {
   "cell_type": "markdown",
   "id": "bdf90382-f752-40e4-b071-d75277cddbcd",
   "metadata": {},
   "source": [
    "<u>head(n)</u> Returns the first n members of the series. If the value for n is not passed, then by default n takes 5 and the first five members are displayed."
   ]
  },
  {
   "cell_type": "code",
   "execution_count": 15,
   "id": "94c42be8-4ae4-4fb6-8cae-ab4f166bb5c6",
   "metadata": {},
   "outputs": [
    {
     "data": {
      "text/plain": [
       "0    10\n",
       "1    11\n",
       "dtype: int32"
      ]
     },
     "execution_count": 15,
     "metadata": {},
     "output_type": "execute_result"
    }
   ],
   "source": [
    "seriesTenTwenty.head(2)"
   ]
  },
  {
   "cell_type": "code",
   "execution_count": 16,
   "id": "2aab42b9-c016-4be5-95cf-e3568cc3f95e",
   "metadata": {},
   "outputs": [
    {
     "data": {
      "text/plain": [
       "0    10\n",
       "1    11\n",
       "2    12\n",
       "3    13\n",
       "4    14\n",
       "dtype: int32"
      ]
     },
     "execution_count": 16,
     "metadata": {},
     "output_type": "execute_result"
    }
   ],
   "source": [
    "seriesTenTwenty.head()"
   ]
  },
  {
   "cell_type": "markdown",
   "id": "4c2c9eac-2c6d-4338-b281-ced089944215",
   "metadata": {},
   "source": [
    "<u>tail(n)</u> Returns the last n members of the series. If the value for n is not passed, then by default n takes 5 and the last five members are displayed."
   ]
  },
  {
   "cell_type": "code",
   "execution_count": 18,
   "id": "081a5a2a-eea0-4384-9435-c134ca6d9260",
   "metadata": {},
   "outputs": [
    {
     "data": {
      "text/plain": [
       "8    18\n",
       "9    19\n",
       "dtype: int32"
      ]
     },
     "execution_count": 18,
     "metadata": {},
     "output_type": "execute_result"
    }
   ],
   "source": [
    "seriesTenTwenty.tail(2)"
   ]
  },
  {
   "cell_type": "code",
   "execution_count": 19,
   "id": "a44c26f3-8287-4a78-bb2e-fe77debdab66",
   "metadata": {},
   "outputs": [
    {
     "data": {
      "text/plain": [
       "5    15\n",
       "6    16\n",
       "7    17\n",
       "8    18\n",
       "9    19\n",
       "dtype: int32"
      ]
     },
     "execution_count": 19,
     "metadata": {},
     "output_type": "execute_result"
    }
   ],
   "source": [
    "seriesTenTwenty.tail()"
   ]
  },
  {
   "cell_type": "markdown",
   "id": "aef08ace-e834-469b-8171-fe53fce38be2",
   "metadata": {},
   "source": [
    "<u>count()</u> Returns the number of non-NaN values in the Series"
   ]
  },
  {
   "cell_type": "code",
   "execution_count": 23,
   "id": "0d9d7220-624c-4f43-9b7a-158cf5cbecda",
   "metadata": {},
   "outputs": [
    {
     "data": {
      "text/plain": [
       "10"
      ]
     },
     "execution_count": 23,
     "metadata": {},
     "output_type": "execute_result"
    }
   ],
   "source": [
    "seriesTenTwenty.count()"
   ]
  },
  {
   "cell_type": "markdown",
   "id": "3c8bd40b-7d68-4602-9a05-fb3e642c346c",
   "metadata": {},
   "source": [
    "#### Mathematical Operations on Series"
   ]
  },
  {
   "cell_type": "code",
   "execution_count": 24,
   "id": "0bc21b43-0b0d-4399-80ff-c586b3a81d6c",
   "metadata": {},
   "outputs": [
    {
     "data": {
      "text/plain": [
       "a    1\n",
       "b    2\n",
       "c    3\n",
       "d    4\n",
       "e    5\n",
       "dtype: int64"
      ]
     },
     "execution_count": 24,
     "metadata": {},
     "output_type": "execute_result"
    }
   ],
   "source": [
    "seriesA = pd.Series([1, 2, 3, 4,  5], index = [\"a\", \"b\", \"c\", \"d\", \"e\"])\n",
    "seriesA"
   ]
  },
  {
   "cell_type": "code",
   "execution_count": 25,
   "id": "ea3d121c-9e74-4836-913f-f5bd8307b7ed",
   "metadata": {},
   "outputs": [
    {
     "data": {
      "text/plain": [
       "z     10\n",
       "y     20\n",
       "a    -10\n",
       "c    -50\n",
       "e    100\n",
       "dtype: int64"
      ]
     },
     "execution_count": 25,
     "metadata": {},
     "output_type": "execute_result"
    }
   ],
   "source": [
    "seriesB = pd.Series([10, 20, -10, -50, 100], index = [\"z\", \"y\", \"a\", \"c\", \"e\"])\n",
    "seriesB"
   ]
  },
  {
   "cell_type": "markdown",
   "id": "a0dea372-20af-40d7-ae2c-4d9020b961b5",
   "metadata": {},
   "source": [
    "##### A) Addition of two Series\n",
    "\n",
    "It can be done in two ways. \n",
    "In the <b>first method</b>, two \n",
    "series are simply added togethe\n",
    "Note here \n",
    "that the output of addition is NaN if one of th  elements\r\n",
    "or both elements have no value.r"
   ]
  },
  {
   "cell_type": "code",
   "execution_count": 27,
   "id": "fc6779f7-50ef-4f04-8dd5-3bcc00713a33",
   "metadata": {},
   "outputs": [
    {
     "data": {
      "text/plain": [
       "a     -9.0\n",
       "b      NaN\n",
       "c    -47.0\n",
       "d      NaN\n",
       "e    105.0\n",
       "y      NaN\n",
       "z      NaN\n",
       "dtype: float64"
      ]
     },
     "execution_count": 27,
     "metadata": {},
     "output_type": "execute_result"
    }
   ],
   "source": [
    "seriesA + seriesB"
   ]
  },
  {
   "cell_type": "markdown",
   "id": "3cce5d25-9ac0-4546-ae94-a84144a9cd3b",
   "metadata": {},
   "source": [
    "<img src= \"pandas addition of Two Series.jpg\">Pictorial Representation</img>N\r\n",
    "z 10 NaN"
   ]
  },
  {
   "cell_type": "markdown",
   "id": "ff98b26e-229d-4404-9fb3-23a206e8c206",
   "metadata": {},
   "source": [
    "The <b>second method</b> is applied when we do not want to have NaN values in the output. We can use the series method add(). That is, calling seriesA.add(seriesB) is equivalent to calling seriesA+seriesB."
   ]
  },
  {
   "cell_type": "code",
   "execution_count": 28,
   "id": "eda15d97-12d8-4e68-a05d-e3bbc7d4514e",
   "metadata": {},
   "outputs": [
    {
     "data": {
      "text/plain": [
       "a     -9.0\n",
       "b      NaN\n",
       "c    -47.0\n",
       "d      NaN\n",
       "e    105.0\n",
       "y      NaN\n",
       "z      NaN\n",
       "dtype: float64"
      ]
     },
     "execution_count": 28,
     "metadata": {},
     "output_type": "execute_result"
    }
   ],
   "source": [
    "seriesA.add(seriesB)"
   ]
  },
  {
   "cell_type": "markdown",
   "id": "0255f766-35ab-4702-b7a3-49590586ca57",
   "metadata": {},
   "source": [
    "We can use the series method add() and a parameter fill_value to replace missing value with a specified value. add() allows explicit specification of the fill value for any element in seriesA or seriesB that might be missing"
   ]
  },
  {
   "cell_type": "code",
   "execution_count": 29,
   "id": "f9030e62-15fe-4fdb-b374-0cea37e71178",
   "metadata": {},
   "outputs": [
    {
     "data": {
      "text/plain": [
       "a     -9.0\n",
       "b      2.0\n",
       "c    -47.0\n",
       "d      4.0\n",
       "e    105.0\n",
       "y     20.0\n",
       "z     10.0\n",
       "dtype: float64"
      ]
     },
     "execution_count": 29,
     "metadata": {},
     "output_type": "execute_result"
    }
   ],
   "source": [
    "seriesA.add(seriesB, fill_value = 0)"
   ]
  },
  {
   "cell_type": "markdown",
   "id": "1da21663-faa2-4f7d-9685-5ca827812345",
   "metadata": {},
   "source": [
    "##### B) Subtraction of two Series"
   ]
  },
  {
   "cell_type": "code",
   "execution_count": 31,
   "id": "ea26e1f2-cb09-4e5c-96b7-a3278332177c",
   "metadata": {},
   "outputs": [
    {
     "data": {
      "text/plain": [
       "a    11.0\n",
       "b     NaN\n",
       "c    53.0\n",
       "d     NaN\n",
       "e   -95.0\n",
       "y     NaN\n",
       "z     NaN\n",
       "dtype: float64"
      ]
     },
     "execution_count": 31,
     "metadata": {},
     "output_type": "execute_result"
    }
   ],
   "source": [
    "seriesA - seriesB"
   ]
  },
  {
   "cell_type": "code",
   "execution_count": 35,
   "id": "a1dab079-5d00-4aba-bb1f-67d694cf4dc1",
   "metadata": {},
   "outputs": [
    {
     "data": {
      "text/plain": [
       "a    11.0\n",
       "b     2.0\n",
       "c    53.0\n",
       "d     4.0\n",
       "e   -95.0\n",
       "y   -20.0\n",
       "z   -10.0\n",
       "dtype: float64"
      ]
     },
     "execution_count": 35,
     "metadata": {},
     "output_type": "execute_result"
    }
   ],
   "source": [
    "seriesA.sub(seriesB, fill_value = 0)"
   ]
  },
  {
   "cell_type": "markdown",
   "id": "984592a3-251d-424f-9c8c-957d29c59758",
   "metadata": {},
   "source": [
    "##### C) Multiplication of two Series"
   ]
  },
  {
   "cell_type": "code",
   "execution_count": 36,
   "id": "a653c0ec-f0c3-45f6-89c8-e46489f7bbc0",
   "metadata": {},
   "outputs": [
    {
     "data": {
      "text/plain": [
       "a    -10.0\n",
       "b      NaN\n",
       "c   -150.0\n",
       "d      NaN\n",
       "e    500.0\n",
       "y      NaN\n",
       "z      NaN\n",
       "dtype: float64"
      ]
     },
     "execution_count": 36,
     "metadata": {},
     "output_type": "execute_result"
    }
   ],
   "source": [
    "seriesA * seriesB"
   ]
  },
  {
   "cell_type": "code",
   "execution_count": 37,
   "id": "f545e860-6a35-417a-a2ef-cd9f57beb00b",
   "metadata": {},
   "outputs": [
    {
     "data": {
      "text/plain": [
       "a    -10.0\n",
       "b      0.0\n",
       "c   -150.0\n",
       "d      0.0\n",
       "e    500.0\n",
       "y      0.0\n",
       "z      0.0\n",
       "dtype: float64"
      ]
     },
     "execution_count": 37,
     "metadata": {},
     "output_type": "execute_result"
    }
   ],
   "source": [
    "seriesA.mul(seriesB, fill_value = 0)"
   ]
  },
  {
   "cell_type": "markdown",
   "id": "3b7e17aa-22dd-4dd9-a082-f29cf6b7ea48",
   "metadata": {},
   "source": [
    "##### D) Division of two Series"
   ]
  },
  {
   "cell_type": "code",
   "execution_count": 38,
   "id": "ab10f2bc-9c3c-467b-9867-250cbff5fa1f",
   "metadata": {},
   "outputs": [
    {
     "data": {
      "text/plain": [
       "a   -0.10\n",
       "b     NaN\n",
       "c   -0.06\n",
       "d     NaN\n",
       "e    0.05\n",
       "y     NaN\n",
       "z     NaN\n",
       "dtype: float64"
      ]
     },
     "execution_count": 38,
     "metadata": {},
     "output_type": "execute_result"
    }
   ],
   "source": [
    "seriesA / seriesB"
   ]
  },
  {
   "cell_type": "code",
   "execution_count": 39,
   "id": "058015d5-5498-43ac-86d9-e7bc9356c12a",
   "metadata": {},
   "outputs": [
    {
     "data": {
      "text/plain": [
       "a   -0.10\n",
       "b     inf\n",
       "c   -0.06\n",
       "d     inf\n",
       "e    0.05\n",
       "y    0.00\n",
       "z    0.00\n",
       "dtype: float64"
      ]
     },
     "execution_count": 39,
     "metadata": {},
     "output_type": "execute_result"
    }
   ],
   "source": [
    "seriesA.div(seriesB, fill_value = 0)"
   ]
  }
 ],
 "metadata": {
  "kernelspec": {
   "display_name": "Python 3 (ipykernel)",
   "language": "python",
   "name": "python3"
  },
  "language_info": {
   "codemirror_mode": {
    "name": "ipython",
    "version": 3
   },
   "file_extension": ".py",
   "mimetype": "text/x-python",
   "name": "python",
   "nbconvert_exporter": "python",
   "pygments_lexer": "ipython3",
   "version": "3.12.2"
  }
 },
 "nbformat": 4,
 "nbformat_minor": 5
}
